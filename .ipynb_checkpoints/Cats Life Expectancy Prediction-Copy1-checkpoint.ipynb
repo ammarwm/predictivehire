{
 "cells": [
  {
   "cell_type": "markdown",
   "metadata": {},
   "source": [
    "### The Task\n",
    "\n",
    "To create a predictive model that can be used to predict the life expectancy in years of any cat. The model will be\n",
    "created based on the data given in the file (cats.csv)."
   ]
  },
  {
   "cell_type": "markdown",
   "metadata": {},
   "source": [
    "#### Loading the necessary libraries"
   ]
  },
  {
   "cell_type": "code",
   "execution_count": 1,
   "metadata": {
    "collapsed": true
   },
   "outputs": [],
   "source": [
    "import warnings\n",
    "\n",
    "warnings.filterwarnings('ignore')\n",
    "import os\n",
    "import pandas as pd\n",
    "import numpy as np\n",
    "from sklearn.model_selection import train_test_split\n",
    "from sklearn.metrics import confusion_matrix, classification_report, roc_auc_score, roc_curve, mean_squared_error\n",
    "from sklearn.linear_model import LogisticRegression\n",
    "from sklearn.ensemble import RandomForestClassifier\n",
    "from sklearn.feature_selection import RFE\n",
    "from sklearn.feature_selection import RFECV\n",
    "from sklearn.model_selection import StratifiedKFold\n",
    "import xgboost as xgb\n",
    "\n",
    "\n",
    "from sklearn.svm import SVC\n",
    "\n",
    "from sklearn import linear_model\n",
    "from sklearn.metrics import r2_score\n",
    "\n",
    "from pandas.plotting import scatter_matrix\n",
    "\n",
    "import statsmodels.api as sm\n",
    "\n",
    "import matplotlib.pyplot as plt\n",
    "%matplotlib inline\n",
    "\n",
    "import seaborn as sb\n",
    "\n",
    "import statsmodels.api as sm"
   ]
  },
  {
   "cell_type": "markdown",
   "metadata": {},
   "source": [
    "### Loading the data"
   ]
  },
  {
   "cell_type": "code",
   "execution_count": 2,
   "metadata": {
    "collapsed": true
   },
   "outputs": [],
   "source": [
    "cats_df = pd.read_csv('./data/cats.csv')"
   ]
  },
  {
   "cell_type": "code",
   "execution_count": 3,
   "metadata": {
    "collapsed": true
   },
   "outputs": [],
   "source": [
    "#Set the index correctly\n",
    "cats_df = cats_df.set_index(['Unnamed: 0'])\n",
    "cats_df.index.name = 'seq'"
   ]
  },
  {
   "cell_type": "code",
   "execution_count": 4,
   "metadata": {},
   "outputs": [
    {
     "data": {
      "text/html": [
       "<div>\n",
       "<style scoped>\n",
       "    .dataframe tbody tr th:only-of-type {\n",
       "        vertical-align: middle;\n",
       "    }\n",
       "\n",
       "    .dataframe tbody tr th {\n",
       "        vertical-align: top;\n",
       "    }\n",
       "\n",
       "    .dataframe thead th {\n",
       "        text-align: right;\n",
       "    }\n",
       "</style>\n",
       "<table border=\"1\" class=\"dataframe\">\n",
       "  <thead>\n",
       "    <tr style=\"text-align: right;\">\n",
       "      <th></th>\n",
       "      <th>age at death</th>\n",
       "      <th>breed</th>\n",
       "      <th>date of last vet visit</th>\n",
       "      <th>hair length</th>\n",
       "      <th>height</th>\n",
       "      <th>number of vet visits</th>\n",
       "      <th>weight</th>\n",
       "    </tr>\n",
       "    <tr>\n",
       "      <th>seq</th>\n",
       "      <th></th>\n",
       "      <th></th>\n",
       "      <th></th>\n",
       "      <th></th>\n",
       "      <th></th>\n",
       "      <th></th>\n",
       "      <th></th>\n",
       "    </tr>\n",
       "  </thead>\n",
       "  <tbody>\n",
       "    <tr>\n",
       "      <th>0</th>\n",
       "      <td>7.0</td>\n",
       "      <td>Siamese</td>\n",
       "      <td>2009-08-02 14:02:18</td>\n",
       "      <td>0.883886</td>\n",
       "      <td>21.611951</td>\n",
       "      <td>5</td>\n",
       "      <td>4.0</td>\n",
       "    </tr>\n",
       "    <tr>\n",
       "      <th>1</th>\n",
       "      <td>9.0</td>\n",
       "      <td>Siamese</td>\n",
       "      <td>2013-11-27 19:08:52</td>\n",
       "      <td>1.221535</td>\n",
       "      <td>26.451956</td>\n",
       "      <td>10</td>\n",
       "      <td>4.0</td>\n",
       "    </tr>\n",
       "    <tr>\n",
       "      <th>2</th>\n",
       "      <td>8.0</td>\n",
       "      <td>Manx</td>\n",
       "      <td>2016-01-12 04:39:24</td>\n",
       "      <td>0.967718</td>\n",
       "      <td>18.540191</td>\n",
       "      <td>10</td>\n",
       "      <td>5.0</td>\n",
       "    </tr>\n",
       "    <tr>\n",
       "      <th>3</th>\n",
       "      <td>8.0</td>\n",
       "      <td>Maine Coon</td>\n",
       "      <td>2000-11-24 18:51:18</td>\n",
       "      <td>1.090641</td>\n",
       "      <td>16.564362</td>\n",
       "      <td>12</td>\n",
       "      <td>7.0</td>\n",
       "    </tr>\n",
       "    <tr>\n",
       "      <th>4</th>\n",
       "      <td>8.0</td>\n",
       "      <td>Maine Coon</td>\n",
       "      <td>2014-07-03 22:17:26</td>\n",
       "      <td>1.004712</td>\n",
       "      <td>22.535495</td>\n",
       "      <td>7</td>\n",
       "      <td>7.0</td>\n",
       "    </tr>\n",
       "  </tbody>\n",
       "</table>\n",
       "</div>"
      ],
      "text/plain": [
       "     age at death       breed date of last vet visit  hair length     height  \\\n",
       "seq                                                                            \n",
       "0             7.0     Siamese    2009-08-02 14:02:18     0.883886  21.611951   \n",
       "1             9.0     Siamese    2013-11-27 19:08:52     1.221535  26.451956   \n",
       "2             8.0        Manx    2016-01-12 04:39:24     0.967718  18.540191   \n",
       "3             8.0  Maine Coon    2000-11-24 18:51:18     1.090641  16.564362   \n",
       "4             8.0  Maine Coon    2014-07-03 22:17:26     1.004712  22.535495   \n",
       "\n",
       "     number of vet visits  weight  \n",
       "seq                                \n",
       "0                       5     4.0  \n",
       "1                      10     4.0  \n",
       "2                      10     5.0  \n",
       "3                      12     7.0  \n",
       "4                       7     7.0  "
      ]
     },
     "execution_count": 4,
     "metadata": {},
     "output_type": "execute_result"
    }
   ],
   "source": [
    "cats_df.head()"
   ]
  },
  {
   "cell_type": "code",
   "execution_count": 5,
   "metadata": {
    "collapsed": true
   },
   "outputs": [],
   "source": [
    "#### Converting datetime columns "
   ]
  },
  {
   "cell_type": "code",
   "execution_count": 6,
   "metadata": {
    "collapsed": true
   },
   "outputs": [],
   "source": [
    "cats_df['date of last vet visit'] = cats_df['date of last vet visit'].apply(lambda c: pd.to_datetime(c, errors='coerce'))"
   ]
  },
  {
   "cell_type": "raw",
   "metadata": {},
   "source": [
    "When converting the column 'date of last vet visit' to datetime column, the date format of one of the records (record with index value 47) was wrong: '2009-22-12 02:43:43'. This could be due to a human error when entering the data, otherwise we can not be sure. In general, if we have enough data we could drop it.    "
   ]
  },
  {
   "cell_type": "code",
   "execution_count": 7,
   "metadata": {},
   "outputs": [
    {
     "data": {
      "text/html": [
       "<div>\n",
       "<style scoped>\n",
       "    .dataframe tbody tr th:only-of-type {\n",
       "        vertical-align: middle;\n",
       "    }\n",
       "\n",
       "    .dataframe tbody tr th {\n",
       "        vertical-align: top;\n",
       "    }\n",
       "\n",
       "    .dataframe thead th {\n",
       "        text-align: right;\n",
       "    }\n",
       "</style>\n",
       "<table border=\"1\" class=\"dataframe\">\n",
       "  <thead>\n",
       "    <tr style=\"text-align: right;\">\n",
       "      <th></th>\n",
       "      <th>age at death</th>\n",
       "      <th>breed</th>\n",
       "      <th>date of last vet visit</th>\n",
       "      <th>hair length</th>\n",
       "      <th>height</th>\n",
       "      <th>number of vet visits</th>\n",
       "      <th>weight</th>\n",
       "    </tr>\n",
       "    <tr>\n",
       "      <th>seq</th>\n",
       "      <th></th>\n",
       "      <th></th>\n",
       "      <th></th>\n",
       "      <th></th>\n",
       "      <th></th>\n",
       "      <th></th>\n",
       "      <th></th>\n",
       "    </tr>\n",
       "  </thead>\n",
       "  <tbody>\n",
       "    <tr>\n",
       "      <th>47</th>\n",
       "      <td>8.0</td>\n",
       "      <td>Rex</td>\n",
       "      <td>NaT</td>\n",
       "      <td>1.037497</td>\n",
       "      <td>27.393672</td>\n",
       "      <td>6</td>\n",
       "      <td>6.0</td>\n",
       "    </tr>\n",
       "  </tbody>\n",
       "</table>\n",
       "</div>"
      ],
      "text/plain": [
       "     age at death breed date of last vet visit  hair length     height  \\\n",
       "seq                                                                      \n",
       "47            8.0   Rex                    NaT     1.037497  27.393672   \n",
       "\n",
       "     number of vet visits  weight  \n",
       "seq                                \n",
       "47                      6     6.0  "
      ]
     },
     "execution_count": 7,
     "metadata": {},
     "output_type": "execute_result"
    }
   ],
   "source": [
    "cats_df[cats_df['date of last vet visit'].isnull() == True]"
   ]
  },
  {
   "cell_type": "markdown",
   "metadata": {},
   "source": [
    "### Preprocessing"
   ]
  },
  {
   "cell_type": "code",
   "execution_count": 8,
   "metadata": {},
   "outputs": [
    {
     "data": {
      "text/html": [
       "<div>\n",
       "<style scoped>\n",
       "    .dataframe tbody tr th:only-of-type {\n",
       "        vertical-align: middle;\n",
       "    }\n",
       "\n",
       "    .dataframe tbody tr th {\n",
       "        vertical-align: top;\n",
       "    }\n",
       "\n",
       "    .dataframe thead th {\n",
       "        text-align: right;\n",
       "    }\n",
       "</style>\n",
       "<table border=\"1\" class=\"dataframe\">\n",
       "  <thead>\n",
       "    <tr style=\"text-align: right;\">\n",
       "      <th></th>\n",
       "      <th>age at death</th>\n",
       "      <th>hair length</th>\n",
       "      <th>height</th>\n",
       "      <th>number of vet visits</th>\n",
       "      <th>weight</th>\n",
       "    </tr>\n",
       "  </thead>\n",
       "  <tbody>\n",
       "    <tr>\n",
       "      <th>count</th>\n",
       "      <td>299.000000</td>\n",
       "      <td>2.990000e+02</td>\n",
       "      <td>300.000000</td>\n",
       "      <td>300.000000</td>\n",
       "      <td>300.000000</td>\n",
       "    </tr>\n",
       "    <tr>\n",
       "      <th>mean</th>\n",
       "      <td>9.006689</td>\n",
       "      <td>3.027706e+09</td>\n",
       "      <td>20.498442</td>\n",
       "      <td>8.296667</td>\n",
       "      <td>3.957667</td>\n",
       "    </tr>\n",
       "    <tr>\n",
       "      <th>std</th>\n",
       "      <td>2.892937</td>\n",
       "      <td>5.235392e+10</td>\n",
       "      <td>5.107386</td>\n",
       "      <td>3.820643</td>\n",
       "      <td>2.033624</td>\n",
       "    </tr>\n",
       "    <tr>\n",
       "      <th>min</th>\n",
       "      <td>0.000000</td>\n",
       "      <td>6.904537e-01</td>\n",
       "      <td>5.077179</td>\n",
       "      <td>-1.000000</td>\n",
       "      <td>0.000000</td>\n",
       "    </tr>\n",
       "    <tr>\n",
       "      <th>25%</th>\n",
       "      <td>7.000000</td>\n",
       "      <td>9.377535e-01</td>\n",
       "      <td>16.958241</td>\n",
       "      <td>6.000000</td>\n",
       "      <td>2.000000</td>\n",
       "    </tr>\n",
       "    <tr>\n",
       "      <th>50%</th>\n",
       "      <td>9.000000</td>\n",
       "      <td>1.003253e+00</td>\n",
       "      <td>20.825805</td>\n",
       "      <td>8.000000</td>\n",
       "      <td>4.000000</td>\n",
       "    </tr>\n",
       "    <tr>\n",
       "      <th>75%</th>\n",
       "      <td>11.000000</td>\n",
       "      <td>1.067127e+00</td>\n",
       "      <td>24.043067</td>\n",
       "      <td>11.000000</td>\n",
       "      <td>5.250000</td>\n",
       "    </tr>\n",
       "    <tr>\n",
       "      <th>max</th>\n",
       "      <td>18.000000</td>\n",
       "      <td>9.052840e+11</td>\n",
       "      <td>33.043014</td>\n",
       "      <td>19.000000</td>\n",
       "      <td>10.000000</td>\n",
       "    </tr>\n",
       "  </tbody>\n",
       "</table>\n",
       "</div>"
      ],
      "text/plain": [
       "       age at death   hair length      height  number of vet visits  \\\n",
       "count    299.000000  2.990000e+02  300.000000            300.000000   \n",
       "mean       9.006689  3.027706e+09   20.498442              8.296667   \n",
       "std        2.892937  5.235392e+10    5.107386              3.820643   \n",
       "min        0.000000  6.904537e-01    5.077179             -1.000000   \n",
       "25%        7.000000  9.377535e-01   16.958241              6.000000   \n",
       "50%        9.000000  1.003253e+00   20.825805              8.000000   \n",
       "75%       11.000000  1.067127e+00   24.043067             11.000000   \n",
       "max       18.000000  9.052840e+11   33.043014             19.000000   \n",
       "\n",
       "           weight  \n",
       "count  300.000000  \n",
       "mean     3.957667  \n",
       "std      2.033624  \n",
       "min      0.000000  \n",
       "25%      2.000000  \n",
       "50%      4.000000  \n",
       "75%      5.250000  \n",
       "max     10.000000  "
      ]
     },
     "execution_count": 8,
     "metadata": {},
     "output_type": "execute_result"
    }
   ],
   "source": [
    "cats_df.describe()"
   ]
  },
  {
   "cell_type": "code",
   "execution_count": 9,
   "metadata": {},
   "outputs": [
    {
     "data": {
      "text/plain": [
       "Maine Coon    68\n",
       "Rex           64\n",
       "Manx          59\n",
       "Javanese      58\n",
       "Siamese       50\n",
       "Donald         1\n",
       "Name: breed, dtype: int64"
      ]
     },
     "execution_count": 9,
     "metadata": {},
     "output_type": "execute_result"
    }
   ],
   "source": [
    "cats_df['breed'].value_counts()"
   ]
  },
  {
   "cell_type": "markdown",
   "metadata": {},
   "source": [
    "### From the table above we can quickly see the following issues\n",
    "1 - There are two records with missing values for age at death and hair length variables\n",
    "2 - The variable (vet visits) has negative values, no enough information why. \n",
    "3 - Cats with 0.0 weight and 0 years age.\n",
    "4 - Hair length 9.05^11\n",
    "5 - Only one record for Donal cat\n"
   ]
  },
  {
   "cell_type": "markdown",
   "metadata": {},
   "source": [
    "#### Identifying records with negative values for the number of visit variable"
   ]
  },
  {
   "cell_type": "code",
   "execution_count": 10,
   "metadata": {},
   "outputs": [
    {
     "data": {
      "text/html": [
       "<div>\n",
       "<style scoped>\n",
       "    .dataframe tbody tr th:only-of-type {\n",
       "        vertical-align: middle;\n",
       "    }\n",
       "\n",
       "    .dataframe tbody tr th {\n",
       "        vertical-align: top;\n",
       "    }\n",
       "\n",
       "    .dataframe thead th {\n",
       "        text-align: right;\n",
       "    }\n",
       "</style>\n",
       "<table border=\"1\" class=\"dataframe\">\n",
       "  <thead>\n",
       "    <tr style=\"text-align: right;\">\n",
       "      <th></th>\n",
       "      <th>age at death</th>\n",
       "      <th>breed</th>\n",
       "      <th>date of last vet visit</th>\n",
       "      <th>hair length</th>\n",
       "      <th>height</th>\n",
       "      <th>number of vet visits</th>\n",
       "      <th>weight</th>\n",
       "    </tr>\n",
       "    <tr>\n",
       "      <th>seq</th>\n",
       "      <th></th>\n",
       "      <th></th>\n",
       "      <th></th>\n",
       "      <th></th>\n",
       "      <th></th>\n",
       "      <th></th>\n",
       "      <th></th>\n",
       "    </tr>\n",
       "  </thead>\n",
       "  <tbody>\n",
       "    <tr>\n",
       "      <th>57</th>\n",
       "      <td>11.0</td>\n",
       "      <td>Manx</td>\n",
       "      <td>2011-11-12 23:23:01</td>\n",
       "      <td>0.868451</td>\n",
       "      <td>21.647929</td>\n",
       "      <td>NaN</td>\n",
       "      <td>2.0</td>\n",
       "    </tr>\n",
       "    <tr>\n",
       "      <th>92</th>\n",
       "      <td>7.0</td>\n",
       "      <td>Maine Coon</td>\n",
       "      <td>2007-08-02 16:59:33</td>\n",
       "      <td>0.967941</td>\n",
       "      <td>8.624444</td>\n",
       "      <td>NaN</td>\n",
       "      <td>3.0</td>\n",
       "    </tr>\n",
       "    <tr>\n",
       "      <th>294</th>\n",
       "      <td>13.0</td>\n",
       "      <td>Javanese</td>\n",
       "      <td>2015-01-27 23:23:42</td>\n",
       "      <td>1.085022</td>\n",
       "      <td>24.610927</td>\n",
       "      <td>NaN</td>\n",
       "      <td>4.0</td>\n",
       "    </tr>\n",
       "  </tbody>\n",
       "</table>\n",
       "</div>"
      ],
      "text/plain": [
       "     age at death       breed date of last vet visit  hair length     height  \\\n",
       "seq                                                                            \n",
       "57           11.0        Manx    2011-11-12 23:23:01     0.868451  21.647929   \n",
       "92            7.0  Maine Coon    2007-08-02 16:59:33     0.967941   8.624444   \n",
       "294          13.0    Javanese    2015-01-27 23:23:42     1.085022  24.610927   \n",
       "\n",
       "     number of vet visits  weight  \n",
       "seq                                \n",
       "57                    NaN     2.0  \n",
       "92                    NaN     3.0  \n",
       "294                   NaN     4.0  "
      ]
     },
     "execution_count": 10,
     "metadata": {},
     "output_type": "execute_result"
    }
   ],
   "source": [
    "cats_df['number of vet visits'] = cats_df['number of vet visits'].apply(lambda x: np.nan if x < 0 else x)\n",
    "cats_df[cats_df['number of vet visits'].isnull()]"
   ]
  },
  {
   "cell_type": "markdown",
   "metadata": {},
   "source": [
    "#### Identifying records with 0 age at death"
   ]
  },
  {
   "cell_type": "code",
   "execution_count": 33,
   "metadata": {},
   "outputs": [
    {
     "data": {
      "text/html": [
       "<div>\n",
       "<style scoped>\n",
       "    .dataframe tbody tr th:only-of-type {\n",
       "        vertical-align: middle;\n",
       "    }\n",
       "\n",
       "    .dataframe tbody tr th {\n",
       "        vertical-align: top;\n",
       "    }\n",
       "\n",
       "    .dataframe thead th {\n",
       "        text-align: right;\n",
       "    }\n",
       "</style>\n",
       "<table border=\"1\" class=\"dataframe\">\n",
       "  <thead>\n",
       "    <tr style=\"text-align: right;\">\n",
       "      <th></th>\n",
       "      <th>age at death</th>\n",
       "      <th>breed</th>\n",
       "      <th>date of last vet visit</th>\n",
       "      <th>hair length</th>\n",
       "      <th>height</th>\n",
       "      <th>number of vet visits</th>\n",
       "      <th>weight</th>\n",
       "    </tr>\n",
       "    <tr>\n",
       "      <th>seq</th>\n",
       "      <th></th>\n",
       "      <th></th>\n",
       "      <th></th>\n",
       "      <th></th>\n",
       "      <th></th>\n",
       "      <th></th>\n",
       "      <th></th>\n",
       "    </tr>\n",
       "  </thead>\n",
       "  <tbody>\n",
       "    <tr>\n",
       "      <th>164</th>\n",
       "      <td>NaN</td>\n",
       "      <td>Rex</td>\n",
       "      <td>2007-07-20 22:28:24</td>\n",
       "      <td>0.936867</td>\n",
       "      <td>14.317804</td>\n",
       "      <td>9.0</td>\n",
       "      <td>1.0</td>\n",
       "    </tr>\n",
       "    <tr>\n",
       "      <th>258</th>\n",
       "      <td>NaN</td>\n",
       "      <td>Maine Coon</td>\n",
       "      <td>2010-09-16 08:07:38</td>\n",
       "      <td>0.979556</td>\n",
       "      <td>26.055971</td>\n",
       "      <td>1.0</td>\n",
       "      <td>8.0</td>\n",
       "    </tr>\n",
       "    <tr>\n",
       "      <th>288</th>\n",
       "      <td>NaN</td>\n",
       "      <td>Javanese</td>\n",
       "      <td>2003-04-07 10:02:49</td>\n",
       "      <td>0.950070</td>\n",
       "      <td>24.419723</td>\n",
       "      <td>10.0</td>\n",
       "      <td>3.0</td>\n",
       "    </tr>\n",
       "  </tbody>\n",
       "</table>\n",
       "</div>"
      ],
      "text/plain": [
       "     age at death       breed date of last vet visit  hair length     height  \\\n",
       "seq                                                                            \n",
       "164           NaN         Rex    2007-07-20 22:28:24     0.936867  14.317804   \n",
       "258           NaN  Maine Coon    2010-09-16 08:07:38     0.979556  26.055971   \n",
       "288           NaN    Javanese    2003-04-07 10:02:49     0.950070  24.419723   \n",
       "\n",
       "     number of vet visits  weight  \n",
       "seq                                \n",
       "164                   9.0     1.0  \n",
       "258                   1.0     8.0  \n",
       "288                  10.0     3.0  "
      ]
     },
     "execution_count": 33,
     "metadata": {},
     "output_type": "execute_result"
    }
   ],
   "source": [
    "cats_df['age at death'] = cats_df['age at death'].apply(lambda x: np.nan if x == 0 else x)\n",
    "cats_df[cats_df['age at death'].isnull()]"
   ]
  },
  {
   "cell_type": "markdown",
   "metadata": {
    "collapsed": true
   },
   "source": [
    "#### Detecting outliers for the length of hair variable\n",
    "The records that have a hair length that is larger than 1.5 the IQR value will be removed"
   ]
  },
  {
   "cell_type": "code",
   "execution_count": 12,
   "metadata": {
    "collapsed": true
   },
   "outputs": [],
   "source": [
    "def detect_outliers(df, col, th):\n",
    "    q1  = df[col].quantile(.25)\n",
    "    q2  = df[col].quantile(.75)\n",
    "    iqr = q1 + q2\n",
    "    mask = df[col].between(q1-th*iqr, q2+th*iqr, inclusive=True)\n",
    "    df.loc[~mask,col] = np.nan \n",
    "    return df"
   ]
  },
  {
   "cell_type": "code",
   "execution_count": 13,
   "metadata": {
    "collapsed": true
   },
   "outputs": [],
   "source": [
    "cats_df = detect_outliers(cats_df, 'hair length', 1.5)\n",
    "cats_df['breed'] = cats_df['breed'].apply(lambda x:x if x != 'Donald' else None)"
   ]
  },
  {
   "cell_type": "code",
   "execution_count": 14,
   "metadata": {},
   "outputs": [
    {
     "data": {
      "text/plain": [
       "Maine Coon    68\n",
       "Rex           64\n",
       "Manx          59\n",
       "Javanese      58\n",
       "Siamese       50\n",
       "Name: breed, dtype: int64"
      ]
     },
     "execution_count": 14,
     "metadata": {},
     "output_type": "execute_result"
    }
   ],
   "source": [
    "cats_df['breed'].value_counts()"
   ]
  },
  {
   "cell_type": "markdown",
   "metadata": {},
   "source": [
    "### Univariate Analysis\n",
    "The purpuse of this analysis is to study the distribution of the variables seperately for any issues."
   ]
  },
  {
   "cell_type": "code",
   "execution_count": 15,
   "metadata": {},
   "outputs": [
    {
     "data": {
      "text/plain": [
       "<matplotlib.axes._subplots.AxesSubplot at 0x113403c50>"
      ]
     },
     "execution_count": 15,
     "metadata": {},
     "output_type": "execute_result"
    },
    {
     "data": {
      "image/png": "[encoded data removed]",
      "text/plain": [
       "<matplotlib.figure.Figure at 0x11068a048>"
      ]
     },
     "metadata": {},
     "output_type": "display_data"
    }
   ],
   "source": [
    "fig,axes = plt.subplots(nrows=2, ncols=3, figsize=(15,15))\n",
    "fig.subplots_adjust(hspace=0.6, wspace=0.6)\n",
    "sb.boxplot(cats_df['age at death'], orient='v', ax=axes[0,0])\n",
    "sb.boxplot(cats_df['hair length'],  orient='v', ax=axes[0,1])\n",
    "sb.boxplot(cats_df['number of vet visits'], orient='v', ax=axes[0,2])\n",
    "sb.boxplot(cats_df['height'], orient='v', ax=axes[1,0])\n",
    "sb.boxplot(cats_df['weight'], orient='v', ax=axes[1,1])\n",
    "sb.countplot(x=cats_df['breed'],  orient='v', ax=axes[1,2])"
   ]
  },
  {
   "cell_type": "markdown",
   "metadata": {
    "collapsed": true
   },
   "source": [
    "### Bivariate Analysis"
   ]
  },
  {
   "cell_type": "code",
   "execution_count": 16,
   "metadata": {},
   "outputs": [
    {
     "data": {
      "text/html": [
       "<div>\n",
       "<style scoped>\n",
       "    .dataframe tbody tr th:only-of-type {\n",
       "        vertical-align: middle;\n",
       "    }\n",
       "\n",
       "    .dataframe tbody tr th {\n",
       "        vertical-align: top;\n",
       "    }\n",
       "\n",
       "    .dataframe thead th {\n",
       "        text-align: right;\n",
       "    }\n",
       "</style>\n",
       "<table border=\"1\" class=\"dataframe\">\n",
       "  <thead>\n",
       "    <tr style=\"text-align: right;\">\n",
       "      <th></th>\n",
       "      <th>age at death</th>\n",
       "      <th>hair length</th>\n",
       "      <th>height</th>\n",
       "      <th>number of vet visits</th>\n",
       "      <th>weight</th>\n",
       "    </tr>\n",
       "  </thead>\n",
       "  <tbody>\n",
       "    <tr>\n",
       "      <th>count</th>\n",
       "      <td>297.000000</td>\n",
       "      <td>298.000000</td>\n",
       "      <td>300.000000</td>\n",
       "      <td>297.000000</td>\n",
       "      <td>300.000000</td>\n",
       "    </tr>\n",
       "    <tr>\n",
       "      <th>mean</th>\n",
       "      <td>9.067340</td>\n",
       "      <td>1.003128</td>\n",
       "      <td>20.498442</td>\n",
       "      <td>8.390572</td>\n",
       "      <td>3.957667</td>\n",
       "    </tr>\n",
       "    <tr>\n",
       "      <th>std</th>\n",
       "      <td>2.806034</td>\n",
       "      <td>0.099888</td>\n",
       "      <td>5.107386</td>\n",
       "      <td>3.722963</td>\n",
       "      <td>2.033624</td>\n",
       "    </tr>\n",
       "    <tr>\n",
       "      <th>min</th>\n",
       "      <td>2.000000</td>\n",
       "      <td>0.690454</td>\n",
       "      <td>5.077179</td>\n",
       "      <td>0.000000</td>\n",
       "      <td>0.000000</td>\n",
       "    </tr>\n",
       "    <tr>\n",
       "      <th>25%</th>\n",
       "      <td>7.000000</td>\n",
       "      <td>0.937713</td>\n",
       "      <td>16.958241</td>\n",
       "      <td>6.000000</td>\n",
       "      <td>2.000000</td>\n",
       "    </tr>\n",
       "    <tr>\n",
       "      <th>50%</th>\n",
       "      <td>9.000000</td>\n",
       "      <td>1.002959</td>\n",
       "      <td>20.825805</td>\n",
       "      <td>8.000000</td>\n",
       "      <td>4.000000</td>\n",
       "    </tr>\n",
       "    <tr>\n",
       "      <th>75%</th>\n",
       "      <td>11.000000</td>\n",
       "      <td>1.065565</td>\n",
       "      <td>24.043067</td>\n",
       "      <td>11.000000</td>\n",
       "      <td>5.250000</td>\n",
       "    </tr>\n",
       "    <tr>\n",
       "      <th>max</th>\n",
       "      <td>18.000000</td>\n",
       "      <td>1.238662</td>\n",
       "      <td>33.043014</td>\n",
       "      <td>19.000000</td>\n",
       "      <td>10.000000</td>\n",
       "    </tr>\n",
       "  </tbody>\n",
       "</table>\n",
       "</div>"
      ],
      "text/plain": [
       "       age at death  hair length      height  number of vet visits      weight\n",
       "count    297.000000   298.000000  300.000000            297.000000  300.000000\n",
       "mean       9.067340     1.003128   20.498442              8.390572    3.957667\n",
       "std        2.806034     0.099888    5.107386              3.722963    2.033624\n",
       "min        2.000000     0.690454    5.077179              0.000000    0.000000\n",
       "25%        7.000000     0.937713   16.958241              6.000000    2.000000\n",
       "50%        9.000000     1.002959   20.825805              8.000000    4.000000\n",
       "75%       11.000000     1.065565   24.043067             11.000000    5.250000\n",
       "max       18.000000     1.238662   33.043014             19.000000   10.000000"
      ]
     },
     "execution_count": 16,
     "metadata": {},
     "output_type": "execute_result"
    }
   ],
   "source": [
    "cats_df.describe()"
   ]
  },
  {
   "cell_type": "code",
   "execution_count": 17,
   "metadata": {},
   "outputs": [
    {
     "data": {
      "text/plain": [
       "<seaborn.axisgrid.PairGrid at 0x11066cef0>"
      ]
     },
     "execution_count": 17,
     "metadata": {},
     "output_type": "execute_result"
    },
    {
     "data": {
      "image/png": "[encoded data removed]",
      "text/plain": [
       "<matplotlib.figure.Figure at 0x11066cf28>"
      ]
     },
     "metadata": {},
     "output_type": "display_data"
    }
   ],
   "source": [
    "sb.pairplot(cats_df[cats_df.columns[:]].dropna())"
   ]
  },
  {
   "cell_type": "code",
   "execution_count": 32,
   "metadata": {},
   "outputs": [
    {
     "data": {
      "text/html": [
       "<div>\n",
       "<style scoped>\n",
       "    .dataframe tbody tr th:only-of-type {\n",
       "        vertical-align: middle;\n",
       "    }\n",
       "\n",
       "    .dataframe tbody tr th {\n",
       "        vertical-align: top;\n",
       "    }\n",
       "\n",
       "    .dataframe thead th {\n",
       "        text-align: right;\n",
       "    }\n",
       "</style>\n",
       "<table border=\"1\" class=\"dataframe\">\n",
       "  <thead>\n",
       "    <tr style=\"text-align: right;\">\n",
       "      <th></th>\n",
       "      <th>age at death</th>\n",
       "      <th>breed</th>\n",
       "      <th>date of last vet visit</th>\n",
       "      <th>hair length</th>\n",
       "      <th>height</th>\n",
       "      <th>number of vet visits</th>\n",
       "      <th>weight</th>\n",
       "    </tr>\n",
       "    <tr>\n",
       "      <th>seq</th>\n",
       "      <th></th>\n",
       "      <th></th>\n",
       "      <th></th>\n",
       "      <th></th>\n",
       "      <th></th>\n",
       "      <th></th>\n",
       "      <th></th>\n",
       "    </tr>\n",
       "  </thead>\n",
       "  <tbody>\n",
       "    <tr>\n",
       "      <th>28</th>\n",
       "      <td>14.0</td>\n",
       "      <td>None</td>\n",
       "      <td>2004-02-02 20:27:11</td>\n",
       "      <td>0.888040</td>\n",
       "      <td>9.727390</td>\n",
       "      <td>5.0</td>\n",
       "      <td>5.0</td>\n",
       "    </tr>\n",
       "    <tr>\n",
       "      <th>47</th>\n",
       "      <td>8.0</td>\n",
       "      <td>Rex</td>\n",
       "      <td>NaT</td>\n",
       "      <td>1.037497</td>\n",
       "      <td>27.393672</td>\n",
       "      <td>6.0</td>\n",
       "      <td>6.0</td>\n",
       "    </tr>\n",
       "    <tr>\n",
       "      <th>57</th>\n",
       "      <td>11.0</td>\n",
       "      <td>Manx</td>\n",
       "      <td>2011-11-12 23:23:01</td>\n",
       "      <td>0.868451</td>\n",
       "      <td>21.647929</td>\n",
       "      <td>NaN</td>\n",
       "      <td>2.0</td>\n",
       "    </tr>\n",
       "    <tr>\n",
       "      <th>92</th>\n",
       "      <td>7.0</td>\n",
       "      <td>Maine Coon</td>\n",
       "      <td>2007-08-02 16:59:33</td>\n",
       "      <td>0.967941</td>\n",
       "      <td>8.624444</td>\n",
       "      <td>NaN</td>\n",
       "      <td>3.0</td>\n",
       "    </tr>\n",
       "    <tr>\n",
       "      <th>108</th>\n",
       "      <td>10.0</td>\n",
       "      <td>Rex</td>\n",
       "      <td>2012-12-10 03:48:52</td>\n",
       "      <td>NaN</td>\n",
       "      <td>18.661543</td>\n",
       "      <td>9.0</td>\n",
       "      <td>2.0</td>\n",
       "    </tr>\n",
       "    <tr>\n",
       "      <th>164</th>\n",
       "      <td>NaN</td>\n",
       "      <td>Rex</td>\n",
       "      <td>2007-07-20 22:28:24</td>\n",
       "      <td>0.936867</td>\n",
       "      <td>14.317804</td>\n",
       "      <td>9.0</td>\n",
       "      <td>1.0</td>\n",
       "    </tr>\n",
       "    <tr>\n",
       "      <th>258</th>\n",
       "      <td>NaN</td>\n",
       "      <td>Maine Coon</td>\n",
       "      <td>2010-09-16 08:07:38</td>\n",
       "      <td>0.979556</td>\n",
       "      <td>26.055971</td>\n",
       "      <td>1.0</td>\n",
       "      <td>8.0</td>\n",
       "    </tr>\n",
       "    <tr>\n",
       "      <th>271</th>\n",
       "      <td>6.0</td>\n",
       "      <td>Manx</td>\n",
       "      <td>2001-02-13 02:04:31</td>\n",
       "      <td>NaN</td>\n",
       "      <td>21.520845</td>\n",
       "      <td>7.0</td>\n",
       "      <td>7.0</td>\n",
       "    </tr>\n",
       "    <tr>\n",
       "      <th>288</th>\n",
       "      <td>NaN</td>\n",
       "      <td>Javanese</td>\n",
       "      <td>2003-04-07 10:02:49</td>\n",
       "      <td>0.950070</td>\n",
       "      <td>24.419723</td>\n",
       "      <td>10.0</td>\n",
       "      <td>3.0</td>\n",
       "    </tr>\n",
       "    <tr>\n",
       "      <th>294</th>\n",
       "      <td>13.0</td>\n",
       "      <td>Javanese</td>\n",
       "      <td>2015-01-27 23:23:42</td>\n",
       "      <td>1.085022</td>\n",
       "      <td>24.610927</td>\n",
       "      <td>NaN</td>\n",
       "      <td>4.0</td>\n",
       "    </tr>\n",
       "  </tbody>\n",
       "</table>\n",
       "</div>"
      ],
      "text/plain": [
       "     age at death       breed date of last vet visit  hair length     height  \\\n",
       "seq                                                                            \n",
       "28           14.0        None    2004-02-02 20:27:11     0.888040   9.727390   \n",
       "47            8.0         Rex                    NaT     1.037497  27.393672   \n",
       "57           11.0        Manx    2011-11-12 23:23:01     0.868451  21.647929   \n",
       "92            7.0  Maine Coon    2007-08-02 16:59:33     0.967941   8.624444   \n",
       "108          10.0         Rex    2012-12-10 03:48:52          NaN  18.661543   \n",
       "164           NaN         Rex    2007-07-20 22:28:24     0.936867  14.317804   \n",
       "258           NaN  Maine Coon    2010-09-16 08:07:38     0.979556  26.055971   \n",
       "271           6.0        Manx    2001-02-13 02:04:31          NaN  21.520845   \n",
       "288           NaN    Javanese    2003-04-07 10:02:49     0.950070  24.419723   \n",
       "294          13.0    Javanese    2015-01-27 23:23:42     1.085022  24.610927   \n",
       "\n",
       "     number of vet visits  weight  \n",
       "seq                                \n",
       "28                    5.0     5.0  \n",
       "47                    6.0     6.0  \n",
       "57                    NaN     2.0  \n",
       "92                    NaN     3.0  \n",
       "108                   9.0     2.0  \n",
       "164                   9.0     1.0  \n",
       "258                   1.0     8.0  \n",
       "271                   7.0     7.0  \n",
       "288                  10.0     3.0  \n",
       "294                   NaN     4.0  "
      ]
     },
     "execution_count": 32,
     "metadata": {},
     "output_type": "execute_result"
    }
   ],
   "source": [
    "cats_df[cats_df.isnull().any(axis=1)]"
   ]
  },
  {
   "cell_type": "code",
   "execution_count": 46,
   "metadata": {},
   "outputs": [
    {
     "data": {
      "image/png": "[encoded data removed]",
      "text/plain": [
       "<matplotlib.figure.Figure at 0x1c1e3800b8>"
      ]
     },
     "metadata": {},
     "output_type": "display_data"
    }
   ],
   "source": [
    "import numpy as np; np.random.seed(8)\n",
    "mean, cov = [4, 6], [(1.5, .7), (.7, 1)]\n",
    "x, y = np.random.multivariate_normal(mean, cov, 80).T\n",
    "ax = sb.regplot(x=x, y=y, color=\"g\")"
   ]
  },
  {
   "cell_type": "code",
   "execution_count": 44,
   "metadata": {},
   "outputs": [
    {
     "data": {
      "image/png": "[encoded data removed]",
      "text/plain": [
       "<matplotlib.figure.Figure at 0x1c1e9ff2b0>"
      ]
     },
     "metadata": {},
     "output_type": "display_data"
    },
    {
     "data": {
      "image/png": "[encoded data removed]",
      "text/plain": [
       "<matplotlib.figure.Figure at 0x1c1eeb2ba8>"
      ]
     },
     "metadata": {},
     "output_type": "display_data"
    },
    {
     "data": {
      "image/png": "[encoded data removed]",
      "text/plain": [
       "<matplotlib.figure.Figure at 0x1c1f0e25f8>"
      ]
     },
     "metadata": {},
     "output_type": "display_data"
    },
    {
     "data": {
      "image/png": "[encoded data removed]",
      "text/plain": [
       "<matplotlib.figure.Figure at 0x1c1f17f390>"
      ]
     },
     "metadata": {},
     "output_type": "display_data"
    }
   ],
   "source": [
    "def analyse_correlation(df, dep_variable, indep_variable):\n",
    "    for v in indep_variable:\n",
    "         sb.regplot(x=v, y=dep_variable, data=df)\n",
    "         plt.show()\n",
    "analyse_correlation(cats_df.dropna(), 'age at death', ['hair length', 'height', 'number of vet visits', 'weight'])"
   ]
  },
  {
   "cell_type": "code",
   "execution_count": 190,
   "metadata": {},
   "outputs": [
    {
     "data": {
      "image/png": "[encoded data removed]",
      "text/plain": [
       "<matplotlib.figure.Figure at 0x1c27043898>"
      ]
     },
     "metadata": {},
     "output_type": "display_data"
    }
   ],
   "source": [
    "sb.distplot(cats_df['age at death'].dropna())\n",
    "plt.show()"
   ]
  },
  {
   "cell_type": "markdown",
   "metadata": {},
   "source": [
    "### Converting Categorial and Datetime variables to numerical values"
   ]
  },
  {
   "cell_type": "code",
   "execution_count": 141,
   "metadata": {
    "collapsed": true
   },
   "outputs": [],
   "source": [
    "X = pd.get_dummies(cats_df, columns=['breed'], drop_first=True)"
   ]
  },
  {
   "cell_type": "code",
   "execution_count": 142,
   "metadata": {},
   "outputs": [
    {
     "data": {
      "text/html": [
       "<div>\n",
       "<style scoped>\n",
       "    .dataframe tbody tr th:only-of-type {\n",
       "        vertical-align: middle;\n",
       "    }\n",
       "\n",
       "    .dataframe tbody tr th {\n",
       "        vertical-align: top;\n",
       "    }\n",
       "\n",
       "    .dataframe thead th {\n",
       "        text-align: right;\n",
       "    }\n",
       "</style>\n",
       "<table border=\"1\" class=\"dataframe\">\n",
       "  <thead>\n",
       "    <tr style=\"text-align: right;\">\n",
       "      <th></th>\n",
       "      <th>age at death</th>\n",
       "      <th>date of last vet visit</th>\n",
       "      <th>hair length</th>\n",
       "      <th>height</th>\n",
       "      <th>number of vet visits</th>\n",
       "      <th>weight</th>\n",
       "      <th>breed_Maine Coon</th>\n",
       "      <th>breed_Manx</th>\n",
       "      <th>breed_Rex</th>\n",
       "      <th>breed_Siamese</th>\n",
       "    </tr>\n",
       "    <tr>\n",
       "      <th>seq</th>\n",
       "      <th></th>\n",
       "      <th></th>\n",
       "      <th></th>\n",
       "      <th></th>\n",
       "      <th></th>\n",
       "      <th></th>\n",
       "      <th></th>\n",
       "      <th></th>\n",
       "      <th></th>\n",
       "      <th></th>\n",
       "    </tr>\n",
       "  </thead>\n",
       "  <tbody>\n",
       "    <tr>\n",
       "      <th>0</th>\n",
       "      <td>7.0</td>\n",
       "      <td>2009-08-02 14:02:18</td>\n",
       "      <td>0.883886</td>\n",
       "      <td>21.611951</td>\n",
       "      <td>5.0</td>\n",
       "      <td>4.0</td>\n",
       "      <td>0</td>\n",
       "      <td>0</td>\n",
       "      <td>0</td>\n",
       "      <td>1</td>\n",
       "    </tr>\n",
       "    <tr>\n",
       "      <th>1</th>\n",
       "      <td>9.0</td>\n",
       "      <td>2013-11-27 19:08:52</td>\n",
       "      <td>1.221535</td>\n",
       "      <td>26.451956</td>\n",
       "      <td>10.0</td>\n",
       "      <td>4.0</td>\n",
       "      <td>0</td>\n",
       "      <td>0</td>\n",
       "      <td>0</td>\n",
       "      <td>1</td>\n",
       "    </tr>\n",
       "    <tr>\n",
       "      <th>2</th>\n",
       "      <td>8.0</td>\n",
       "      <td>2016-01-12 04:39:24</td>\n",
       "      <td>0.967718</td>\n",
       "      <td>18.540191</td>\n",
       "      <td>10.0</td>\n",
       "      <td>5.0</td>\n",
       "      <td>0</td>\n",
       "      <td>1</td>\n",
       "      <td>0</td>\n",
       "      <td>0</td>\n",
       "    </tr>\n",
       "    <tr>\n",
       "      <th>3</th>\n",
       "      <td>8.0</td>\n",
       "      <td>2000-11-24 18:51:18</td>\n",
       "      <td>1.090641</td>\n",
       "      <td>16.564362</td>\n",
       "      <td>12.0</td>\n",
       "      <td>7.0</td>\n",
       "      <td>1</td>\n",
       "      <td>0</td>\n",
       "      <td>0</td>\n",
       "      <td>0</td>\n",
       "    </tr>\n",
       "    <tr>\n",
       "      <th>4</th>\n",
       "      <td>8.0</td>\n",
       "      <td>2014-07-03 22:17:26</td>\n",
       "      <td>1.004712</td>\n",
       "      <td>22.535495</td>\n",
       "      <td>7.0</td>\n",
       "      <td>7.0</td>\n",
       "      <td>1</td>\n",
       "      <td>0</td>\n",
       "      <td>0</td>\n",
       "      <td>0</td>\n",
       "    </tr>\n",
       "  </tbody>\n",
       "</table>\n",
       "</div>"
      ],
      "text/plain": [
       "     age at death date of last vet visit  hair length     height  \\\n",
       "seq                                                                \n",
       "0             7.0    2009-08-02 14:02:18     0.883886  21.611951   \n",
       "1             9.0    2013-11-27 19:08:52     1.221535  26.451956   \n",
       "2             8.0    2016-01-12 04:39:24     0.967718  18.540191   \n",
       "3             8.0    2000-11-24 18:51:18     1.090641  16.564362   \n",
       "4             8.0    2014-07-03 22:17:26     1.004712  22.535495   \n",
       "\n",
       "     number of vet visits  weight  breed_Maine Coon  breed_Manx  breed_Rex  \\\n",
       "seq                                                                          \n",
       "0                     5.0     4.0                 0           0          0   \n",
       "1                    10.0     4.0                 0           0          0   \n",
       "2                    10.0     5.0                 0           1          0   \n",
       "3                    12.0     7.0                 1           0          0   \n",
       "4                     7.0     7.0                 1           0          0   \n",
       "\n",
       "     breed_Siamese  \n",
       "seq                 \n",
       "0                1  \n",
       "1                1  \n",
       "2                0  \n",
       "3                0  \n",
       "4                0  "
      ]
     },
     "execution_count": 142,
     "metadata": {},
     "output_type": "execute_result"
    }
   ],
   "source": [
    "X.head()"
   ]
  },
  {
   "cell_type": "code",
   "execution_count": 137,
   "metadata": {
    "collapsed": true
   },
   "outputs": [],
   "source": [
    "#X['last visit year']  = cats_df['date of last vet visit'].dt.year\n",
    "#X['last visit month'] = cats_df['date of last vet visit'].dt.month\n",
    "#X['last visit day'] = cats_df['date of last vet visit'].dt.day\n",
    "#X['last visit hour']  = cats_df['date of last vet visit'].dt.hour"
   ]
  },
  {
   "cell_type": "code",
   "execution_count": 170,
   "metadata": {
    "collapsed": true
   },
   "outputs": [],
   "source": [
    "X__ = X.dropna()\n",
    "#X__ = X.drop(['hair length'],axis=1)\n",
    "X_ = X__.iloc[:,7:]\n",
    "y_ = X__['age at death']\n",
    "y_q = pd.qcut(y_,[.5, ], [0,1,2,3]) "
   ]
  },
  {
   "cell_type": "code",
   "execution_count": 193,
   "metadata": {},
   "outputs": [
    {
     "data": {
      "text/plain": [
       "9.0"
      ]
     },
     "execution_count": 193,
     "metadata": {},
     "output_type": "execute_result"
    }
   ],
   "source": [
    "y_.median()"
   ]
  },
  {
   "cell_type": "code",
   "execution_count": 171,
   "metadata": {},
   "outputs": [
    {
     "data": {
      "text/plain": [
       "0    87\n",
       "1    84\n",
       "2    67\n",
       "3    53\n",
       "Name: age at death, dtype: int64"
      ]
     },
     "execution_count": 171,
     "metadata": {},
     "output_type": "execute_result"
    }
   ],
   "source": [
    "y_q.value_counts()"
   ]
  },
  {
   "cell_type": "code",
   "execution_count": 172,
   "metadata": {
    "collapsed": true
   },
   "outputs": [],
   "source": [
    "X_train, X_test, y_train, y_test = train_test_split(X_, y_q, test_size=0.2, random_state=2)"
   ]
  },
  {
   "cell_type": "code",
   "execution_count": 173,
   "metadata": {},
   "outputs": [
    {
     "data": {
      "text/plain": [
       "0.3050847457627119"
      ]
     },
     "execution_count": 173,
     "metadata": {},
     "output_type": "execute_result"
    }
   ],
   "source": [
    "clf = RandomForestClassifier(max_depth=5, random_state=0)\n",
    "clf.fit(X_train, y_train)\n",
    "clf.score(X_test,y_test)"
   ]
  },
  {
   "cell_type": "code",
   "execution_count": 174,
   "metadata": {},
   "outputs": [
    {
     "name": "stdout",
     "output_type": "stream",
     "text": [
      "Optimal number of features : 2\n"
     ]
    },
    {
     "data": {
      "image/png": "[encoded data removed]",
      "text/plain": [
       "<matplotlib.figure.Figure at 0x1c250fa358>"
      ]
     },
     "metadata": {},
     "output_type": "display_data"
    }
   ],
   "source": [
    "svc = RandomForestClassifier(max_depth=6, random_state=0)\n",
    "#svc.fit(X_train, y_train)\n",
    "#svc.score(X_test,y_test)\n",
    "rfecv = RFECV(estimator=svc, step=1, cv=StratifiedKFold(10), scoring='accuracy')\n",
    "rfecv.fit(X_, y_q)\n",
    "\n",
    "print(\"Optimal number of features : %d\" % rfecv.n_features_)\n",
    "\n",
    "# Plot number of features VS. cross-validation scores\n",
    "plt.figure()\n",
    "plt.xlabel(\"Number of features selected\")\n",
    "plt.ylabel(\"Cross validation score (nb of correct classifications)\")\n",
    "plt.plot(range(1, len(rfecv.grid_scores_) + 1), rfecv.grid_scores_)\n",
    "plt.show()"
   ]
  },
  {
   "cell_type": "code",
   "execution_count": 65,
   "metadata": {},
   "outputs": [
    {
     "data": {
      "text/plain": [
       "array([1, 1, 1, 1, 3, 1, 2, 1, 1, 1, 1, 1])"
      ]
     },
     "execution_count": 65,
     "metadata": {},
     "output_type": "execute_result"
    }
   ],
   "source": [
    "rfecv.ranking_"
   ]
  },
  {
   "cell_type": "code",
   "execution_count": 53,
   "metadata": {},
   "outputs": [
    {
     "data": {
      "text/plain": [
       "array([False,  True, False, False, False,  True, False, False, False,\n",
       "       False,  True, False])"
      ]
     },
     "execution_count": 53,
     "metadata": {},
     "output_type": "execute_result"
    }
   ],
   "source": [
    "rfecv.support_"
   ]
  },
  {
   "cell_type": "code",
   "execution_count": 55,
   "metadata": {},
   "outputs": [
    {
     "name": "stdout",
     "output_type": "stream",
     "text": [
      "('hair length', False)\n",
      "('height', True)\n",
      "('number of vet visits', False)\n",
      "('weight', False)\n",
      "('breed_Maine Coon', False)\n",
      "('breed_Manx', True)\n",
      "('breed_Rex', False)\n",
      "('breed_Siamese', False)\n",
      "('last visit year', False)\n",
      "('last visit month', False)\n",
      "('last visit day', True)\n",
      "('last visit hour', False)\n"
     ]
    }
   ],
   "source": [
    "for f in zip(X_.columns, rfecv.support_):\n",
    "    print(f)"
   ]
  },
  {
   "cell_type": "code",
   "execution_count": 445,
   "metadata": {
    "collapsed": true
   },
   "outputs": [],
   "source": [
    "#reg = linear_model.Lasso(alpha = 0.1)\n",
    "reg = linear_model.LinearRegression(fit_intercept=False, normalize=False)"
   ]
  },
  {
   "cell_type": "code",
   "execution_count": 446,
   "metadata": {},
   "outputs": [
    {
     "data": {
      "text/plain": [
       "LinearRegression(copy_X=True, fit_intercept=False, n_jobs=1, normalize=False)"
      ]
     },
     "execution_count": 446,
     "metadata": {},
     "output_type": "execute_result"
    }
   ],
   "source": [
    "reg.fit(X_.astype(float), y_.astype(float))"
   ]
  },
  {
   "cell_type": "code",
   "execution_count": 447,
   "metadata": {
    "collapsed": true
   },
   "outputs": [],
   "source": [
    "y_pred = reg.predict(X_)"
   ]
  },
  {
   "cell_type": "code",
   "execution_count": 448,
   "metadata": {},
   "outputs": [
    {
     "data": {
      "text/plain": [
       "0.0"
      ]
     },
     "execution_count": 448,
     "metadata": {},
     "output_type": "execute_result"
    }
   ],
   "source": [
    "reg.intercept_"
   ]
  },
  {
   "cell_type": "code",
   "execution_count": 449,
   "metadata": {},
   "outputs": [
    {
     "data": {
      "text/plain": [
       "8.170111723573303"
      ]
     },
     "execution_count": 449,
     "metadata": {},
     "output_type": "execute_result"
    }
   ],
   "source": [
    "mean_squared_error(y_, y_pred)"
   ]
  },
  {
   "cell_type": "code",
   "execution_count": 450,
   "metadata": {},
   "outputs": [
    {
     "data": {
      "text/plain": [
       "0.026496113238779873"
      ]
     },
     "execution_count": 450,
     "metadata": {},
     "output_type": "execute_result"
    }
   ],
   "source": [
    "r2_score(y_,y_pred)"
   ]
  },
  {
   "cell_type": "code",
   "execution_count": 451,
   "metadata": {},
   "outputs": [
    {
     "data": {
      "text/plain": [
       "array([ 2.04062157, -0.03519282, -0.03487268, -0.03684225,  0.26658379,\n",
       "        0.36359567,  0.31190801, -0.05515122,  0.00411767,  0.03183623,\n",
       "       -0.0469116 ])"
      ]
     },
     "execution_count": 451,
     "metadata": {},
     "output_type": "execute_result"
    }
   ],
   "source": [
    "reg.coef_"
   ]
  },
  {
   "cell_type": "code",
   "execution_count": 333,
   "metadata": {},
   "outputs": [
    {
     "data": {
      "text/html": [
       "<div>\n",
       "<style scoped>\n",
       "    .dataframe tbody tr th:only-of-type {\n",
       "        vertical-align: middle;\n",
       "    }\n",
       "\n",
       "    .dataframe tbody tr th {\n",
       "        vertical-align: top;\n",
       "    }\n",
       "\n",
       "    .dataframe thead th {\n",
       "        text-align: right;\n",
       "    }\n",
       "</style>\n",
       "<table border=\"1\" class=\"dataframe\">\n",
       "  <thead>\n",
       "    <tr style=\"text-align: right;\">\n",
       "      <th></th>\n",
       "      <th>0</th>\n",
       "    </tr>\n",
       "  </thead>\n",
       "  <tbody>\n",
       "    <tr>\n",
       "      <th>9.148649e+01</th>\n",
       "      <td>Lagrange multiplier statistic</td>\n",
       "    </tr>\n",
       "    <tr>\n",
       "      <th>2.320444e-16</th>\n",
       "      <td>p-value</td>\n",
       "    </tr>\n",
       "    <tr>\n",
       "      <th>1.432612e+01</th>\n",
       "      <td>f-value</td>\n",
       "    </tr>\n",
       "    <tr>\n",
       "      <th>4.587773e-19</th>\n",
       "      <td>f p-value</td>\n",
       "    </tr>\n",
       "  </tbody>\n",
       "</table>\n",
       "</div>"
      ],
      "text/plain": [
       "                                          0\n",
       "9.148649e+01  Lagrange multiplier statistic\n",
       "2.320444e-16                        p-value\n",
       "1.432612e+01                        f-value\n",
       "4.587773e-19                      f p-value"
      ]
     },
     "execution_count": 333,
     "metadata": {},
     "output_type": "execute_result"
    }
   ],
   "source": [
    "import statsmodels\n",
    "\n",
    "name = ['Lagrange multiplier statistic', 'p-value', \n",
    "        'f-value', 'f p-value']\n",
    "bp = statsmodels.stats.diagnostic.het_breushpagan(result.resid, result.model.exog)\n",
    "bp\n",
    "pd.DataFrame(name,bp)"
   ]
  },
  {
   "cell_type": "code",
   "execution_count": 33,
   "metadata": {
    "collapsed": true
   },
   "outputs": [],
   "source": [
    "#Helper function for feature mapping\n",
    "def create_feature_map(features):\n",
    "    outfile = open('xgb.fmap', 'w')\n",
    "    for i, feat in enumerate(features):\n",
    "        outfile.write('{0}\\t{1}\\tq\\n'.format(i, feat))\n",
    "    outfile.close()\n",
    "    \n",
    "#I will use XGBoost to model the data. The following parameters will be used for the model.\n",
    "RS = 2016\n",
    "params = {}\n",
    "params['objective'] = 'multi:softprob'\n",
    "params['eval_metric'] = 'mlogloss'\n",
    "params['num_class'] = 4\n",
    "params['eta'] = 0.08\n",
    "params['max_depth'] = 6\n",
    "params['subsample'] = 0.7\n",
    "params['colsample_bytree'] = 0.7\n",
    "params['silent'] = 1\n",
    "params['num_rounds'] = 350\n",
    "params['seed'] = RS\n",
    "\n",
    "#Data frame to xgboost\n",
    "xg_train = xgb.DMatrix(X_.values, label=y_q.values)\n",
    "\n",
    "create_feature_map(X)\n",
    "#Train the model\n",
    "cls = xgb.train(params, xg_train, params['num_rounds'])"
   ]
  },
  {
   "cell_type": "code",
   "execution_count": 29,
   "metadata": {},
   "outputs": [
    {
     "data": {
      "text/plain": [
       "[1, 2, 2, 2, 2, ..., 2, 2, 1, 4, 3]\n",
       "Length: 291\n",
       "Categories (4, int64): [1 < 2 < 3 < 4]"
      ]
     },
     "execution_count": 29,
     "metadata": {},
     "output_type": "execute_result"
    }
   ],
   "source": [
    "y_q.values"
   ]
  },
  {
   "cell_type": "code",
   "execution_count": 34,
   "metadata": {},
   "outputs": [
    {
     "ename": "XGBoostError",
     "evalue": "b'[16:17:24] include/xgboost/././feature_map.h:83: unknown feature type, use i for indicator and q for quantity\\n\\nStack trace returned 2 entries:\\n[bt] (0) 0   libxgboost.dylib                    0x0000001a15ec71d9 _ZN4dmlc15LogMessageFatalD1Ev + 41\\n[bt] (1) 1   libstdc++.6.dylib                   0x0000001a16303ce0 _ZTVNSt7__cxx1115basic_stringbufIcSt11char_traitsIcESaIcEEE + 16\\n'",
     "output_type": "error",
     "traceback": [
      "\u001b[0;31m---------------------------------------------------------------------------\u001b[0m",
      "\u001b[0;31mXGBoostError\u001b[0m                              Traceback (most recent call last)",
      "\u001b[0;32m<ipython-input-34-a32b907efe3e>\u001b[0m in \u001b[0;36m<module>\u001b[0;34m()\u001b[0m\n\u001b[1;32m      1\u001b[0m \u001b[0;31m#get the importance (F score) of the features\u001b[0m\u001b[0;34m\u001b[0m\u001b[0;34m\u001b[0m\u001b[0m\n\u001b[0;32m----> 2\u001b[0;31m \u001b[0mimportance\u001b[0m \u001b[0;34m=\u001b[0m \u001b[0mcls\u001b[0m\u001b[0;34m.\u001b[0m\u001b[0mget_fscore\u001b[0m\u001b[0;34m(\u001b[0m\u001b[0mfmap\u001b[0m\u001b[0;34m=\u001b[0m\u001b[0;34m'xgb.fmap'\u001b[0m\u001b[0;34m)\u001b[0m\u001b[0;34m\u001b[0m\u001b[0m\n\u001b[0m\u001b[1;32m      3\u001b[0m \u001b[0mimportance\u001b[0m \u001b[0;34m=\u001b[0m \u001b[0msorted\u001b[0m\u001b[0;34m(\u001b[0m\u001b[0mimportance\u001b[0m\u001b[0;34m.\u001b[0m\u001b[0mitems\u001b[0m\u001b[0;34m(\u001b[0m\u001b[0;34m)\u001b[0m\u001b[0;34m,\u001b[0m \u001b[0mkey\u001b[0m\u001b[0;34m=\u001b[0m\u001b[0moperator\u001b[0m\u001b[0;34m.\u001b[0m\u001b[0mitemgetter\u001b[0m\u001b[0;34m(\u001b[0m\u001b[0;36m1\u001b[0m\u001b[0;34m)\u001b[0m\u001b[0;34m)\u001b[0m\u001b[0;34m\u001b[0m\u001b[0m\n\u001b[1;32m      4\u001b[0m \u001b[0;34m\u001b[0m\u001b[0m\n\u001b[1;32m      5\u001b[0m \u001b[0mdf\u001b[0m \u001b[0;34m=\u001b[0m \u001b[0mpd\u001b[0m\u001b[0;34m.\u001b[0m\u001b[0mDataFrame\u001b[0m\u001b[0;34m(\u001b[0m\u001b[0mimportance\u001b[0m\u001b[0;34m,\u001b[0m \u001b[0mcolumns\u001b[0m\u001b[0;34m=\u001b[0m\u001b[0;34m[\u001b[0m\u001b[0;34m'feature'\u001b[0m\u001b[0;34m,\u001b[0m \u001b[0;34m'fscore'\u001b[0m\u001b[0;34m]\u001b[0m\u001b[0;34m)\u001b[0m\u001b[0;34m\u001b[0m\u001b[0m\n",
      "\u001b[0;32m~/anaconda/envs/python3.6/lib/python3.6/site-packages/xgboost/core.py\u001b[0m in \u001b[0;36mget_fscore\u001b[0;34m(self, fmap)\u001b[0m\n\u001b[1;32m   1200\u001b[0m         \"\"\"\n\u001b[1;32m   1201\u001b[0m \u001b[0;34m\u001b[0m\u001b[0m\n\u001b[0;32m-> 1202\u001b[0;31m         \u001b[0;32mreturn\u001b[0m \u001b[0mself\u001b[0m\u001b[0;34m.\u001b[0m\u001b[0mget_score\u001b[0m\u001b[0;34m(\u001b[0m\u001b[0mfmap\u001b[0m\u001b[0;34m,\u001b[0m \u001b[0mimportance_type\u001b[0m\u001b[0;34m=\u001b[0m\u001b[0;34m'weight'\u001b[0m\u001b[0;34m)\u001b[0m\u001b[0;34m\u001b[0m\u001b[0m\n\u001b[0m\u001b[1;32m   1203\u001b[0m \u001b[0;34m\u001b[0m\u001b[0m\n\u001b[1;32m   1204\u001b[0m     \u001b[0;32mdef\u001b[0m \u001b[0mget_score\u001b[0m\u001b[0;34m(\u001b[0m\u001b[0mself\u001b[0m\u001b[0;34m,\u001b[0m \u001b[0mfmap\u001b[0m\u001b[0;34m=\u001b[0m\u001b[0;34m''\u001b[0m\u001b[0;34m,\u001b[0m \u001b[0mimportance_type\u001b[0m\u001b[0;34m=\u001b[0m\u001b[0;34m'weight'\u001b[0m\u001b[0;34m)\u001b[0m\u001b[0;34m:\u001b[0m\u001b[0;34m\u001b[0m\u001b[0m\n",
      "\u001b[0;32m~/anaconda/envs/python3.6/lib/python3.6/site-packages/xgboost/core.py\u001b[0m in \u001b[0;36mget_score\u001b[0;34m(self, fmap, importance_type)\u001b[0m\n\u001b[1;32m   1222\u001b[0m         \u001b[0;32mif\u001b[0m \u001b[0mimportance_type\u001b[0m \u001b[0;34m==\u001b[0m \u001b[0;34m'weight'\u001b[0m\u001b[0;34m:\u001b[0m\u001b[0;34m\u001b[0m\u001b[0m\n\u001b[1;32m   1223\u001b[0m             \u001b[0;31m# do a simpler tree dump to save time\u001b[0m\u001b[0;34m\u001b[0m\u001b[0;34m\u001b[0m\u001b[0m\n\u001b[0;32m-> 1224\u001b[0;31m             \u001b[0mtrees\u001b[0m \u001b[0;34m=\u001b[0m \u001b[0mself\u001b[0m\u001b[0;34m.\u001b[0m\u001b[0mget_dump\u001b[0m\u001b[0;34m(\u001b[0m\u001b[0mfmap\u001b[0m\u001b[0;34m,\u001b[0m \u001b[0mwith_stats\u001b[0m\u001b[0;34m=\u001b[0m\u001b[0;32mFalse\u001b[0m\u001b[0;34m)\u001b[0m\u001b[0;34m\u001b[0m\u001b[0m\n\u001b[0m\u001b[1;32m   1225\u001b[0m \u001b[0;34m\u001b[0m\u001b[0m\n\u001b[1;32m   1226\u001b[0m             \u001b[0mfmap\u001b[0m \u001b[0;34m=\u001b[0m \u001b[0;34m{\u001b[0m\u001b[0;34m}\u001b[0m\u001b[0;34m\u001b[0m\u001b[0m\n",
      "\u001b[0;32m~/anaconda/envs/python3.6/lib/python3.6/site-packages/xgboost/core.py\u001b[0m in \u001b[0;36mget_dump\u001b[0;34m(self, fmap, with_stats, dump_format)\u001b[0m\n\u001b[1;32m   1187\u001b[0m                                                   \u001b[0mc_str\u001b[0m\u001b[0;34m(\u001b[0m\u001b[0mdump_format\u001b[0m\u001b[0;34m)\u001b[0m\u001b[0;34m,\u001b[0m\u001b[0;34m\u001b[0m\u001b[0m\n\u001b[1;32m   1188\u001b[0m                                                   \u001b[0mctypes\u001b[0m\u001b[0;34m.\u001b[0m\u001b[0mbyref\u001b[0m\u001b[0;34m(\u001b[0m\u001b[0mlength\u001b[0m\u001b[0;34m)\u001b[0m\u001b[0;34m,\u001b[0m\u001b[0;34m\u001b[0m\u001b[0m\n\u001b[0;32m-> 1189\u001b[0;31m                                                   ctypes.byref(sarr)))\n\u001b[0m\u001b[1;32m   1190\u001b[0m         \u001b[0mres\u001b[0m \u001b[0;34m=\u001b[0m \u001b[0mfrom_cstr_to_pystr\u001b[0m\u001b[0;34m(\u001b[0m\u001b[0msarr\u001b[0m\u001b[0;34m,\u001b[0m \u001b[0mlength\u001b[0m\u001b[0;34m)\u001b[0m\u001b[0;34m\u001b[0m\u001b[0m\n\u001b[1;32m   1191\u001b[0m         \u001b[0;32mreturn\u001b[0m \u001b[0mres\u001b[0m\u001b[0;34m\u001b[0m\u001b[0m\n",
      "\u001b[0;32m~/anaconda/envs/python3.6/lib/python3.6/site-packages/xgboost/core.py\u001b[0m in \u001b[0;36m_check_call\u001b[0;34m(ret)\u001b[0m\n\u001b[1;32m    128\u001b[0m     \"\"\"\n\u001b[1;32m    129\u001b[0m     \u001b[0;32mif\u001b[0m \u001b[0mret\u001b[0m \u001b[0;34m!=\u001b[0m \u001b[0;36m0\u001b[0m\u001b[0;34m:\u001b[0m\u001b[0;34m\u001b[0m\u001b[0m\n\u001b[0;32m--> 130\u001b[0;31m         \u001b[0;32mraise\u001b[0m \u001b[0mXGBoostError\u001b[0m\u001b[0;34m(\u001b[0m\u001b[0m_LIB\u001b[0m\u001b[0;34m.\u001b[0m\u001b[0mXGBGetLastError\u001b[0m\u001b[0;34m(\u001b[0m\u001b[0;34m)\u001b[0m\u001b[0;34m)\u001b[0m\u001b[0;34m\u001b[0m\u001b[0m\n\u001b[0m\u001b[1;32m    131\u001b[0m \u001b[0;34m\u001b[0m\u001b[0m\n\u001b[1;32m    132\u001b[0m \u001b[0;34m\u001b[0m\u001b[0m\n",
      "\u001b[0;31mXGBoostError\u001b[0m: b'[16:17:24] include/xgboost/././feature_map.h:83: unknown feature type, use i for indicator and q for quantity\\n\\nStack trace returned 2 entries:\\n[bt] (0) 0   libxgboost.dylib                    0x0000001a15ec71d9 _ZN4dmlc15LogMessageFatalD1Ev + 41\\n[bt] (1) 1   libstdc++.6.dylib                   0x0000001a16303ce0 _ZTVNSt7__cxx1115basic_stringbufIcSt11char_traitsIcESaIcEEE + 16\\n'"
     ]
    }
   ],
   "source": [
    "#get the importance (F score) of the features\n",
    "importance = cls.get_fscore(fmap='xgb.fmap')\n",
    "importance = sorted(importance.items(), key=operator.itemgetter(1))\n",
    "\n",
    "df = pd.DataFrame(importance, columns=['feature', 'fscore'])\n",
    "df['fscore'] = df['fscore'] / df['fscore'].sum()\n",
    "\n",
    "df.to_csv('feature_importance.csv')\n",
    "\n",
    "featp = df.plot(kind='barh', x='feature', y='fscore', legend=False, figsize=(6, 10))\n",
    "plt.title('XGBoost Feature Importance')\n",
    "plt.xlabel('relative importance')\n",
    "fig_featp = featp.get_figure()\n",
    "fig_featp.savefig('feature_importance_xgb.png', bbox_inches='tight', pad_inches=1)\n",
    "plt.show()"
   ]
  },
  {
   "cell_type": "code",
   "execution_count": null,
   "metadata": {
    "collapsed": true
   },
   "outputs": [],
   "source": []
  }
 ],
 "metadata": {
  "kernelspec": {
   "display_name": "python3.6",
   "language": "python",
   "name": "python3.6"
  },
  "language_info": {
   "codemirror_mode": {
    "name": "ipython",
    "version": 3
   },
   "file_extension": ".py",
   "mimetype": "text/x-python",
   "name": "python",
   "nbconvert_exporter": "python",
   "pygments_lexer": "ipython3",
   "version": "3.6.2"
  }
 },
 "nbformat": 4,
 "nbformat_minor": 2
}
