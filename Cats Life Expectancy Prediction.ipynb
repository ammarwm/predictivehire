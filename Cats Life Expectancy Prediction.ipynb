{
 "cells": [
  {
   "cell_type": "markdown",
   "metadata": {},
   "source": [
    "### The Task\n",
    "\n",
    "To create a predictive model that can be used to predict the life expectancy in years of any cat. The model will be\n",
    "created based on the data given in the file (cats.csv). Also to provide the necessary code to productionise the model."
   ]
  },
  {
   "cell_type": "markdown",
   "metadata": {},
   "source": [
    "#### Loading the necessary libraries"
   ]
  },
  {
   "cell_type": "code",
   "execution_count": 180,
   "metadata": {},
   "outputs": [],
   "source": [
    "import warnings\n",
    "\n",
    "warnings.filterwarnings('ignore')\n",
    "import os\n",
    "import pandas as pd\n",
    "import numpy as np\n",
    "from sklearn.model_selection import train_test_split\n",
    "from sklearn.metrics import confusion_matrix, classification_report,\\\n",
    "     roc_auc_score, roc_curve, mean_squared_error, mean_absolute_error, make_scorer\n",
    "from sklearn.linear_model import Ridge\n",
    "from sklearn.model_selection import GridSearchCV\n",
    "\n",
    "from sklearn.base import TransformerMixin\n",
    "from sklearn.preprocessing import LabelBinarizer\n",
    "from sklearn.pipeline import Pipeline\n",
    "\n",
    "from sklearn import decomposition\n",
    "\n",
    "from math import sqrt\n",
    "from sklearn_pandas import DataFrameMapper\n",
    "\n",
    "import dill\n",
    "\n",
    "from sklearn.metrics import r2_score\n",
    "\n",
    "from pandas.plotting import scatter_matrix\n",
    "\n",
    "import matplotlib.pyplot as plt\n",
    "%matplotlib inline\n",
    "\n",
    "import seaborn as sb\n",
    "\n",
    "import statsmodels.api as sm"
   ]
  },
  {
   "cell_type": "markdown",
   "metadata": {},
   "source": [
    "### Loading the data"
   ]
  },
  {
   "cell_type": "code",
   "execution_count": 73,
   "metadata": {
    "collapsed": true
   },
   "outputs": [],
   "source": [
    "cats_df = pd.read_csv('./data/cats.csv')"
   ]
  },
  {
   "cell_type": "code",
   "execution_count": 74,
   "metadata": {
    "collapsed": true
   },
   "outputs": [],
   "source": [
    "#Set the index correctly, I will add a column called 'remove' as a flag to identify records to be imputed\n",
    "cats_df = cats_df.set_index(['Unnamed: 0'])\n",
    "cats_df.index.name = 'seq'\n",
    "cats_df['remove'] = False #Used to identify samples to be removed"
   ]
  },
  {
   "cell_type": "code",
   "execution_count": 75,
   "metadata": {},
   "outputs": [
    {
     "data": {
      "text/html": [
       "<div>\n",
       "<style scoped>\n",
       "    .dataframe tbody tr th:only-of-type {\n",
       "        vertical-align: middle;\n",
       "    }\n",
       "\n",
       "    .dataframe tbody tr th {\n",
       "        vertical-align: top;\n",
       "    }\n",
       "\n",
       "    .dataframe thead th {\n",
       "        text-align: right;\n",
       "    }\n",
       "</style>\n",
       "<table border=\"1\" class=\"dataframe\">\n",
       "  <thead>\n",
       "    <tr style=\"text-align: right;\">\n",
       "      <th></th>\n",
       "      <th>age at death</th>\n",
       "      <th>breed</th>\n",
       "      <th>date of last vet visit</th>\n",
       "      <th>hair length</th>\n",
       "      <th>height</th>\n",
       "      <th>number of vet visits</th>\n",
       "      <th>weight</th>\n",
       "      <th>remove</th>\n",
       "    </tr>\n",
       "    <tr>\n",
       "      <th>seq</th>\n",
       "      <th></th>\n",
       "      <th></th>\n",
       "      <th></th>\n",
       "      <th></th>\n",
       "      <th></th>\n",
       "      <th></th>\n",
       "      <th></th>\n",
       "      <th></th>\n",
       "    </tr>\n",
       "  </thead>\n",
       "  <tbody>\n",
       "    <tr>\n",
       "      <th>0</th>\n",
       "      <td>7.0</td>\n",
       "      <td>Siamese</td>\n",
       "      <td>2009-08-02 14:02:18</td>\n",
       "      <td>0.883886</td>\n",
       "      <td>21.611951</td>\n",
       "      <td>5</td>\n",
       "      <td>4.0</td>\n",
       "      <td>False</td>\n",
       "    </tr>\n",
       "    <tr>\n",
       "      <th>1</th>\n",
       "      <td>9.0</td>\n",
       "      <td>Siamese</td>\n",
       "      <td>2013-11-27 19:08:52</td>\n",
       "      <td>1.221535</td>\n",
       "      <td>26.451956</td>\n",
       "      <td>10</td>\n",
       "      <td>4.0</td>\n",
       "      <td>False</td>\n",
       "    </tr>\n",
       "    <tr>\n",
       "      <th>2</th>\n",
       "      <td>8.0</td>\n",
       "      <td>Manx</td>\n",
       "      <td>2016-01-12 04:39:24</td>\n",
       "      <td>0.967718</td>\n",
       "      <td>18.540191</td>\n",
       "      <td>10</td>\n",
       "      <td>5.0</td>\n",
       "      <td>False</td>\n",
       "    </tr>\n",
       "    <tr>\n",
       "      <th>3</th>\n",
       "      <td>8.0</td>\n",
       "      <td>Maine Coon</td>\n",
       "      <td>2000-11-24 18:51:18</td>\n",
       "      <td>1.090641</td>\n",
       "      <td>16.564362</td>\n",
       "      <td>12</td>\n",
       "      <td>7.0</td>\n",
       "      <td>False</td>\n",
       "    </tr>\n",
       "    <tr>\n",
       "      <th>4</th>\n",
       "      <td>8.0</td>\n",
       "      <td>Maine Coon</td>\n",
       "      <td>2014-07-03 22:17:26</td>\n",
       "      <td>1.004712</td>\n",
       "      <td>22.535495</td>\n",
       "      <td>7</td>\n",
       "      <td>7.0</td>\n",
       "      <td>False</td>\n",
       "    </tr>\n",
       "  </tbody>\n",
       "</table>\n",
       "</div>"
      ],
      "text/plain": [
       "     age at death       breed date of last vet visit  hair length     height  \\\n",
       "seq                                                                            \n",
       "0             7.0     Siamese    2009-08-02 14:02:18     0.883886  21.611951   \n",
       "1             9.0     Siamese    2013-11-27 19:08:52     1.221535  26.451956   \n",
       "2             8.0        Manx    2016-01-12 04:39:24     0.967718  18.540191   \n",
       "3             8.0  Maine Coon    2000-11-24 18:51:18     1.090641  16.564362   \n",
       "4             8.0  Maine Coon    2014-07-03 22:17:26     1.004712  22.535495   \n",
       "\n",
       "     number of vet visits  weight  remove  \n",
       "seq                                        \n",
       "0                       5     4.0   False  \n",
       "1                      10     4.0   False  \n",
       "2                      10     5.0   False  \n",
       "3                      12     7.0   False  \n",
       "4                       7     7.0   False  "
      ]
     },
     "execution_count": 75,
     "metadata": {},
     "output_type": "execute_result"
    }
   ],
   "source": [
    "cats_df.head()"
   ]
  },
  {
   "cell_type": "markdown",
   "metadata": {},
   "source": [
    "### Preprocessing"
   ]
  },
  {
   "cell_type": "markdown",
   "metadata": {},
   "source": [
    "#### Converting datetime columns "
   ]
  },
  {
   "cell_type": "code",
   "execution_count": 76,
   "metadata": {},
   "outputs": [
    {
     "name": "stdout",
     "output_type": "stream",
     "text": [
      "     age at death breed date of last vet visit  hair length     height  \\\n",
      "seq                                                                      \n",
      "47            8.0   Rex    2009-22-12 02:43:43     1.037497  27.393672   \n",
      "\n",
      "     number of vet visits  weight  remove  \n",
      "seq                                        \n",
      "47                      6     6.0   False  \n"
     ]
    }
   ],
   "source": [
    "#Identifying wrong datetime format\n",
    "wrong_date_format = cats_df[cats_df['date of last vet visit'].apply(lambda c: pd.to_datetime(c, errors='coerce')).isnull()]\n",
    "print(wrong_date_format)\n",
    "cats_df['date of last vet visit'] = cats_df['date of last vet visit'].apply(lambda c: pd.to_datetime(c, errors='coerce'))\n",
    "cats_df['remove'].iloc[wrong_date_format.index] = True\n",
    "\n",
    "del wrong_date_format"
   ]
  },
  {
   "cell_type": "code",
   "execution_count": 6,
   "metadata": {},
   "outputs": [
    {
     "data": {
      "text/html": [
       "<div>\n",
       "<style scoped>\n",
       "    .dataframe tbody tr th:only-of-type {\n",
       "        vertical-align: middle;\n",
       "    }\n",
       "\n",
       "    .dataframe tbody tr th {\n",
       "        vertical-align: top;\n",
       "    }\n",
       "\n",
       "    .dataframe thead th {\n",
       "        text-align: right;\n",
       "    }\n",
       "</style>\n",
       "<table border=\"1\" class=\"dataframe\">\n",
       "  <thead>\n",
       "    <tr style=\"text-align: right;\">\n",
       "      <th></th>\n",
       "      <th>age at death</th>\n",
       "      <th>hair length</th>\n",
       "      <th>height</th>\n",
       "      <th>number of vet visits</th>\n",
       "      <th>weight</th>\n",
       "    </tr>\n",
       "  </thead>\n",
       "  <tbody>\n",
       "    <tr>\n",
       "      <th>count</th>\n",
       "      <td>299.000000</td>\n",
       "      <td>2.990000e+02</td>\n",
       "      <td>300.000000</td>\n",
       "      <td>300.000000</td>\n",
       "      <td>300.000000</td>\n",
       "    </tr>\n",
       "    <tr>\n",
       "      <th>mean</th>\n",
       "      <td>9.006689</td>\n",
       "      <td>3.027706e+09</td>\n",
       "      <td>20.498442</td>\n",
       "      <td>8.296667</td>\n",
       "      <td>3.957667</td>\n",
       "    </tr>\n",
       "    <tr>\n",
       "      <th>std</th>\n",
       "      <td>2.892937</td>\n",
       "      <td>5.235392e+10</td>\n",
       "      <td>5.107386</td>\n",
       "      <td>3.820643</td>\n",
       "      <td>2.033624</td>\n",
       "    </tr>\n",
       "    <tr>\n",
       "      <th>min</th>\n",
       "      <td>0.000000</td>\n",
       "      <td>6.904537e-01</td>\n",
       "      <td>5.077179</td>\n",
       "      <td>-1.000000</td>\n",
       "      <td>0.000000</td>\n",
       "    </tr>\n",
       "    <tr>\n",
       "      <th>25%</th>\n",
       "      <td>7.000000</td>\n",
       "      <td>9.377535e-01</td>\n",
       "      <td>16.958241</td>\n",
       "      <td>6.000000</td>\n",
       "      <td>2.000000</td>\n",
       "    </tr>\n",
       "    <tr>\n",
       "      <th>50%</th>\n",
       "      <td>9.000000</td>\n",
       "      <td>1.003253e+00</td>\n",
       "      <td>20.825805</td>\n",
       "      <td>8.000000</td>\n",
       "      <td>4.000000</td>\n",
       "    </tr>\n",
       "    <tr>\n",
       "      <th>75%</th>\n",
       "      <td>11.000000</td>\n",
       "      <td>1.067127e+00</td>\n",
       "      <td>24.043067</td>\n",
       "      <td>11.000000</td>\n",
       "      <td>5.250000</td>\n",
       "    </tr>\n",
       "    <tr>\n",
       "      <th>max</th>\n",
       "      <td>18.000000</td>\n",
       "      <td>9.052840e+11</td>\n",
       "      <td>33.043014</td>\n",
       "      <td>19.000000</td>\n",
       "      <td>10.000000</td>\n",
       "    </tr>\n",
       "  </tbody>\n",
       "</table>\n",
       "</div>"
      ],
      "text/plain": [
       "       age at death   hair length      height  number of vet visits  \\\n",
       "count    299.000000  2.990000e+02  300.000000            300.000000   \n",
       "mean       9.006689  3.027706e+09   20.498442              8.296667   \n",
       "std        2.892937  5.235392e+10    5.107386              3.820643   \n",
       "min        0.000000  6.904537e-01    5.077179             -1.000000   \n",
       "25%        7.000000  9.377535e-01   16.958241              6.000000   \n",
       "50%        9.000000  1.003253e+00   20.825805              8.000000   \n",
       "75%       11.000000  1.067127e+00   24.043067             11.000000   \n",
       "max       18.000000  9.052840e+11   33.043014             19.000000   \n",
       "\n",
       "           weight  \n",
       "count  300.000000  \n",
       "mean     3.957667  \n",
       "std      2.033624  \n",
       "min      0.000000  \n",
       "25%      2.000000  \n",
       "50%      4.000000  \n",
       "75%      5.250000  \n",
       "max     10.000000  "
      ]
     },
     "execution_count": 6,
     "metadata": {},
     "output_type": "execute_result"
    }
   ],
   "source": [
    "cats_df.describe()"
   ]
  },
  {
   "cell_type": "code",
   "execution_count": 7,
   "metadata": {},
   "outputs": [
    {
     "data": {
      "text/plain": [
       "Maine Coon    68\n",
       "Rex           64\n",
       "Manx          59\n",
       "Javanese      58\n",
       "Siamese       50\n",
       "Donald         1\n",
       "Name: breed, dtype: int64"
      ]
     },
     "execution_count": 7,
     "metadata": {},
     "output_type": "execute_result"
    }
   ],
   "source": [
    "cats_df['breed'].value_counts()"
   ]
  },
  {
   "cell_type": "markdown",
   "metadata": {},
   "source": [
    "### From the data above we can quickly see the following issues\n",
    "1 - There are two records with missing values in the (age at death) and (hair length variables).\n",
    "<br>\n",
    "2 - The variable (vet visits) has negative values, no enough information about why this value. \n",
    "<br>\n",
    "3 - Cats with 0.0 weight and 0 years age.\n",
    "<br>\n",
    "4 - Hair length 9.05^11.\n",
    "<br>\n",
    "5 - Only one record for Donal cat.\n",
    "<br>\n",
    "6 - Zero weight cats.\n"
   ]
  },
  {
   "cell_type": "markdown",
   "metadata": {},
   "source": [
    "#### Identifying records with missing values"
   ]
  },
  {
   "cell_type": "code",
   "execution_count": 77,
   "metadata": {},
   "outputs": [],
   "source": [
    "nan_samples = cats_df[cats_df.isnull().any(axis=1)]\n",
    "cats_df['remove'].iloc[nan_samples.index] = True\n",
    "del nan_samples"
   ]
  },
  {
   "cell_type": "markdown",
   "metadata": {},
   "source": [
    "#### Identifying records with negative values for the number of visit variable"
   ]
  },
  {
   "cell_type": "code",
   "execution_count": 78,
   "metadata": {
    "collapsed": true
   },
   "outputs": [],
   "source": [
    "negative_visits = cats_df[cats_df['number of vet visits'] < 0]['number of vet visits']\n",
    "cats_df['remove'].iloc[negative_visits.index] = True \n",
    "del negative_visits"
   ]
  },
  {
   "cell_type": "markdown",
   "metadata": {},
   "source": [
    "#### Identifying records with 0 age at death"
   ]
  },
  {
   "cell_type": "code",
   "execution_count": 79,
   "metadata": {
    "collapsed": true
   },
   "outputs": [],
   "source": [
    "zero_age = cats_df[cats_df['age at death'] <= 0]['age at death']\n",
    "cats_df['remove'].iloc[zero_age.index] = True\n",
    "del zero_age"
   ]
  },
  {
   "cell_type": "markdown",
   "metadata": {
    "collapsed": true
   },
   "source": [
    "#### Detecting outliers for the length of hair variable\n",
    "The function below, will identify records that have values that are larger than 1.5 the IQR."
   ]
  },
  {
   "cell_type": "code",
   "execution_count": 80,
   "metadata": {
    "collapsed": true
   },
   "outputs": [],
   "source": [
    "#The function will return the index of the outliers\n",
    "def detect_outliers(df, col, th):\n",
    "    q1  = df[col].quantile(.25)\n",
    "    q2  = df[col].quantile(.75)\n",
    "    iqr = q1 + q2\n",
    "    mask = df[col].between(q1-th*iqr, q2+th*iqr, inclusive=True)\n",
    "    return df.loc[~mask,col].index"
   ]
  },
  {
   "cell_type": "code",
   "execution_count": 81,
   "metadata": {
    "collapsed": true
   },
   "outputs": [],
   "source": [
    "outlier_indices = detect_outliers(cats_df, 'hair length', 1.5)\n",
    "cats_df['remove'].iloc[outlier_indices] = True"
   ]
  },
  {
   "cell_type": "markdown",
   "metadata": {
    "collapsed": true
   },
   "source": [
    "#### Identify the breed of 'Donald'"
   ]
  },
  {
   "cell_type": "code",
   "execution_count": 82,
   "metadata": {
    "collapsed": true
   },
   "outputs": [],
   "source": [
    "donald_breed = cats_df[cats_df['breed'] == 'Donald']\n",
    "cats_df['remove'].iloc[donald_breed.index] = True\n",
    "del donald_breed"
   ]
  },
  {
   "cell_type": "markdown",
   "metadata": {},
   "source": [
    "#### Identify records with zero weight"
   ]
  },
  {
   "cell_type": "code",
   "execution_count": 83,
   "metadata": {
    "collapsed": true
   },
   "outputs": [],
   "source": [
    "zero_weight = cats_df[cats_df['weight'] == 0]['weight']\n",
    "cats_df['remove'].iloc[zero_weight.index] = True\n",
    "del zero_weight"
   ]
  },
  {
   "cell_type": "markdown",
   "metadata": {},
   "source": [
    "#### The below records which have the above issues will be excluded from the analysis."
   ]
  },
  {
   "cell_type": "code",
   "execution_count": 84,
   "metadata": {},
   "outputs": [
    {
     "data": {
      "text/html": [
       "<div>\n",
       "<style scoped>\n",
       "    .dataframe tbody tr th:only-of-type {\n",
       "        vertical-align: middle;\n",
       "    }\n",
       "\n",
       "    .dataframe tbody tr th {\n",
       "        vertical-align: top;\n",
       "    }\n",
       "\n",
       "    .dataframe thead th {\n",
       "        text-align: right;\n",
       "    }\n",
       "</style>\n",
       "<table border=\"1\" class=\"dataframe\">\n",
       "  <thead>\n",
       "    <tr style=\"text-align: right;\">\n",
       "      <th></th>\n",
       "      <th>age at death</th>\n",
       "      <th>breed</th>\n",
       "      <th>date of last vet visit</th>\n",
       "      <th>hair length</th>\n",
       "      <th>height</th>\n",
       "      <th>number of vet visits</th>\n",
       "      <th>weight</th>\n",
       "      <th>remove</th>\n",
       "    </tr>\n",
       "    <tr>\n",
       "      <th>seq</th>\n",
       "      <th></th>\n",
       "      <th></th>\n",
       "      <th></th>\n",
       "      <th></th>\n",
       "      <th></th>\n",
       "      <th></th>\n",
       "      <th></th>\n",
       "      <th></th>\n",
       "    </tr>\n",
       "  </thead>\n",
       "  <tbody>\n",
       "    <tr>\n",
       "      <th>28</th>\n",
       "      <td>14.0</td>\n",
       "      <td>Donald</td>\n",
       "      <td>2004-02-02 20:27:11</td>\n",
       "      <td>8.880396e-01</td>\n",
       "      <td>9.727390</td>\n",
       "      <td>5</td>\n",
       "      <td>5.0</td>\n",
       "      <td>True</td>\n",
       "    </tr>\n",
       "    <tr>\n",
       "      <th>33</th>\n",
       "      <td>6.0</td>\n",
       "      <td>Maine Coon</td>\n",
       "      <td>2007-07-04 02:53:25</td>\n",
       "      <td>8.356103e-01</td>\n",
       "      <td>16.848307</td>\n",
       "      <td>5</td>\n",
       "      <td>0.0</td>\n",
       "      <td>True</td>\n",
       "    </tr>\n",
       "    <tr>\n",
       "      <th>47</th>\n",
       "      <td>8.0</td>\n",
       "      <td>Rex</td>\n",
       "      <td>NaT</td>\n",
       "      <td>1.037497e+00</td>\n",
       "      <td>27.393672</td>\n",
       "      <td>6</td>\n",
       "      <td>6.0</td>\n",
       "      <td>True</td>\n",
       "    </tr>\n",
       "    <tr>\n",
       "      <th>57</th>\n",
       "      <td>11.0</td>\n",
       "      <td>Manx</td>\n",
       "      <td>2011-11-12 23:23:01</td>\n",
       "      <td>8.684509e-01</td>\n",
       "      <td>21.647929</td>\n",
       "      <td>-1</td>\n",
       "      <td>2.0</td>\n",
       "      <td>True</td>\n",
       "    </tr>\n",
       "    <tr>\n",
       "      <th>61</th>\n",
       "      <td>6.0</td>\n",
       "      <td>Maine Coon</td>\n",
       "      <td>2002-02-06 06:49:07</td>\n",
       "      <td>9.420371e-01</td>\n",
       "      <td>23.571271</td>\n",
       "      <td>16</td>\n",
       "      <td>0.0</td>\n",
       "      <td>True</td>\n",
       "    </tr>\n",
       "    <tr>\n",
       "      <th>92</th>\n",
       "      <td>7.0</td>\n",
       "      <td>Maine Coon</td>\n",
       "      <td>2007-08-02 16:59:33</td>\n",
       "      <td>9.679410e-01</td>\n",
       "      <td>8.624444</td>\n",
       "      <td>-1</td>\n",
       "      <td>3.0</td>\n",
       "      <td>True</td>\n",
       "    </tr>\n",
       "    <tr>\n",
       "      <th>102</th>\n",
       "      <td>17.0</td>\n",
       "      <td>Rex</td>\n",
       "      <td>2007-11-27 07:35:08</td>\n",
       "      <td>1.086447e+00</td>\n",
       "      <td>19.750088</td>\n",
       "      <td>9</td>\n",
       "      <td>0.0</td>\n",
       "      <td>True</td>\n",
       "    </tr>\n",
       "    <tr>\n",
       "      <th>108</th>\n",
       "      <td>10.0</td>\n",
       "      <td>Rex</td>\n",
       "      <td>2012-12-10 03:48:52</td>\n",
       "      <td>9.052840e+11</td>\n",
       "      <td>18.661543</td>\n",
       "      <td>9</td>\n",
       "      <td>2.0</td>\n",
       "      <td>True</td>\n",
       "    </tr>\n",
       "    <tr>\n",
       "      <th>114</th>\n",
       "      <td>11.0</td>\n",
       "      <td>Siamese</td>\n",
       "      <td>2014-08-14 22:01:44</td>\n",
       "      <td>1.190255e+00</td>\n",
       "      <td>17.747619</td>\n",
       "      <td>6</td>\n",
       "      <td>0.0</td>\n",
       "      <td>True</td>\n",
       "    </tr>\n",
       "    <tr>\n",
       "      <th>131</th>\n",
       "      <td>6.0</td>\n",
       "      <td>Rex</td>\n",
       "      <td>2009-07-08 08:12:26</td>\n",
       "      <td>9.331319e-01</td>\n",
       "      <td>20.619181</td>\n",
       "      <td>8</td>\n",
       "      <td>0.0</td>\n",
       "      <td>True</td>\n",
       "    </tr>\n",
       "    <tr>\n",
       "      <th>163</th>\n",
       "      <td>14.0</td>\n",
       "      <td>Maine Coon</td>\n",
       "      <td>2000-04-28 10:14:54</td>\n",
       "      <td>1.096407e+00</td>\n",
       "      <td>22.907829</td>\n",
       "      <td>7</td>\n",
       "      <td>0.0</td>\n",
       "      <td>True</td>\n",
       "    </tr>\n",
       "    <tr>\n",
       "      <th>164</th>\n",
       "      <td>0.0</td>\n",
       "      <td>Rex</td>\n",
       "      <td>2007-07-20 22:28:24</td>\n",
       "      <td>9.368674e-01</td>\n",
       "      <td>14.317804</td>\n",
       "      <td>9</td>\n",
       "      <td>1.0</td>\n",
       "      <td>True</td>\n",
       "    </tr>\n",
       "    <tr>\n",
       "      <th>174</th>\n",
       "      <td>11.0</td>\n",
       "      <td>Maine Coon</td>\n",
       "      <td>2016-08-24 01:54:56</td>\n",
       "      <td>8.424473e-01</td>\n",
       "      <td>15.286063</td>\n",
       "      <td>14</td>\n",
       "      <td>0.0</td>\n",
       "      <td>True</td>\n",
       "    </tr>\n",
       "    <tr>\n",
       "      <th>179</th>\n",
       "      <td>10.0</td>\n",
       "      <td>Manx</td>\n",
       "      <td>2005-08-20 12:28:46</td>\n",
       "      <td>9.098111e-01</td>\n",
       "      <td>24.554019</td>\n",
       "      <td>5</td>\n",
       "      <td>0.0</td>\n",
       "      <td>True</td>\n",
       "    </tr>\n",
       "    <tr>\n",
       "      <th>214</th>\n",
       "      <td>6.0</td>\n",
       "      <td>Manx</td>\n",
       "      <td>2010-08-08 21:45:37</td>\n",
       "      <td>9.371482e-01</td>\n",
       "      <td>12.019150</td>\n",
       "      <td>9</td>\n",
       "      <td>0.0</td>\n",
       "      <td>True</td>\n",
       "    </tr>\n",
       "    <tr>\n",
       "      <th>258</th>\n",
       "      <td>NaN</td>\n",
       "      <td>Maine Coon</td>\n",
       "      <td>2010-09-16 08:07:38</td>\n",
       "      <td>9.795561e-01</td>\n",
       "      <td>26.055971</td>\n",
       "      <td>1</td>\n",
       "      <td>8.0</td>\n",
       "      <td>True</td>\n",
       "    </tr>\n",
       "    <tr>\n",
       "      <th>271</th>\n",
       "      <td>6.0</td>\n",
       "      <td>Manx</td>\n",
       "      <td>2001-02-13 02:04:31</td>\n",
       "      <td>NaN</td>\n",
       "      <td>21.520845</td>\n",
       "      <td>7</td>\n",
       "      <td>7.0</td>\n",
       "      <td>True</td>\n",
       "    </tr>\n",
       "    <tr>\n",
       "      <th>288</th>\n",
       "      <td>0.0</td>\n",
       "      <td>Javanese</td>\n",
       "      <td>2003-04-07 10:02:49</td>\n",
       "      <td>9.500697e-01</td>\n",
       "      <td>24.419723</td>\n",
       "      <td>10</td>\n",
       "      <td>3.0</td>\n",
       "      <td>True</td>\n",
       "    </tr>\n",
       "    <tr>\n",
       "      <th>290</th>\n",
       "      <td>8.0</td>\n",
       "      <td>Javanese</td>\n",
       "      <td>2005-05-16 16:33:16</td>\n",
       "      <td>1.019894e+00</td>\n",
       "      <td>17.027594</td>\n",
       "      <td>0</td>\n",
       "      <td>0.0</td>\n",
       "      <td>True</td>\n",
       "    </tr>\n",
       "    <tr>\n",
       "      <th>294</th>\n",
       "      <td>13.0</td>\n",
       "      <td>Javanese</td>\n",
       "      <td>2015-01-27 23:23:42</td>\n",
       "      <td>1.085022e+00</td>\n",
       "      <td>24.610927</td>\n",
       "      <td>-1</td>\n",
       "      <td>4.0</td>\n",
       "      <td>True</td>\n",
       "    </tr>\n",
       "  </tbody>\n",
       "</table>\n",
       "</div>"
      ],
      "text/plain": [
       "     age at death       breed date of last vet visit   hair length     height  \\\n",
       "seq                                                                             \n",
       "28           14.0      Donald    2004-02-02 20:27:11  8.880396e-01   9.727390   \n",
       "33            6.0  Maine Coon    2007-07-04 02:53:25  8.356103e-01  16.848307   \n",
       "47            8.0         Rex                    NaT  1.037497e+00  27.393672   \n",
       "57           11.0        Manx    2011-11-12 23:23:01  8.684509e-01  21.647929   \n",
       "61            6.0  Maine Coon    2002-02-06 06:49:07  9.420371e-01  23.571271   \n",
       "92            7.0  Maine Coon    2007-08-02 16:59:33  9.679410e-01   8.624444   \n",
       "102          17.0         Rex    2007-11-27 07:35:08  1.086447e+00  19.750088   \n",
       "108          10.0         Rex    2012-12-10 03:48:52  9.052840e+11  18.661543   \n",
       "114          11.0     Siamese    2014-08-14 22:01:44  1.190255e+00  17.747619   \n",
       "131           6.0         Rex    2009-07-08 08:12:26  9.331319e-01  20.619181   \n",
       "163          14.0  Maine Coon    2000-04-28 10:14:54  1.096407e+00  22.907829   \n",
       "164           0.0         Rex    2007-07-20 22:28:24  9.368674e-01  14.317804   \n",
       "174          11.0  Maine Coon    2016-08-24 01:54:56  8.424473e-01  15.286063   \n",
       "179          10.0        Manx    2005-08-20 12:28:46  9.098111e-01  24.554019   \n",
       "214           6.0        Manx    2010-08-08 21:45:37  9.371482e-01  12.019150   \n",
       "258           NaN  Maine Coon    2010-09-16 08:07:38  9.795561e-01  26.055971   \n",
       "271           6.0        Manx    2001-02-13 02:04:31           NaN  21.520845   \n",
       "288           0.0    Javanese    2003-04-07 10:02:49  9.500697e-01  24.419723   \n",
       "290           8.0    Javanese    2005-05-16 16:33:16  1.019894e+00  17.027594   \n",
       "294          13.0    Javanese    2015-01-27 23:23:42  1.085022e+00  24.610927   \n",
       "\n",
       "     number of vet visits  weight  remove  \n",
       "seq                                        \n",
       "28                      5     5.0    True  \n",
       "33                      5     0.0    True  \n",
       "47                      6     6.0    True  \n",
       "57                     -1     2.0    True  \n",
       "61                     16     0.0    True  \n",
       "92                     -1     3.0    True  \n",
       "102                     9     0.0    True  \n",
       "108                     9     2.0    True  \n",
       "114                     6     0.0    True  \n",
       "131                     8     0.0    True  \n",
       "163                     7     0.0    True  \n",
       "164                     9     1.0    True  \n",
       "174                    14     0.0    True  \n",
       "179                     5     0.0    True  \n",
       "214                     9     0.0    True  \n",
       "258                     1     8.0    True  \n",
       "271                     7     7.0    True  \n",
       "288                    10     3.0    True  \n",
       "290                     0     0.0    True  \n",
       "294                    -1     4.0    True  "
      ]
     },
     "execution_count": 84,
     "metadata": {},
     "output_type": "execute_result"
    }
   ],
   "source": [
    "cats_df[cats_df['remove']==True]"
   ]
  },
  {
   "cell_type": "markdown",
   "metadata": {},
   "source": [
    "#### Dropping the column remove"
   ]
  },
  {
   "cell_type": "code",
   "execution_count": 85,
   "metadata": {},
   "outputs": [],
   "source": [
    "cats_df = cats_df[cats_df['remove']==False]\n",
    "cats_df = cats_df.drop('remove', axis=1)"
   ]
  },
  {
   "cell_type": "markdown",
   "metadata": {},
   "source": [
    "### Univariate Analysis\n",
    "The purpuse of this analysis is to study the distribution of the variables seperately to identify any issue."
   ]
  },
  {
   "cell_type": "code",
   "execution_count": 26,
   "metadata": {},
   "outputs": [
    {
     "data": {
      "text/plain": [
       "<matplotlib.axes._subplots.AxesSubplot at 0x1c195269e8>"
      ]
     },
     "execution_count": 26,
     "metadata": {},
     "output_type": "execute_result"
    },
    {
     "data": {
      "image/png": "[encoded data removed]",
      "text/plain": [
       "<matplotlib.figure.Figure at 0x1c19340cc0>"
      ]
     },
     "metadata": {},
     "output_type": "display_data"
    }
   ],
   "source": [
    "fig,axes = plt.subplots(nrows=2, ncols=3, figsize=(15,15))\n",
    "fig.subplots_adjust(hspace=0.6, wspace=0.6)\n",
    "sb.boxplot(cats_df['age at death'], orient='v', ax=axes[0,0])\n",
    "sb.boxplot(cats_df['hair length'],  orient='v', ax=axes[0,1])\n",
    "sb.boxplot(cats_df['number of vet visits'], orient='v', ax=axes[0,2])\n",
    "sb.boxplot(cats_df['height'], orient='v', ax=axes[1,0])\n",
    "sb.boxplot(cats_df['weight'], orient='v', ax=axes[1,1])\n",
    "sb.countplot(x=cats_df['breed'],  orient='v', ax=axes[1,2])"
   ]
  },
  {
   "cell_type": "markdown",
   "metadata": {
    "collapsed": true
   },
   "source": [
    "### Bivariate Analysis\n",
    "This analysis is to get a feeling of the relationship between the features and the response varialbe (age at death)."
   ]
  },
  {
   "cell_type": "code",
   "execution_count": 28,
   "metadata": {},
   "outputs": [
    {
     "data": {
      "text/html": [
       "<div>\n",
       "<style scoped>\n",
       "    .dataframe tbody tr th:only-of-type {\n",
       "        vertical-align: middle;\n",
       "    }\n",
       "\n",
       "    .dataframe tbody tr th {\n",
       "        vertical-align: top;\n",
       "    }\n",
       "\n",
       "    .dataframe thead th {\n",
       "        text-align: right;\n",
       "    }\n",
       "</style>\n",
       "<table border=\"1\" class=\"dataframe\">\n",
       "  <thead>\n",
       "    <tr style=\"text-align: right;\">\n",
       "      <th></th>\n",
       "      <th>age at death</th>\n",
       "      <th>hair length</th>\n",
       "      <th>height</th>\n",
       "      <th>number of vet visits</th>\n",
       "      <th>weight</th>\n",
       "    </tr>\n",
       "  </thead>\n",
       "  <tbody>\n",
       "    <tr>\n",
       "      <th>count</th>\n",
       "      <td>280.000000</td>\n",
       "      <td>280.000000</td>\n",
       "      <td>280.000000</td>\n",
       "      <td>280.000000</td>\n",
       "      <td>280.000000</td>\n",
       "    </tr>\n",
       "    <tr>\n",
       "      <th>mean</th>\n",
       "      <td>9.032143</td>\n",
       "      <td>1.005091</td>\n",
       "      <td>20.579361</td>\n",
       "      <td>8.450000</td>\n",
       "      <td>4.093929</td>\n",
       "    </tr>\n",
       "    <tr>\n",
       "      <th>std</th>\n",
       "      <td>2.767393</td>\n",
       "      <td>0.099954</td>\n",
       "      <td>5.087675</td>\n",
       "      <td>3.706673</td>\n",
       "      <td>1.917304</td>\n",
       "    </tr>\n",
       "    <tr>\n",
       "      <th>min</th>\n",
       "      <td>2.000000</td>\n",
       "      <td>0.690454</td>\n",
       "      <td>5.077179</td>\n",
       "      <td>0.000000</td>\n",
       "      <td>1.000000</td>\n",
       "    </tr>\n",
       "    <tr>\n",
       "      <th>25%</th>\n",
       "      <td>7.000000</td>\n",
       "      <td>0.939183</td>\n",
       "      <td>16.994714</td>\n",
       "      <td>6.000000</td>\n",
       "      <td>3.000000</td>\n",
       "    </tr>\n",
       "    <tr>\n",
       "      <th>50%</th>\n",
       "      <td>9.000000</td>\n",
       "      <td>1.004823</td>\n",
       "      <td>20.865118</td>\n",
       "      <td>8.000000</td>\n",
       "      <td>4.000000</td>\n",
       "    </tr>\n",
       "    <tr>\n",
       "      <th>75%</th>\n",
       "      <td>11.000000</td>\n",
       "      <td>1.066356</td>\n",
       "      <td>24.043067</td>\n",
       "      <td>11.000000</td>\n",
       "      <td>6.000000</td>\n",
       "    </tr>\n",
       "    <tr>\n",
       "      <th>max</th>\n",
       "      <td>18.000000</td>\n",
       "      <td>1.238662</td>\n",
       "      <td>33.043014</td>\n",
       "      <td>19.000000</td>\n",
       "      <td>10.000000</td>\n",
       "    </tr>\n",
       "  </tbody>\n",
       "</table>\n",
       "</div>"
      ],
      "text/plain": [
       "       age at death  hair length      height  number of vet visits      weight\n",
       "count    280.000000   280.000000  280.000000            280.000000  280.000000\n",
       "mean       9.032143     1.005091   20.579361              8.450000    4.093929\n",
       "std        2.767393     0.099954    5.087675              3.706673    1.917304\n",
       "min        2.000000     0.690454    5.077179              0.000000    1.000000\n",
       "25%        7.000000     0.939183   16.994714              6.000000    3.000000\n",
       "50%        9.000000     1.004823   20.865118              8.000000    4.000000\n",
       "75%       11.000000     1.066356   24.043067             11.000000    6.000000\n",
       "max       18.000000     1.238662   33.043014             19.000000   10.000000"
      ]
     },
     "execution_count": 28,
     "metadata": {},
     "output_type": "execute_result"
    }
   ],
   "source": [
    "cats_df.describe()"
   ]
  },
  {
   "cell_type": "markdown",
   "metadata": {},
   "source": [
    "### Analysing the correlation between the features and the respnse variable"
   ]
  },
  {
   "cell_type": "code",
   "execution_count": 88,
   "metadata": {},
   "outputs": [
    {
     "data": {
      "text/html": [
       "<div>\n",
       "<style scoped>\n",
       "    .dataframe tbody tr th:only-of-type {\n",
       "        vertical-align: middle;\n",
       "    }\n",
       "\n",
       "    .dataframe tbody tr th {\n",
       "        vertical-align: top;\n",
       "    }\n",
       "\n",
       "    .dataframe thead th {\n",
       "        text-align: right;\n",
       "    }\n",
       "</style>\n",
       "<table border=\"1\" class=\"dataframe\">\n",
       "  <thead>\n",
       "    <tr style=\"text-align: right;\">\n",
       "      <th></th>\n",
       "      <th>age at death</th>\n",
       "      <th>breed</th>\n",
       "      <th>date of last vet visit</th>\n",
       "      <th>hair length</th>\n",
       "      <th>height</th>\n",
       "      <th>number of vet visits</th>\n",
       "      <th>weight</th>\n",
       "    </tr>\n",
       "    <tr>\n",
       "      <th>seq</th>\n",
       "      <th></th>\n",
       "      <th></th>\n",
       "      <th></th>\n",
       "      <th></th>\n",
       "      <th></th>\n",
       "      <th></th>\n",
       "      <th></th>\n",
       "    </tr>\n",
       "  </thead>\n",
       "  <tbody>\n",
       "    <tr>\n",
       "      <th>0</th>\n",
       "      <td>7.0</td>\n",
       "      <td>Siamese</td>\n",
       "      <td>2009-08-02 14:02:18</td>\n",
       "      <td>0.883886</td>\n",
       "      <td>21.611951</td>\n",
       "      <td>5</td>\n",
       "      <td>4.0</td>\n",
       "    </tr>\n",
       "    <tr>\n",
       "      <th>1</th>\n",
       "      <td>9.0</td>\n",
       "      <td>Siamese</td>\n",
       "      <td>2013-11-27 19:08:52</td>\n",
       "      <td>1.221535</td>\n",
       "      <td>26.451956</td>\n",
       "      <td>10</td>\n",
       "      <td>4.0</td>\n",
       "    </tr>\n",
       "    <tr>\n",
       "      <th>2</th>\n",
       "      <td>8.0</td>\n",
       "      <td>Manx</td>\n",
       "      <td>2016-01-12 04:39:24</td>\n",
       "      <td>0.967718</td>\n",
       "      <td>18.540191</td>\n",
       "      <td>10</td>\n",
       "      <td>5.0</td>\n",
       "    </tr>\n",
       "    <tr>\n",
       "      <th>3</th>\n",
       "      <td>8.0</td>\n",
       "      <td>Maine Coon</td>\n",
       "      <td>2000-11-24 18:51:18</td>\n",
       "      <td>1.090641</td>\n",
       "      <td>16.564362</td>\n",
       "      <td>12</td>\n",
       "      <td>7.0</td>\n",
       "    </tr>\n",
       "    <tr>\n",
       "      <th>4</th>\n",
       "      <td>8.0</td>\n",
       "      <td>Maine Coon</td>\n",
       "      <td>2014-07-03 22:17:26</td>\n",
       "      <td>1.004712</td>\n",
       "      <td>22.535495</td>\n",
       "      <td>7</td>\n",
       "      <td>7.0</td>\n",
       "    </tr>\n",
       "  </tbody>\n",
       "</table>\n",
       "</div>"
      ],
      "text/plain": [
       "     age at death       breed date of last vet visit  hair length     height  \\\n",
       "seq                                                                            \n",
       "0             7.0     Siamese    2009-08-02 14:02:18     0.883886  21.611951   \n",
       "1             9.0     Siamese    2013-11-27 19:08:52     1.221535  26.451956   \n",
       "2             8.0        Manx    2016-01-12 04:39:24     0.967718  18.540191   \n",
       "3             8.0  Maine Coon    2000-11-24 18:51:18     1.090641  16.564362   \n",
       "4             8.0  Maine Coon    2014-07-03 22:17:26     1.004712  22.535495   \n",
       "\n",
       "     number of vet visits  weight  \n",
       "seq                                \n",
       "0                       5     4.0  \n",
       "1                      10     4.0  \n",
       "2                      10     5.0  \n",
       "3                      12     7.0  \n",
       "4                       7     7.0  "
      ]
     },
     "execution_count": 88,
     "metadata": {},
     "output_type": "execute_result"
    }
   ],
   "source": [
    "cats_df.head()"
   ]
  },
  {
   "cell_type": "code",
   "execution_count": 89,
   "metadata": {},
   "outputs": [
    {
     "name": "stdout",
     "output_type": "stream",
     "text": [
      "Correlation between age at death and hair length:\n",
      "0.03653987062751793\n"
     ]
    },
    {
     "data": {
      "image/png": "[encoded data removed]",
      "text/plain": [
       "<matplotlib.figure.Figure at 0x1c19354c18>"
      ]
     },
     "metadata": {},
     "output_type": "display_data"
    },
    {
     "name": "stdout",
     "output_type": "stream",
     "text": [
      "Correlation between age at death and height:\n",
      "-0.04631251324563596\n"
     ]
    },
    {
     "data": {
      "image/png": "[encoded data removed]",
      "text/plain": [
       "<matplotlib.figure.Figure at 0x1c195612b0>"
      ]
     },
     "metadata": {},
     "output_type": "display_data"
    },
    {
     "name": "stdout",
     "output_type": "stream",
     "text": [
      "Correlation between age at death and number of vet visits:\n",
      "-0.03460949093946466\n"
     ]
    },
    {
     "data": {
      "image/png": "[encoded data removed]",
      "text/plain": [
       "<matplotlib.figure.Figure at 0x1c18832b70>"
      ]
     },
     "metadata": {},
     "output_type": "display_data"
    },
    {
     "name": "stdout",
     "output_type": "stream",
     "text": [
      "Correlation between age at death and weight:\n",
      "-0.037994492014238705\n"
     ]
    },
    {
     "data": {
      "image/png": "[encoded data removed]",
      "text/plain": [
       "<matplotlib.figure.Figure at 0x1c190d2fd0>"
      ]
     },
     "metadata": {},
     "output_type": "display_data"
    }
   ],
   "source": [
    "def analyse_correlation(df, dep_variable, indep_variable):\n",
    "    for v in indep_variable:\n",
    "         print('Correlation between {} and {}:'.format(dep_variable, v))\n",
    "         print(np.corrcoef(df[dep_variable].values, df[v].values)[0,1])\n",
    "         sb.regplot(x=v, y=dep_variable, data=df)\n",
    "         plt.show()\n",
    "        \n",
    "analyse_correlation(cats_df.dropna(), 'age at death', ['hair length', 'height', 'number of vet visits', 'weight'])"
   ]
  },
  {
   "cell_type": "code",
   "execution_count": 90,
   "metadata": {},
   "outputs": [
    {
     "data": {
      "image/png": "[encoded data removed]",
      "text/plain": [
       "<matplotlib.figure.Figure at 0x1c1addaa90>"
      ]
     },
     "metadata": {},
     "output_type": "display_data"
    }
   ],
   "source": [
    "sb.distplot(cats_df['age at death'].dropna())\n",
    "plt.show()"
   ]
  },
  {
   "cell_type": "markdown",
   "metadata": {},
   "source": [
    "## Predicting Cat Life Expectancy Using Regression "
   ]
  },
  {
   "cell_type": "markdown",
   "metadata": {},
   "source": [
    "We can use two approaches to predict the cat life expectancy. One approach is to consider the problems as \n",
    "a classification one, where the response variable (age at death) is splitted into categories, for example low, medium and high and then we create a classification model.  \n",
    "\n",
    "Because the response varialbe (age at death) is continous, I will use regression for prediction.\n",
    "Ridge algorithm will be used. Ridge is a linear regression model with norm two penalty on the weights.\n",
    "Ridge algorithm has few parameters to be tuned. The most important one is (alpha) the penality factor. To find the best parameters, a grid search will be performed.  "
   ]
  },
  {
   "cell_type": "code",
   "execution_count": 93,
   "metadata": {},
   "outputs": [],
   "source": [
    "X_ = cats_df[cats_df.columns.difference(['age at death','remove'])]\n",
    "y_ = cats_df['age at death']"
   ]
  },
  {
   "cell_type": "code",
   "execution_count": 94,
   "metadata": {},
   "outputs": [
    {
     "data": {
      "text/html": [
       "<div>\n",
       "<style scoped>\n",
       "    .dataframe tbody tr th:only-of-type {\n",
       "        vertical-align: middle;\n",
       "    }\n",
       "\n",
       "    .dataframe tbody tr th {\n",
       "        vertical-align: top;\n",
       "    }\n",
       "\n",
       "    .dataframe thead th {\n",
       "        text-align: right;\n",
       "    }\n",
       "</style>\n",
       "<table border=\"1\" class=\"dataframe\">\n",
       "  <thead>\n",
       "    <tr style=\"text-align: right;\">\n",
       "      <th></th>\n",
       "      <th>breed</th>\n",
       "      <th>date of last vet visit</th>\n",
       "      <th>hair length</th>\n",
       "      <th>height</th>\n",
       "      <th>number of vet visits</th>\n",
       "      <th>weight</th>\n",
       "    </tr>\n",
       "    <tr>\n",
       "      <th>seq</th>\n",
       "      <th></th>\n",
       "      <th></th>\n",
       "      <th></th>\n",
       "      <th></th>\n",
       "      <th></th>\n",
       "      <th></th>\n",
       "    </tr>\n",
       "  </thead>\n",
       "  <tbody>\n",
       "    <tr>\n",
       "      <th>0</th>\n",
       "      <td>Siamese</td>\n",
       "      <td>2009-08-02 14:02:18</td>\n",
       "      <td>0.883886</td>\n",
       "      <td>21.611951</td>\n",
       "      <td>5</td>\n",
       "      <td>4.0</td>\n",
       "    </tr>\n",
       "    <tr>\n",
       "      <th>1</th>\n",
       "      <td>Siamese</td>\n",
       "      <td>2013-11-27 19:08:52</td>\n",
       "      <td>1.221535</td>\n",
       "      <td>26.451956</td>\n",
       "      <td>10</td>\n",
       "      <td>4.0</td>\n",
       "    </tr>\n",
       "    <tr>\n",
       "      <th>2</th>\n",
       "      <td>Manx</td>\n",
       "      <td>2016-01-12 04:39:24</td>\n",
       "      <td>0.967718</td>\n",
       "      <td>18.540191</td>\n",
       "      <td>10</td>\n",
       "      <td>5.0</td>\n",
       "    </tr>\n",
       "    <tr>\n",
       "      <th>3</th>\n",
       "      <td>Maine Coon</td>\n",
       "      <td>2000-11-24 18:51:18</td>\n",
       "      <td>1.090641</td>\n",
       "      <td>16.564362</td>\n",
       "      <td>12</td>\n",
       "      <td>7.0</td>\n",
       "    </tr>\n",
       "    <tr>\n",
       "      <th>4</th>\n",
       "      <td>Maine Coon</td>\n",
       "      <td>2014-07-03 22:17:26</td>\n",
       "      <td>1.004712</td>\n",
       "      <td>22.535495</td>\n",
       "      <td>7</td>\n",
       "      <td>7.0</td>\n",
       "    </tr>\n",
       "  </tbody>\n",
       "</table>\n",
       "</div>"
      ],
      "text/plain": [
       "          breed date of last vet visit  hair length     height  \\\n",
       "seq                                                              \n",
       "0       Siamese    2009-08-02 14:02:18     0.883886  21.611951   \n",
       "1       Siamese    2013-11-27 19:08:52     1.221535  26.451956   \n",
       "2          Manx    2016-01-12 04:39:24     0.967718  18.540191   \n",
       "3    Maine Coon    2000-11-24 18:51:18     1.090641  16.564362   \n",
       "4    Maine Coon    2014-07-03 22:17:26     1.004712  22.535495   \n",
       "\n",
       "     number of vet visits  weight  \n",
       "seq                                \n",
       "0                       5     4.0  \n",
       "1                      10     4.0  \n",
       "2                      10     5.0  \n",
       "3                      12     7.0  \n",
       "4                       7     7.0  "
      ]
     },
     "execution_count": 94,
     "metadata": {},
     "output_type": "execute_result"
    }
   ],
   "source": [
    "X_.head()"
   ]
  },
  {
   "cell_type": "markdown",
   "metadata": {},
   "source": [
    "Using sklearn Pipeline, I will create a processing pipeline that takes as input the training data and produces the model. The pipeline consists of the following steps:\n",
    "\n",
    "#### Feature preprocessing\n",
    "In this step, the date feature will be splitted into (year, month, day of week, hour) and the categorial features are converted into binary representation using one hot encoding.\n",
    "\n",
    "#### Tunning the paramters of the Ridge Algorithm.\n",
    "Using GridSearchCV module, the three parameters (alpha, fit_intercept, normalize) will be searched to find the best combination. GridSearhCV splits the training data using crossover validation. Then, it exhaustively searches all the possible combinations of the parameters to maximise(minimise) a performance metric. \n",
    "The performance metric I will use here is the root mean sequare error. \n",
    "\n",
    "#### Training the model\n",
    "Data is splitted into 80% training data and 20% testing."
   ]
  },
  {
   "cell_type": "code",
   "execution_count": 189,
   "metadata": {},
   "outputs": [
    {
     "name": "stdout",
     "output_type": "stream",
     "text": [
      "Fitting 3 folds for each of 40 candidates, totalling 120 fits\n",
      "[CV] classifier__alpha=0.0, classifier__fit_intercept=True, classifier__normalize=True \n",
      "RMSE: 3.0067794858766423\n",
      "RMSE: 2.6747362036112228\n",
      "[CV]  classifier__alpha=0.0, classifier__fit_intercept=True, classifier__normalize=True, score=-3.0067794858766423, total=   0.0s\n",
      "[CV] classifier__alpha=0.0, classifier__fit_intercept=True, classifier__normalize=True \n",
      "RMSE: 2.916228216317089\n",
      "RMSE: 2.7541657113285725\n",
      "[CV]  classifier__alpha=0.0, classifier__fit_intercept=True, classifier__normalize=True, score=-2.916228216317089, total=   0.0s\n",
      "[CV] classifier__alpha=0.0, classifier__fit_intercept=True, classifier__normalize=True \n",
      "RMSE: 3.1467071939547764\n",
      "RMSE: 2.606327737481082\n",
      "[CV]  classifier__alpha=0.0, classifier__fit_intercept=True, classifier__normalize=True, score=-3.1467071939547764, total=   0.0s\n",
      "[CV] classifier__alpha=0.0, classifier__fit_intercept=True, classifier__normalize=False \n",
      "RMSE: 3.0067794858766406\n",
      "RMSE: 2.674736203611223\n",
      "[CV]  classifier__alpha=0.0, classifier__fit_intercept=True, classifier__normalize=False, score=-3.0067794858766406, total=   0.0s\n",
      "[CV] classifier__alpha=0.0, classifier__fit_intercept=True, classifier__normalize=False \n",
      "RMSE: 2.9162282163170863\n",
      "RMSE: 2.754165711328573\n",
      "[CV]  classifier__alpha=0.0, classifier__fit_intercept=True, classifier__normalize=False, score=-2.9162282163170863, total=   0.0s\n",
      "[CV] classifier__alpha=0.0, classifier__fit_intercept=True, classifier__normalize=False \n",
      "RMSE: 3.1467071939547773\n",
      "RMSE: 2.606327737481082\n",
      "[CV]  classifier__alpha=0.0, classifier__fit_intercept=True, classifier__normalize=False, score=-3.1467071939547773, total=   0.0s\n",
      "[CV] classifier__alpha=0.0, classifier__fit_intercept=False, classifier__normalize=True \n",
      "RMSE: 3.0034154833693942\n",
      "RMSE: 2.674974800494809\n",
      "[CV]  classifier__alpha=0.0, classifier__fit_intercept=False, classifier__normalize=True, score=-3.0034154833693942, total=   0.0s\n",
      "[CV] classifier__alpha=0.0, classifier__fit_intercept=False, classifier__normalize=True \n",
      "RMSE: 2.8948848444429576\n",
      "RMSE: 2.757822089749588\n",
      "[CV]  classifier__alpha=0.0, classifier__fit_intercept=False, classifier__normalize=True, score=-2.8948848444429576, total=   0.0s\n",
      "[CV] classifier__alpha=0.0, classifier__fit_intercept=False, classifier__normalize=True \n",
      "RMSE: 3.125309093509433\n",
      "RMSE: 2.613862837956978\n",
      "[CV]  classifier__alpha=0.0, classifier__fit_intercept=False, classifier__normalize=True, score=-3.125309093509433, total=   0.0s\n",
      "[CV] classifier__alpha=0.0, classifier__fit_intercept=False, classifier__normalize=False \n",
      "RMSE: 3.0034154833693942\n",
      "RMSE: 2.674974800494809\n",
      "[CV]  classifier__alpha=0.0, classifier__fit_intercept=False, classifier__normalize=False, score=-3.0034154833693942, total=   0.0s\n",
      "[CV] classifier__alpha=0.0, classifier__fit_intercept=False, classifier__normalize=False \n",
      "RMSE: 2.8948848444429576\n",
      "RMSE: 2.757822089749588\n",
      "[CV]  classifier__alpha=0.0, classifier__fit_intercept=False, classifier__normalize=False, score=-2.8948848444429576, total=   0.0s\n",
      "[CV] classifier__alpha=0.0, classifier__fit_intercept=False, classifier__normalize=False \n",
      "RMSE: 3.125309093509433\n",
      "RMSE: 2.613862837956978\n",
      "[CV]  classifier__alpha=0.0, classifier__fit_intercept=False, classifier__normalize=False, score=-3.125309093509433, total=   0.0s\n",
      "[CV] classifier__alpha=0.1111111111111111, classifier__fit_intercept=True, classifier__normalize=True \n",
      "RMSE: 2.8545330761657315\n",
      "RMSE: 2.72469996703571\n",
      "[CV]  classifier__alpha=0.1111111111111111, classifier__fit_intercept=True, classifier__normalize=True, score=-2.8545330761657315, total=   0.0s\n",
      "[CV] classifier__alpha=0.1111111111111111, classifier__fit_intercept=True, classifier__normalize=True \n",
      "RMSE: 2.685736097489479\n"
     ]
    },
    {
     "name": "stderr",
     "output_type": "stream",
     "text": [
      "[Parallel(n_jobs=1)]: Done   1 out of   1 | elapsed:    0.0s remaining:    0.0s\n",
      "[Parallel(n_jobs=1)]: Done   2 out of   2 | elapsed:    0.0s remaining:    0.0s\n"
     ]
    },
    {
     "name": "stdout",
     "output_type": "stream",
     "text": [
      "RMSE: 2.8135137543580435\n",
      "[CV]  classifier__alpha=0.1111111111111111, classifier__fit_intercept=True, classifier__normalize=True, score=-2.685736097489479, total=   0.0s\n",
      "[CV] classifier__alpha=0.1111111111111111, classifier__fit_intercept=True, classifier__normalize=True \n",
      "RMSE: 2.8439056593704723\n",
      "RMSE: 2.7167055211945383\n",
      "[CV]  classifier__alpha=0.1111111111111111, classifier__fit_intercept=True, classifier__normalize=True, score=-2.8439056593704723, total=   0.0s\n",
      "[CV] classifier__alpha=0.1111111111111111, classifier__fit_intercept=True, classifier__normalize=False \n",
      "RMSE: 2.8999746713379717\n",
      "RMSE: 2.700756042587507\n",
      "[CV]  classifier__alpha=0.1111111111111111, classifier__fit_intercept=True, classifier__normalize=False, score=-2.8999746713379717, total=   0.0s\n",
      "[CV] classifier__alpha=0.1111111111111111, classifier__fit_intercept=True, classifier__normalize=False \n",
      "RMSE: 2.825681184253135\n",
      "RMSE: 2.7826383223930184\n",
      "[CV]  classifier__alpha=0.1111111111111111, classifier__fit_intercept=True, classifier__normalize=False, score=-2.825681184253135, total=   0.0s\n",
      "[CV] classifier__alpha=0.1111111111111111, classifier__fit_intercept=True, classifier__normalize=False \n",
      "RMSE: 3.062549758513164\n",
      "RMSE: 2.6281081624492955\n",
      "[CV]  classifier__alpha=0.1111111111111111, classifier__fit_intercept=True, classifier__normalize=False, score=-3.062549758513164, total=   0.0s\n",
      "[CV] classifier__alpha=0.1111111111111111, classifier__fit_intercept=False, classifier__normalize=True \n",
      "RMSE: 2.8971612996372746\n",
      "RMSE: 2.7011267174606695\n",
      "[CV]  classifier__alpha=0.1111111111111111, classifier__fit_intercept=False, classifier__normalize=True, score=-2.8971612996372746, total=   0.0s\n",
      "[CV] classifier__alpha=0.1111111111111111, classifier__fit_intercept=False, classifier__normalize=True \n",
      "RMSE: 2.813405799432501\n",
      "RMSE: 2.784602793658333\n",
      "[CV]  classifier__alpha=0.1111111111111111, classifier__fit_intercept=False, classifier__normalize=True, score=-2.813405799432501, total=   0.0s\n",
      "[CV] classifier__alpha=0.1111111111111111, classifier__fit_intercept=False, classifier__normalize=True \n",
      "RMSE: 3.0361425341185306\n",
      "RMSE: 2.6358767220561705\n",
      "[CV]  classifier__alpha=0.1111111111111111, classifier__fit_intercept=False, classifier__normalize=True, score=-3.0361425341185306, total=   0.0s\n",
      "[CV] classifier__alpha=0.1111111111111111, classifier__fit_intercept=False, classifier__normalize=False \n",
      "RMSE: 2.8971612996372746\n",
      "RMSE: 2.7011267174606695\n",
      "[CV]  classifier__alpha=0.1111111111111111, classifier__fit_intercept=False, classifier__normalize=False, score=-2.8971612996372746, total=   0.0s\n",
      "[CV] classifier__alpha=0.1111111111111111, classifier__fit_intercept=False, classifier__normalize=False \n",
      "RMSE: 2.813405799432501\n",
      "RMSE: 2.784602793658333\n",
      "[CV]  classifier__alpha=0.1111111111111111, classifier__fit_intercept=False, classifier__normalize=False, score=-2.813405799432501, total=   0.0s\n",
      "[CV] classifier__alpha=0.1111111111111111, classifier__fit_intercept=False, classifier__normalize=False \n",
      "RMSE: 3.0361425341185306\n",
      "RMSE: 2.6358767220561705\n",
      "[CV]  classifier__alpha=0.1111111111111111, classifier__fit_intercept=False, classifier__normalize=False, score=-3.0361425341185306, total=   0.0s\n",
      "[CV] classifier__alpha=0.2222222222222222, classifier__fit_intercept=True, classifier__normalize=True \n",
      "RMSE: 2.8545330761657315\n",
      "RMSE: 2.72469996703571\n",
      "[CV]  classifier__alpha=0.2222222222222222, classifier__fit_intercept=True, classifier__normalize=True, score=-2.8545330761657315, total=   0.0s\n",
      "[CV] classifier__alpha=0.2222222222222222, classifier__fit_intercept=True, classifier__normalize=True \n",
      "RMSE: 2.685736097489479\n",
      "RMSE: 2.8135137543580435\n",
      "[CV]  classifier__alpha=0.2222222222222222, classifier__fit_intercept=True, classifier__normalize=True, score=-2.685736097489479, total=   0.0s\n",
      "[CV] classifier__alpha=0.2222222222222222, classifier__fit_intercept=True, classifier__normalize=True \n",
      "RMSE: 2.8439056593704723\n",
      "RMSE: 2.7167055211945383\n",
      "[CV]  classifier__alpha=0.2222222222222222, classifier__fit_intercept=True, classifier__normalize=True, score=-2.8439056593704723, total=   0.0s\n",
      "[CV] classifier__alpha=0.2222222222222222, classifier__fit_intercept=True, classifier__normalize=False \n",
      "RMSE: 2.8861117864170462\n",
      "RMSE: 2.7103787506546015\n",
      "[CV]  classifier__alpha=0.2222222222222222, classifier__fit_intercept=True, classifier__normalize=False, score=-2.8861117864170462, total=   0.0s\n",
      "[CV] classifier__alpha=0.2222222222222222, classifier__fit_intercept=True, classifier__normalize=False \n",
      "RMSE: 2.7919575906269\n",
      "RMSE: 2.785828724752464\n",
      "[CV]  classifier__alpha=0.2222222222222222, classifier__fit_intercept=True, classifier__normalize=False, score=-2.7919575906269, total=   0.0s\n",
      "[CV] classifier__alpha=0.2222222222222222, classifier__fit_intercept=True, classifier__normalize=False \n",
      "RMSE: 3.0327985094732197\n",
      "RMSE: 2.6337430997205016\n",
      "[CV]  classifier__alpha=0.2222222222222222, classifier__fit_intercept=True, classifier__normalize=False, score=-3.0327985094732197, total=   0.0s\n",
      "[CV] classifier__alpha=0.2222222222222222, classifier__fit_intercept=False, classifier__normalize=True \n",
      "RMSE: 2.8850645482282324\n",
      "RMSE: 2.710530720742003\n",
      "[CV]  classifier__alpha=0.2222222222222222, classifier__fit_intercept=False, classifier__normalize=True, score=-2.8850645482282324, total=   0.0s\n",
      "[CV] classifier__alpha=0.2222222222222222, classifier__fit_intercept=False, classifier__normalize=True \n",
      "RMSE: 2.782668709217743\n",
      "RMSE: 2.787574832733438\n",
      "[CV]  classifier__alpha=0.2222222222222222, classifier__fit_intercept=False, classifier__normalize=True, score=-2.782668709217743, total=   0.0s\n",
      "[CV] classifier__alpha=0.2222222222222222, classifier__fit_intercept=False, classifier__normalize=True \n",
      "RMSE: 3.0066800232429176\n",
      "RMSE: 2.6424970752456725\n",
      "[CV]  classifier__alpha=0.2222222222222222, classifier__fit_intercept=False, classifier__normalize=True, score=-3.0066800232429176, total=   0.0s\n",
      "[CV] classifier__alpha=0.2222222222222222, classifier__fit_intercept=False, classifier__normalize=False \n",
      "RMSE: 2.8850645482282324\n",
      "RMSE: 2.710530720742003\n",
      "[CV]  classifier__alpha=0.2222222222222222, classifier__fit_intercept=False, classifier__normalize=False, score=-2.8850645482282324, total=   0.0s\n",
      "[CV] classifier__alpha=0.2222222222222222, classifier__fit_intercept=False, classifier__normalize=False \n",
      "RMSE: 2.782668709217743\n",
      "RMSE: 2.787574832733438\n",
      "[CV]  classifier__alpha=0.2222222222222222, classifier__fit_intercept=False, classifier__normalize=False, score=-2.782668709217743, total=   0.0s\n",
      "[CV] classifier__alpha=0.2222222222222222, classifier__fit_intercept=False, classifier__normalize=False \n",
      "RMSE: 3.0066800232429176\n",
      "RMSE: 2.6424970752456725\n",
      "[CV]  classifier__alpha=0.2222222222222222, classifier__fit_intercept=False, classifier__normalize=False, score=-3.0066800232429176, total=   0.0s\n",
      "[CV] classifier__alpha=0.3333333333333333, classifier__fit_intercept=True, classifier__normalize=True \n",
      "RMSE: 2.8545330761657315\n",
      "RMSE: 2.72469996703571\n",
      "[CV]  classifier__alpha=0.3333333333333333, classifier__fit_intercept=True, classifier__normalize=True, score=-2.8545330761657315, total=   0.0s\n",
      "[CV] classifier__alpha=0.3333333333333333, classifier__fit_intercept=True, classifier__normalize=True \n",
      "RMSE: 2.685736097489479\n",
      "RMSE: 2.8135137543580435\n",
      "[CV]  classifier__alpha=0.3333333333333333, classifier__fit_intercept=True, classifier__normalize=True, score=-2.685736097489479, total=   0.0s\n",
      "[CV] classifier__alpha=0.3333333333333333, classifier__fit_intercept=True, classifier__normalize=True \n",
      "RMSE: 2.8439056593704723\n",
      "RMSE: 2.7167055211945383\n",
      "[CV]  classifier__alpha=0.3333333333333333, classifier__fit_intercept=True, classifier__normalize=True, score=-2.8439056593704723, total=   0.0s\n",
      "[CV] classifier__alpha=0.3333333333333333, classifier__fit_intercept=True, classifier__normalize=False \n",
      "RMSE: 2.8760812035130146\n",
      "RMSE: 2.713858881996534\n",
      "[CV]  classifier__alpha=0.3333333333333333, classifier__fit_intercept=True, classifier__normalize=False, score=-2.8760812035130146, total=   0.0s\n",
      "[CV] classifier__alpha=0.3333333333333333, classifier__fit_intercept=True, classifier__normalize=False \n",
      "RMSE: 2.770513051118443\n",
      "RMSE: 2.787869838545173\n",
      "[CV]  classifier__alpha=0.3333333333333333, classifier__fit_intercept=True, classifier__normalize=False, score=-2.770513051118443, total=   0.0s\n",
      "[CV] classifier__alpha=0.3333333333333333, classifier__fit_intercept=True, classifier__normalize=False \n",
      "RMSE: 3.006611354838863\n",
      "RMSE: 2.638871932803982\n",
      "[CV]  classifier__alpha=0.3333333333333333, classifier__fit_intercept=True, classifier__normalize=False, score=-3.006611354838863, total=   0.0s\n",
      "[CV] classifier__alpha=0.3333333333333333, classifier__fit_intercept=False, classifier__normalize=True \n",
      "RMSE: 2.8764834647228517\n",
      "RMSE: 2.7137522358245034\n",
      "[CV]  classifier__alpha=0.3333333333333333, classifier__fit_intercept=False, classifier__normalize=True, score=-2.8764834647228517, total=   0.0s\n",
      "[CV] classifier__alpha=0.3333333333333333, classifier__fit_intercept=False, classifier__normalize=True \n",
      "RMSE: 2.764272691885785\n",
      "RMSE: 2.78921654007591\n",
      "[CV]  classifier__alpha=0.3333333333333333, classifier__fit_intercept=False, classifier__normalize=True, score=-2.764272691885785, total=   0.0s\n",
      "[CV] classifier__alpha=0.3333333333333333, classifier__fit_intercept=False, classifier__normalize=True \n",
      "RMSE: 2.9835017169392577\n"
     ]
    },
    {
     "name": "stdout",
     "output_type": "stream",
     "text": [
      "RMSE: 2.648236999440825\n",
      "[CV]  classifier__alpha=0.3333333333333333, classifier__fit_intercept=False, classifier__normalize=True, score=-2.9835017169392577, total=   0.0s\n",
      "[CV] classifier__alpha=0.3333333333333333, classifier__fit_intercept=False, classifier__normalize=False \n",
      "RMSE: 2.8764834647228517\n",
      "RMSE: 2.7137522358245034\n",
      "[CV]  classifier__alpha=0.3333333333333333, classifier__fit_intercept=False, classifier__normalize=False, score=-2.8764834647228517, total=   0.0s\n",
      "[CV] classifier__alpha=0.3333333333333333, classifier__fit_intercept=False, classifier__normalize=False \n",
      "RMSE: 2.764272691885785\n",
      "RMSE: 2.78921654007591\n",
      "[CV]  classifier__alpha=0.3333333333333333, classifier__fit_intercept=False, classifier__normalize=False, score=-2.764272691885785, total=   0.0s\n",
      "[CV] classifier__alpha=0.3333333333333333, classifier__fit_intercept=False, classifier__normalize=False \n",
      "RMSE: 2.9835017169392577\n",
      "RMSE: 2.648236999440825\n",
      "[CV]  classifier__alpha=0.3333333333333333, classifier__fit_intercept=False, classifier__normalize=False, score=-2.9835017169392577, total=   0.0s\n",
      "[CV] classifier__alpha=0.4444444444444444, classifier__fit_intercept=True, classifier__normalize=True \n",
      "RMSE: 2.8545330761657315\n",
      "RMSE: 2.72469996703571\n",
      "[CV]  classifier__alpha=0.4444444444444444, classifier__fit_intercept=True, classifier__normalize=True, score=-2.8545330761657315, total=   0.0s\n",
      "[CV] classifier__alpha=0.4444444444444444, classifier__fit_intercept=True, classifier__normalize=True \n",
      "RMSE: 2.685736097489479\n",
      "RMSE: 2.8135137543580435\n",
      "[CV]  classifier__alpha=0.4444444444444444, classifier__fit_intercept=True, classifier__normalize=True, score=-2.685736097489479, total=   0.0s\n",
      "[CV] classifier__alpha=0.4444444444444444, classifier__fit_intercept=True, classifier__normalize=True \n",
      "RMSE: 2.8439056593704723\n",
      "RMSE: 2.7167055211945383\n",
      "[CV]  classifier__alpha=0.4444444444444444, classifier__fit_intercept=True, classifier__normalize=True, score=-2.8439056593704723, total=   0.0s\n",
      "[CV] classifier__alpha=0.4444444444444444, classifier__fit_intercept=True, classifier__normalize=False \n",
      "RMSE: 2.8655497518728827\n",
      "RMSE: 2.718583946836709\n",
      "[CV]  classifier__alpha=0.4444444444444444, classifier__fit_intercept=True, classifier__normalize=False, score=-2.8655497518728827, total=   0.0s\n",
      "[CV] classifier__alpha=0.4444444444444444, classifier__fit_intercept=True, classifier__normalize=False \n",
      "RMSE: 2.754424618738712\n",
      "RMSE: 2.790182156920178\n",
      "[CV]  classifier__alpha=0.4444444444444444, classifier__fit_intercept=True, classifier__normalize=False, score=-2.754424618738712, total=   0.0s\n",
      "[CV] classifier__alpha=0.4444444444444444, classifier__fit_intercept=True, classifier__normalize=False \n",
      "RMSE: 2.9845148380796065\n",
      "RMSE: 2.6435010572930397\n",
      "[CV]  classifier__alpha=0.4444444444444444, classifier__fit_intercept=True, classifier__normalize=False, score=-2.9845148380796065, total=   0.0s\n",
      "[CV] classifier__alpha=0.4444444444444444, classifier__fit_intercept=False, classifier__normalize=True \n",
      "RMSE: 2.8672424299012795\n",
      "RMSE: 2.7180516421139056\n",
      "[CV]  classifier__alpha=0.4444444444444444, classifier__fit_intercept=False, classifier__normalize=True, score=-2.8672424299012795, total=   0.0s\n",
      "[CV] classifier__alpha=0.4444444444444444, classifier__fit_intercept=False, classifier__normalize=True \n",
      "RMSE: 2.7513396938994803\n",
      "RMSE: 2.790966284190868\n",
      "[CV]  classifier__alpha=0.4444444444444444, classifier__fit_intercept=False, classifier__normalize=True, score=-2.7513396938994803, total=   0.0s\n",
      "[CV] classifier__alpha=0.4444444444444444, classifier__fit_intercept=False, classifier__normalize=True \n",
      "RMSE: 2.9652065350726544\n",
      "RMSE: 2.6521487516623803\n",
      "[CV]  classifier__alpha=0.4444444444444444, classifier__fit_intercept=False, classifier__normalize=True, score=-2.9652065350726544, total=   0.0s\n",
      "[CV] classifier__alpha=0.4444444444444444, classifier__fit_intercept=False, classifier__normalize=False \n",
      "RMSE: 2.8672424299012795\n",
      "RMSE: 2.7180516421139056\n",
      "[CV]  classifier__alpha=0.4444444444444444, classifier__fit_intercept=False, classifier__normalize=False, score=-2.8672424299012795, total=   0.0s\n",
      "[CV] classifier__alpha=0.4444444444444444, classifier__fit_intercept=False, classifier__normalize=False \n",
      "RMSE: 2.7513396938994803\n",
      "RMSE: 2.790966284190868\n",
      "[CV]  classifier__alpha=0.4444444444444444, classifier__fit_intercept=False, classifier__normalize=False, score=-2.7513396938994803, total=   0.0s\n",
      "[CV] classifier__alpha=0.4444444444444444, classifier__fit_intercept=False, classifier__normalize=False \n",
      "RMSE: 2.9652065350726544\n",
      "RMSE: 2.6521487516623803\n",
      "[CV]  classifier__alpha=0.4444444444444444, classifier__fit_intercept=False, classifier__normalize=False, score=-2.9652065350726544, total=   0.0s\n",
      "[CV] classifier__alpha=0.5555555555555556, classifier__fit_intercept=True, classifier__normalize=True \n",
      "RMSE: 2.8545330761657315\n",
      "RMSE: 2.72469996703571\n",
      "[CV]  classifier__alpha=0.5555555555555556, classifier__fit_intercept=True, classifier__normalize=True, score=-2.8545330761657315, total=   0.0s\n",
      "[CV] classifier__alpha=0.5555555555555556, classifier__fit_intercept=True, classifier__normalize=True \n",
      "RMSE: 2.685736097489479\n",
      "RMSE: 2.8135137543580435\n",
      "[CV]  classifier__alpha=0.5555555555555556, classifier__fit_intercept=True, classifier__normalize=True, score=-2.685736097489479, total=   0.0s\n",
      "[CV] classifier__alpha=0.5555555555555556, classifier__fit_intercept=True, classifier__normalize=True \n",
      "RMSE: 2.8439056593704723\n",
      "RMSE: 2.7167055211945383\n",
      "[CV]  classifier__alpha=0.5555555555555556, classifier__fit_intercept=True, classifier__normalize=True, score=-2.8439056593704723, total=   0.0s\n",
      "[CV] classifier__alpha=0.5555555555555556, classifier__fit_intercept=True, classifier__normalize=False \n",
      "RMSE: 2.856939346215653\n",
      "RMSE: 2.724211512418524\n",
      "[CV]  classifier__alpha=0.5555555555555556, classifier__fit_intercept=True, classifier__normalize=False, score=-2.856939346215653, total=   0.0s\n",
      "[CV] classifier__alpha=0.5555555555555556, classifier__fit_intercept=True, classifier__normalize=False \n",
      "RMSE: 2.7448883646383617\n",
      "RMSE: 2.7918283078206425\n",
      "[CV]  classifier__alpha=0.5555555555555556, classifier__fit_intercept=True, classifier__normalize=False, score=-2.7448883646383617, total=   0.0s\n",
      "[CV] classifier__alpha=0.5555555555555556, classifier__fit_intercept=True, classifier__normalize=False \n",
      "RMSE: 2.9642268122141617\n",
      "RMSE: 2.6492099954139077\n",
      "[CV]  classifier__alpha=0.5555555555555556, classifier__fit_intercept=True, classifier__normalize=False, score=-2.9642268122141617, total=   0.0s\n",
      "[CV] classifier__alpha=0.5555555555555556, classifier__fit_intercept=False, classifier__normalize=True \n",
      "RMSE: 2.859038249892352\n",
      "RMSE: 2.7235010070220613\n",
      "[CV]  classifier__alpha=0.5555555555555556, classifier__fit_intercept=False, classifier__normalize=True, score=-2.859038249892352, total=   0.0s\n",
      "[CV] classifier__alpha=0.5555555555555556, classifier__fit_intercept=False, classifier__normalize=True \n",
      "RMSE: 2.744392057144096\n",
      "RMSE: 2.791974247095636\n",
      "[CV]  classifier__alpha=0.5555555555555556, classifier__fit_intercept=False, classifier__normalize=True, score=-2.744392057144096, total=   0.0s\n",
      "[CV] classifier__alpha=0.5555555555555556, classifier__fit_intercept=False, classifier__normalize=True \n",
      "RMSE: 2.9492104312133076\n",
      "RMSE: 2.65656622342691\n",
      "[CV]  classifier__alpha=0.5555555555555556, classifier__fit_intercept=False, classifier__normalize=True, score=-2.9492104312133076, total=   0.0s\n",
      "[CV] classifier__alpha=0.5555555555555556, classifier__fit_intercept=False, classifier__normalize=False \n",
      "RMSE: 2.859038249892352\n",
      "RMSE: 2.7235010070220613\n",
      "[CV]  classifier__alpha=0.5555555555555556, classifier__fit_intercept=False, classifier__normalize=False, score=-2.859038249892352, total=   0.0s\n",
      "[CV] classifier__alpha=0.5555555555555556, classifier__fit_intercept=False, classifier__normalize=False \n",
      "RMSE: 2.744392057144096\n",
      "RMSE: 2.791974247095636\n",
      "[CV]  classifier__alpha=0.5555555555555556, classifier__fit_intercept=False, classifier__normalize=False, score=-2.744392057144096, total=   0.0s\n",
      "[CV] classifier__alpha=0.5555555555555556, classifier__fit_intercept=False, classifier__normalize=False \n",
      "RMSE: 2.9492104312133076\n",
      "RMSE: 2.65656622342691\n",
      "[CV]  classifier__alpha=0.5555555555555556, classifier__fit_intercept=False, classifier__normalize=False, score=-2.9492104312133076, total=   0.0s\n",
      "[CV] classifier__alpha=0.6666666666666666, classifier__fit_intercept=True, classifier__normalize=True \n",
      "RMSE: 2.8545330761657315\n",
      "RMSE: 2.72469996703571\n",
      "[CV]  classifier__alpha=0.6666666666666666, classifier__fit_intercept=True, classifier__normalize=True, score=-2.8545330761657315, total=   0.0s\n",
      "[CV] classifier__alpha=0.6666666666666666, classifier__fit_intercept=True, classifier__normalize=True \n",
      "RMSE: 2.685736097489479\n",
      "RMSE: 2.8135137543580435\n",
      "[CV]  classifier__alpha=0.6666666666666666, classifier__fit_intercept=True, classifier__normalize=True, score=-2.685736097489479, total=   0.0s\n",
      "[CV] classifier__alpha=0.6666666666666666, classifier__fit_intercept=True, classifier__normalize=True \n",
      "RMSE: 2.8439056593704723\n",
      "RMSE: 2.7167055211945383\n",
      "[CV]  classifier__alpha=0.6666666666666666, classifier__fit_intercept=True, classifier__normalize=True, score=-2.8439056593704723, total=   0.0s\n",
      "[CV] classifier__alpha=0.6666666666666666, classifier__fit_intercept=True, classifier__normalize=False \n",
      "RMSE: 2.8545330761657315\n",
      "RMSE: 2.72469996703571\n",
      "[CV]  classifier__alpha=0.6666666666666666, classifier__fit_intercept=True, classifier__normalize=False, score=-2.8545330761657315, total=   0.0s\n",
      "[CV] classifier__alpha=0.6666666666666666, classifier__fit_intercept=True, classifier__normalize=False \n",
      "RMSE: 2.738547700108322\n",
      "RMSE: 2.7930517262880348\n",
      "[CV]  classifier__alpha=0.6666666666666666, classifier__fit_intercept=True, classifier__normalize=False, score=-2.738547700108322, total=   0.0s\n",
      "[CV] classifier__alpha=0.6666666666666666, classifier__fit_intercept=True, classifier__normalize=False \n"
     ]
    },
    {
     "name": "stdout",
     "output_type": "stream",
     "text": [
      "RMSE: 2.9488431008616685\n",
      "RMSE: 2.6538143915162804\n",
      "[CV]  classifier__alpha=0.6666666666666666, classifier__fit_intercept=True, classifier__normalize=False, score=-2.9488431008616685, total=   0.0s\n",
      "[CV] classifier__alpha=0.6666666666666666, classifier__fit_intercept=False, classifier__normalize=True \n",
      "RMSE: 2.8563213225509854\n",
      "RMSE: 2.7240280049018066\n",
      "[CV]  classifier__alpha=0.6666666666666666, classifier__fit_intercept=False, classifier__normalize=True, score=-2.8563213225509854, total=   0.0s\n",
      "[CV] classifier__alpha=0.6666666666666666, classifier__fit_intercept=False, classifier__normalize=True \n",
      "RMSE: 2.7401993985943736\n",
      "RMSE: 2.792499349819575\n",
      "[CV]  classifier__alpha=0.6666666666666666, classifier__fit_intercept=False, classifier__normalize=True, score=-2.7401993985943736, total=   0.0s\n",
      "[CV] classifier__alpha=0.6666666666666666, classifier__fit_intercept=False, classifier__normalize=True \n",
      "RMSE: 2.9368697456111517\n",
      "RMSE: 2.660144127603582\n",
      "[CV]  classifier__alpha=0.6666666666666666, classifier__fit_intercept=False, classifier__normalize=True, score=-2.9368697456111517, total=   0.0s\n",
      "[CV] classifier__alpha=0.6666666666666666, classifier__fit_intercept=False, classifier__normalize=False \n",
      "RMSE: 2.8563213225509854\n",
      "RMSE: 2.7240280049018066\n",
      "[CV]  classifier__alpha=0.6666666666666666, classifier__fit_intercept=False, classifier__normalize=False, score=-2.8563213225509854, total=   0.0s\n",
      "[CV] classifier__alpha=0.6666666666666666, classifier__fit_intercept=False, classifier__normalize=False \n",
      "RMSE: 2.7401993985943736\n",
      "RMSE: 2.792499349819575\n",
      "[CV]  classifier__alpha=0.6666666666666666, classifier__fit_intercept=False, classifier__normalize=False, score=-2.7401993985943736, total=   0.0s\n",
      "[CV] classifier__alpha=0.6666666666666666, classifier__fit_intercept=False, classifier__normalize=False \n",
      "RMSE: 2.9368697456111517\n",
      "RMSE: 2.660144127603582\n",
      "[CV]  classifier__alpha=0.6666666666666666, classifier__fit_intercept=False, classifier__normalize=False, score=-2.9368697456111517, total=   0.0s\n",
      "[CV] classifier__alpha=0.7777777777777777, classifier__fit_intercept=True, classifier__normalize=True \n",
      "RMSE: 2.8545330761657315\n",
      "RMSE: 2.72469996703571\n",
      "[CV]  classifier__alpha=0.7777777777777777, classifier__fit_intercept=True, classifier__normalize=True, score=-2.8545330761657315, total=   0.0s\n",
      "[CV] classifier__alpha=0.7777777777777777, classifier__fit_intercept=True, classifier__normalize=True \n",
      "RMSE: 2.685736097489479\n",
      "RMSE: 2.8135137543580435\n",
      "[CV]  classifier__alpha=0.7777777777777777, classifier__fit_intercept=True, classifier__normalize=True, score=-2.685736097489479, total=   0.0s\n",
      "[CV] classifier__alpha=0.7777777777777777, classifier__fit_intercept=True, classifier__normalize=True \n",
      "RMSE: 2.8439056593704723\n",
      "RMSE: 2.7167055211945383\n",
      "[CV]  classifier__alpha=0.7777777777777777, classifier__fit_intercept=True, classifier__normalize=True, score=-2.8439056593704723, total=   0.0s\n",
      "[CV] classifier__alpha=0.7777777777777777, classifier__fit_intercept=True, classifier__normalize=False \n",
      "RMSE: 2.8545330761657315\n",
      "RMSE: 2.72469996703571\n",
      "[CV]  classifier__alpha=0.7777777777777777, classifier__fit_intercept=True, classifier__normalize=False, score=-2.8545330761657315, total=   0.0s\n",
      "[CV] classifier__alpha=0.7777777777777777, classifier__fit_intercept=True, classifier__normalize=False \n",
      "RMSE: 2.7330942432095187\n",
      "RMSE: 2.79421870100955\n",
      "[CV]  classifier__alpha=0.7777777777777777, classifier__fit_intercept=True, classifier__normalize=False, score=-2.7330942432095187, total=   0.0s\n",
      "[CV] classifier__alpha=0.7777777777777777, classifier__fit_intercept=True, classifier__normalize=False \n",
      "RMSE: 2.9339645891681756\n",
      "RMSE: 2.659245672934959\n",
      "[CV]  classifier__alpha=0.7777777777777777, classifier__fit_intercept=True, classifier__normalize=False, score=-2.9339645891681756, total=   0.0s\n",
      "[CV] classifier__alpha=0.7777777777777777, classifier__fit_intercept=False, classifier__normalize=True \n",
      "RMSE: 2.8561843464544996\n",
      "RMSE: 2.724054590275378\n",
      "[CV]  classifier__alpha=0.7777777777777777, classifier__fit_intercept=False, classifier__normalize=True, score=-2.8561843464544996, total=   0.0s\n",
      "[CV] classifier__alpha=0.7777777777777777, classifier__fit_intercept=False, classifier__normalize=True \n",
      "RMSE: 2.7361064048881256\n",
      "RMSE: 2.7931198743898427\n",
      "[CV]  classifier__alpha=0.7777777777777777, classifier__fit_intercept=False, classifier__normalize=True, score=-2.7361064048881256, total=   0.0s\n",
      "[CV] classifier__alpha=0.7777777777777777, classifier__fit_intercept=False, classifier__normalize=True \n",
      "RMSE: 2.9249553393094434\n",
      "RMSE: 2.6643662617235995\n",
      "[CV]  classifier__alpha=0.7777777777777777, classifier__fit_intercept=False, classifier__normalize=True, score=-2.9249553393094434, total=   0.0s\n",
      "[CV] classifier__alpha=0.7777777777777777, classifier__fit_intercept=False, classifier__normalize=False \n",
      "RMSE: 2.8561843464544996\n",
      "RMSE: 2.724054590275378\n",
      "[CV]  classifier__alpha=0.7777777777777777, classifier__fit_intercept=False, classifier__normalize=False, score=-2.8561843464544996, total=   0.0s\n",
      "[CV] classifier__alpha=0.7777777777777777, classifier__fit_intercept=False, classifier__normalize=False \n",
      "RMSE: 2.7361064048881256\n",
      "RMSE: 2.7931198743898427\n",
      "[CV]  classifier__alpha=0.7777777777777777, classifier__fit_intercept=False, classifier__normalize=False, score=-2.7361064048881256, total=   0.0s\n",
      "[CV] classifier__alpha=0.7777777777777777, classifier__fit_intercept=False, classifier__normalize=False \n",
      "RMSE: 2.9249553393094434\n",
      "RMSE: 2.6643662617235995\n",
      "[CV]  classifier__alpha=0.7777777777777777, classifier__fit_intercept=False, classifier__normalize=False, score=-2.9249553393094434, total=   0.0s\n",
      "[CV] classifier__alpha=0.8888888888888888, classifier__fit_intercept=True, classifier__normalize=True \n",
      "RMSE: 2.8545330761657315\n",
      "RMSE: 2.72469996703571\n",
      "[CV]  classifier__alpha=0.8888888888888888, classifier__fit_intercept=True, classifier__normalize=True, score=-2.8545330761657315, total=   0.0s\n",
      "[CV] classifier__alpha=0.8888888888888888, classifier__fit_intercept=True, classifier__normalize=True \n",
      "RMSE: 2.685736097489479\n",
      "RMSE: 2.8135137543580435\n",
      "[CV]  classifier__alpha=0.8888888888888888, classifier__fit_intercept=True, classifier__normalize=True, score=-2.685736097489479, total=   0.0s\n",
      "[CV] classifier__alpha=0.8888888888888888, classifier__fit_intercept=True, classifier__normalize=True \n",
      "RMSE: 2.8439056593704723\n",
      "RMSE: 2.7167055211945383\n",
      "[CV]  classifier__alpha=0.8888888888888888, classifier__fit_intercept=True, classifier__normalize=True, score=-2.8439056593704723, total=   0.0s\n",
      "[CV] classifier__alpha=0.8888888888888888, classifier__fit_intercept=True, classifier__normalize=False \n",
      "RMSE: 2.8545330761657315\n",
      "RMSE: 2.72469996703571\n",
      "[CV]  classifier__alpha=0.8888888888888888, classifier__fit_intercept=True, classifier__normalize=False, score=-2.8545330761657315, total=   0.0s\n",
      "[CV] classifier__alpha=0.8888888888888888, classifier__fit_intercept=True, classifier__normalize=False \n",
      "RMSE: 2.729131803476481\n",
      "RMSE: 2.794926244158961\n",
      "[CV]  classifier__alpha=0.8888888888888888, classifier__fit_intercept=True, classifier__normalize=False, score=-2.729131803476481, total=   0.0s\n",
      "[CV] classifier__alpha=0.8888888888888888, classifier__fit_intercept=True, classifier__normalize=False \n",
      "RMSE: 2.9195989916925447\n",
      "RMSE: 2.6654987893671294\n",
      "[CV]  classifier__alpha=0.8888888888888888, classifier__fit_intercept=True, classifier__normalize=False, score=-2.9195989916925447, total=   0.0s\n",
      "[CV] classifier__alpha=0.8888888888888888, classifier__fit_intercept=False, classifier__normalize=True \n",
      "RMSE: 2.8561708828384713\n",
      "RMSE: 2.724054598722735\n",
      "[CV]  classifier__alpha=0.8888888888888888, classifier__fit_intercept=False, classifier__normalize=True, score=-2.8561708828384713, total=   0.0s\n",
      "[CV] classifier__alpha=0.8888888888888888, classifier__fit_intercept=False, classifier__normalize=True \n",
      "RMSE: 2.732113543725251\n",
      "RMSE: 2.7938358136703503\n",
      "[CV]  classifier__alpha=0.8888888888888888, classifier__fit_intercept=False, classifier__normalize=True, score=-2.732113543725251, total=   0.0s\n",
      "[CV] classifier__alpha=0.8888888888888888, classifier__fit_intercept=False, classifier__normalize=True \n",
      "RMSE: 2.913471988865108\n",
      "RMSE: 2.669229684441507\n",
      "[CV]  classifier__alpha=0.8888888888888888, classifier__fit_intercept=False, classifier__normalize=True, score=-2.913471988865108, total=   0.0s\n",
      "[CV] classifier__alpha=0.8888888888888888, classifier__fit_intercept=False, classifier__normalize=False \n",
      "RMSE: 2.8561708828384713\n",
      "RMSE: 2.724054598722735\n",
      "[CV]  classifier__alpha=0.8888888888888888, classifier__fit_intercept=False, classifier__normalize=False, score=-2.8561708828384713, total=   0.0s\n",
      "[CV] classifier__alpha=0.8888888888888888, classifier__fit_intercept=False, classifier__normalize=False \n",
      "RMSE: 2.732113543725251\n",
      "RMSE: 2.7938358136703503\n",
      "[CV]  classifier__alpha=0.8888888888888888, classifier__fit_intercept=False, classifier__normalize=False, score=-2.732113543725251, total=   0.0s\n",
      "[CV] classifier__alpha=0.8888888888888888, classifier__fit_intercept=False, classifier__normalize=False \n",
      "RMSE: 2.913471988865108\n",
      "RMSE: 2.669229684441507\n",
      "[CV]  classifier__alpha=0.8888888888888888, classifier__fit_intercept=False, classifier__normalize=False, score=-2.913471988865108, total=   0.0s\n",
      "[CV] classifier__alpha=1.0, classifier__fit_intercept=True, classifier__normalize=True \n",
      "RMSE: 2.8545330761657315\n"
     ]
    },
    {
     "name": "stdout",
     "output_type": "stream",
     "text": [
      "RMSE: 2.72469996703571\n",
      "[CV]  classifier__alpha=1.0, classifier__fit_intercept=True, classifier__normalize=True, score=-2.8545330761657315, total=   0.0s\n",
      "[CV] classifier__alpha=1.0, classifier__fit_intercept=True, classifier__normalize=True \n",
      "RMSE: 2.685736097489479\n",
      "RMSE: 2.8135137543580435\n",
      "[CV]  classifier__alpha=1.0, classifier__fit_intercept=True, classifier__normalize=True, score=-2.685736097489479, total=   0.0s\n",
      "[CV] classifier__alpha=1.0, classifier__fit_intercept=True, classifier__normalize=True \n",
      "RMSE: 2.8439056593704723\n",
      "RMSE: 2.7167055211945383\n",
      "[CV]  classifier__alpha=1.0, classifier__fit_intercept=True, classifier__normalize=True, score=-2.8439056593704723, total=   0.0s\n",
      "[CV] classifier__alpha=1.0, classifier__fit_intercept=True, classifier__normalize=False \n",
      "RMSE: 2.8545330761657315\n",
      "RMSE: 2.72469996703571\n",
      "[CV]  classifier__alpha=1.0, classifier__fit_intercept=True, classifier__normalize=False, score=-2.8545330761657315, total=   0.0s\n",
      "[CV] classifier__alpha=1.0, classifier__fit_intercept=True, classifier__normalize=False \n",
      "RMSE: 2.7252691598116874\n",
      "RMSE: 2.7957279099251546\n",
      "[CV]  classifier__alpha=1.0, classifier__fit_intercept=True, classifier__normalize=False, score=-2.7252691598116874, total=   0.0s\n",
      "[CV] classifier__alpha=1.0, classifier__fit_intercept=True, classifier__normalize=False \n",
      "RMSE: 2.9064759184111213\n",
      "RMSE: 2.672140020881074\n",
      "[CV]  classifier__alpha=1.0, classifier__fit_intercept=True, classifier__normalize=False, score=-2.9064759184111213, total=   0.0s\n",
      "[CV] classifier__alpha=1.0, classifier__fit_intercept=False, classifier__normalize=True \n",
      "RMSE: 2.85615742023439\n",
      "RMSE: 2.7240546082964068\n",
      "[CV]  classifier__alpha=1.0, classifier__fit_intercept=False, classifier__normalize=True, score=-2.85615742023439, total=   0.0s\n",
      "[CV] classifier__alpha=1.0, classifier__fit_intercept=False, classifier__normalize=True \n",
      "RMSE: 2.7282215240667242\n",
      "RMSE: 2.7946468247803855\n",
      "[CV]  classifier__alpha=1.0, classifier__fit_intercept=False, classifier__normalize=True, score=-2.7282215240667242, total=   0.0s\n",
      "[CV] classifier__alpha=1.0, classifier__fit_intercept=False, classifier__normalize=True \n",
      "RMSE: 2.9024248429707855\n",
      "RMSE: 2.6747309030161155\n",
      "[CV]  classifier__alpha=1.0, classifier__fit_intercept=False, classifier__normalize=True, score=-2.9024248429707855, total=   0.0s\n",
      "[CV] classifier__alpha=1.0, classifier__fit_intercept=False, classifier__normalize=False \n",
      "RMSE: 2.85615742023439\n",
      "RMSE: 2.7240546082964068\n",
      "[CV]  classifier__alpha=1.0, classifier__fit_intercept=False, classifier__normalize=False, score=-2.85615742023439, total=   0.0s\n",
      "[CV] classifier__alpha=1.0, classifier__fit_intercept=False, classifier__normalize=False \n",
      "RMSE: 2.7282215240667242\n",
      "RMSE: 2.7946468247803855\n",
      "[CV]  classifier__alpha=1.0, classifier__fit_intercept=False, classifier__normalize=False, score=-2.7282215240667242, total=   0.0s\n",
      "[CV] classifier__alpha=1.0, classifier__fit_intercept=False, classifier__normalize=False \n",
      "RMSE: 2.9024248429707855\n",
      "RMSE: 2.6747309030161155\n",
      "[CV]  classifier__alpha=1.0, classifier__fit_intercept=False, classifier__normalize=False, score=-2.9024248429707855, total=   0.0s\n"
     ]
    },
    {
     "name": "stderr",
     "output_type": "stream",
     "text": [
      "[Parallel(n_jobs=1)]: Done 120 out of 120 | elapsed:    1.6s finished\n"
     ]
    },
    {
     "data": {
      "text/plain": [
       "GridSearchCV(cv=3, error_score='raise',\n",
       "       estimator=Pipeline(memory=None,\n",
       "     steps=[('mapper', DataFrameMapper(default=None, df_out=True,\n",
       "        features=[('date of last vet visit', <__main__.DateEncoder object at 0x1112b1240>), ('breed', LabelBinarizer(neg_label=0, pos_label=1, sparse_output=False))],\n",
       "        input_df=True, sparse=False...=False, precompute=False, random_state=None,\n",
       "   selection='cyclic', tol=0.0001, warm_start=False))]),\n",
       "       fit_params=None, iid=True, n_jobs=1,\n",
       "       param_grid=[{'classifier__alpha': array([0.     , 0.11111, 0.22222, 0.33333, 0.44444, 0.55556, 0.66667,\n",
       "       0.77778, 0.88889, 1.     ]), 'classifier__fit_intercept': [True, False], 'classifier__normalize': [True, False]}],\n",
       "       pre_dispatch='2*n_jobs', refit=True, return_train_score=True,\n",
       "       scoring=make_scorer(RMSE, greater_is_better=False), verbose=3)"
      ]
     },
     "execution_count": 189,
     "metadata": {},
     "output_type": "execute_result"
    }
   ],
   "source": [
    "categaries = cats_df['breed'].unique()\n",
    "features = cats_df.columns.difference(['age at death'])\n",
    "label = 'age at death'\n",
    "\n",
    "X_ = cats_df[features]\n",
    "y_ = cats_df[label]\n",
    "\n",
    "X_train, X_test, y_train, y_test = train_test_split(cats_df[features], cats_df[label], test_size=0.2, random_state=0)\n",
    "\n",
    "def RMSE(y_true, y_pred):\n",
    "    rmse = sqrt( mean_squared_error(y_true, y_pred) )\n",
    "    print('RMSE: {}'.format(rmse))\n",
    "    return rmse\n",
    "\n",
    "def rmse():\n",
    "    return make_scorer(RMSE, greater_is_better=False)\n",
    "\n",
    "class DateEncoder(TransformerMixin):\n",
    "    def fit(self, X, y=None):\n",
    "        return self\n",
    "\n",
    "    def transform(self, X):\n",
    "        dt = X.dt\n",
    "        return pd.concat([dt.year, dt.month, dt.dayofweek, dt.hour], axis=1)\n",
    "\n",
    "\n",
    "data_mapper = DataFrameMapper([\n",
    "     ('date of last vet visit', DateEncoder()),\n",
    "     ('breed', LabelBinarizer())\n",
    "     ],\n",
    "     input_df=True, df_out=True, default=None)\n",
    "\n",
    "\n",
    "ridge_pipeline = Pipeline([\n",
    "    ('mapper', data_mapper),\n",
    "    ('classifier', Ridge()) ])\n",
    "\n",
    "lasso_pipeline = Pipeline([\n",
    "    ('mapper', data_mapper),\n",
    "    ('classifier', Lasso()) ])\n",
    "\n",
    "\n",
    "params_grid = [{'classifier__alpha': np.linspace(0, 1, 10), 'classifier__fit_intercept':[True,False], 'classifier__normalize':[True, False]}]\n",
    "\n",
    "gs = GridSearchCV(pipeline, params_grid, cv=3, verbose=3, scoring=rmse(),n_jobs=1)\n",
    "\n",
    "#gs = GridSearchCV(lasso_pipeline, params_grid, cv=3, verbose=3, scoring=rmse(),n_jobs=1)\n",
    "\n",
    "\n",
    "gs.fit(X_train, y_train)"
   ]
  },
  {
   "cell_type": "code",
   "execution_count": 190,
   "metadata": {},
   "outputs": [
    {
     "name": "stdout",
     "output_type": "stream",
     "text": [
      "Best RMSE score...\n",
      "2.7945053875783734\n",
      "\n",
      "Best parameters set found on X_train\n",
      "\n",
      "{'classifier__alpha': 0.1111111111111111, 'classifier__fit_intercept': True, 'classifier__normalize': True}\n",
      "\n",
      "Coefficients of the best model:\n",
      "[ 0.  0.  0. -0.  0. -0.  0.  0. -0.  0. -0. -0. -0.]\n",
      "\n",
      "Intercept of the best model:\n",
      "9.084821428571429\n",
      "\n",
      "Sequared R for the best model:\n",
      "0.0\n",
      "Root Mean Square Error:\n",
      "2.7592283413195102\n"
     ]
    }
   ],
   "source": [
    "print(\"Best RMSE score...\")\n",
    "print(-1*gs.best_score_)\n",
    "print()\n",
    "print(\"Best parameters set found on X_train\")\n",
    "print()\n",
    "print(gs.best_params_)\n",
    "print()\n",
    "print('Coefficients of the best model:')\n",
    "print(gs.best_estimator_.named_steps['classifier'].coef_)\n",
    "print()\n",
    "print('Intercept of the best model:')\n",
    "print(gs.best_estimator_.named_steps['classifier'].intercept_)\n",
    "print()\n",
    "\n",
    "#Calculating R^2\n",
    "y_pred = gs.predict(X_train)\n",
    "print('Sequared R for the best model:')\n",
    "print(r2_score(y_pred, y_train))\n",
    "\n",
    "#Calculating the RMSE\n",
    "print(\"Root Mean Square Error:\")\n",
    "print(sqrt( mean_squared_error(y_pred, y_train)))"
   ]
  },
  {
   "cell_type": "markdown",
   "metadata": {},
   "source": [
    "## The residual plot"
   ]
  },
  {
   "cell_type": "markdown",
   "metadata": {},
   "source": [
    "It is important to validate the model to make sure the assumptions of the linear regression are not violated. This is done using the residual plot."
   ]
  },
  {
   "cell_type": "code",
   "execution_count": 167,
   "metadata": {},
   "outputs": [],
   "source": [
    "errors = y_pred - y_train"
   ]
  },
  {
   "cell_type": "code",
   "execution_count": 168,
   "metadata": {},
   "outputs": [
    {
     "data": {
      "text/plain": [
       "<matplotlib.text.Text at 0x1c1b123ef0>"
      ]
     },
     "execution_count": 168,
     "metadata": {},
     "output_type": "execute_result"
    },
    {
     "data": {
      "image/png": "[encoded data removed]",
      "text/plain": [
       "<matplotlib.figure.Figure at 0x1c18efa048>"
      ]
     },
     "metadata": {},
     "output_type": "display_data"
    }
   ],
   "source": [
    "sb.regplot(y_pred, errors, fit_reg=False)\n",
    "plt.xlabel('y_pred')\n",
    "plt.ylabel('errors')"
   ]
  },
  {
   "cell_type": "code",
   "execution_count": 169,
   "metadata": {},
   "outputs": [
    {
     "data": {
      "text/plain": [
       "<matplotlib.axes._subplots.AxesSubplot at 0x1c1ade3940>"
      ]
     },
     "execution_count": 169,
     "metadata": {},
     "output_type": "execute_result"
    },
    {
     "data": {
      "image/png": "[encoded data removed]",
      "text/plain": [
       "<matplotlib.figure.Figure at 0x1c188751d0>"
      ]
     },
     "metadata": {},
     "output_type": "display_data"
    }
   ],
   "source": [
    "sb.distplot(errors)"
   ]
  },
  {
   "cell_type": "markdown",
   "metadata": {},
   "source": [
    "## Testing the model on Unseen Data"
   ]
  },
  {
   "cell_type": "code",
   "execution_count": 170,
   "metadata": {},
   "outputs": [
    {
     "name": "stdout",
     "output_type": "stream",
     "text": [
      "Root Mean Sequare Error on the Test Data:\n",
      "2.746423185583662\n"
     ]
    }
   ],
   "source": [
    "y_test_pred = model.predict(X_test)\n",
    "print('Root Mean Sequare Error on the Test Data:')\n",
    "print(np.sqrt(mean_squared_error(y_test_pred, y_test)))"
   ]
  },
  {
   "cell_type": "markdown",
   "metadata": {},
   "source": [
    "## Productionize the Model\n"
   ]
  },
  {
   "cell_type": "code",
   "execution_count": 173,
   "metadata": {
    "collapsed": true
   },
   "outputs": [],
   "source": [
    "import dill\n",
    "\n",
    "with open('./server/model.pk', 'wb') as f:\n",
    "    dill.dump(clf, f)"
   ]
  },
  {
   "cell_type": "markdown",
   "metadata": {},
   "source": [
    "## Discussing the results"
   ]
  },
  {
   "cell_type": "markdown",
   "metadata": {},
   "source": [
    "One major issue of the model generated is the very low value of R^2 which is -222. \n",
    "This value indicates that the Ridge linear model is not fitting the data well. I would think the reason is \n",
    "due to the features, the features have weak relationship with the response variable. In fact, I have tried few other \n",
    "models including polynomial regression and no better results obtained. Therefore, we need to get better features."
   ]
  },
  {
   "cell_type": "code",
   "execution_count": null,
   "metadata": {
    "collapsed": true
   },
   "outputs": [],
   "source": []
  }
 ],
 "metadata": {
  "kernelspec": {
   "display_name": "python3.6",
   "language": "python",
   "name": "python3.6"
  },
  "language_info": {
   "codemirror_mode": {
    "name": "ipython",
    "version": 3
   },
   "file_extension": ".py",
   "mimetype": "text/x-python",
   "name": "python",
   "nbconvert_exporter": "python",
   "pygments_lexer": "ipython3",
   "version": "3.6.2"
  }
 },
 "nbformat": 4,
 "nbformat_minor": 2
}
