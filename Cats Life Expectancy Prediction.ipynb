{
 "cells": [
  {
   "cell_type": "markdown",
   "metadata": {},
   "source": [
    "### The Task\n",
    "\n",
    "To create a predictive model that can be used to predict the life expectancy in years of any cat. The model will be\n",
    "created based on the data given in the file (cats.csv). Also to provide the necessary code to Productionize the model."
   ]
  },
  {
   "cell_type": "markdown",
   "metadata": {},
   "source": [
    "##### Loading the necessary libraries\n",
    "Mostly these libraries are from sklearn including regression and pipelines. "
   ]
  },
  {
   "cell_type": "code",
   "execution_count": 23,
   "metadata": {},
   "outputs": [],
   "source": [
    "import warnings\n",
    "\n",
    "warnings.filterwarnings('ignore')\n",
    "import os\n",
    "import pandas as pd\n",
    "import numpy as np\n",
    "from sklearn.model_selection import train_test_split\n",
    "from sklearn.metrics import confusion_matrix, classification_report,\\\n",
    "     roc_auc_score, roc_curve, mean_squared_error, mean_absolute_error, make_scorer\n",
    "from sklearn.linear_model import Ridge, Lasso\n",
    "from sklearn.model_selection import GridSearchCV\n",
    "\n",
    "from sklearn.base import TransformerMixin\n",
    "from sklearn.preprocessing import LabelBinarizer\n",
    "from sklearn.pipeline import Pipeline\n",
    "\n",
    "from sklearn import decomposition\n",
    "\n",
    "from math import sqrt\n",
    "from sklearn_pandas import DataFrameMapper\n",
    "\n",
    "import dill\n",
    "\n",
    "from sklearn.metrics import r2_score\n",
    "\n",
    "from pandas.plotting import scatter_matrix\n",
    "\n",
    "import matplotlib.pyplot as plt\n",
    "%matplotlib inline\n",
    "\n",
    "import seaborn as sb\n",
    "\n",
    "import statsmodels.api as sm"
   ]
  },
  {
   "cell_type": "markdown",
   "metadata": {},
   "source": [
    "### Loading the data"
   ]
  },
  {
   "cell_type": "code",
   "execution_count": 2,
   "metadata": {
    "collapsed": true
   },
   "outputs": [],
   "source": [
    "cats_df = pd.read_csv('./data/cats.csv')"
   ]
  },
  {
   "cell_type": "markdown",
   "metadata": {},
   "source": [
    "Instead of removing records, I will add a column called 'remove' as a flag to identify records that have issues and need to be imputed later."
   ]
  },
  {
   "cell_type": "code",
   "execution_count": 3,
   "metadata": {},
   "outputs": [],
   "source": [
    "#Set the index correctly\n",
    "cats_df = cats_df.set_index(['Unnamed: 0'])\n",
    "cats_df.index.name = 'seq'\n",
    "cats_df['remove'] = False #Used to identify samples to be removed"
   ]
  },
  {
   "cell_type": "code",
   "execution_count": 4,
   "metadata": {},
   "outputs": [
    {
     "data": {
      "text/html": [
       "<div>\n",
       "<style scoped>\n",
       "    .dataframe tbody tr th:only-of-type {\n",
       "        vertical-align: middle;\n",
       "    }\n",
       "\n",
       "    .dataframe tbody tr th {\n",
       "        vertical-align: top;\n",
       "    }\n",
       "\n",
       "    .dataframe thead th {\n",
       "        text-align: right;\n",
       "    }\n",
       "</style>\n",
       "<table border=\"1\" class=\"dataframe\">\n",
       "  <thead>\n",
       "    <tr style=\"text-align: right;\">\n",
       "      <th></th>\n",
       "      <th>age at death</th>\n",
       "      <th>breed</th>\n",
       "      <th>date of last vet visit</th>\n",
       "      <th>hair length</th>\n",
       "      <th>height</th>\n",
       "      <th>number of vet visits</th>\n",
       "      <th>weight</th>\n",
       "      <th>remove</th>\n",
       "    </tr>\n",
       "    <tr>\n",
       "      <th>seq</th>\n",
       "      <th></th>\n",
       "      <th></th>\n",
       "      <th></th>\n",
       "      <th></th>\n",
       "      <th></th>\n",
       "      <th></th>\n",
       "      <th></th>\n",
       "      <th></th>\n",
       "    </tr>\n",
       "  </thead>\n",
       "  <tbody>\n",
       "    <tr>\n",
       "      <th>0</th>\n",
       "      <td>7.0</td>\n",
       "      <td>Siamese</td>\n",
       "      <td>2009-08-02 14:02:18</td>\n",
       "      <td>0.883886</td>\n",
       "      <td>21.611951</td>\n",
       "      <td>5</td>\n",
       "      <td>4.0</td>\n",
       "      <td>False</td>\n",
       "    </tr>\n",
       "    <tr>\n",
       "      <th>1</th>\n",
       "      <td>9.0</td>\n",
       "      <td>Siamese</td>\n",
       "      <td>2013-11-27 19:08:52</td>\n",
       "      <td>1.221535</td>\n",
       "      <td>26.451956</td>\n",
       "      <td>10</td>\n",
       "      <td>4.0</td>\n",
       "      <td>False</td>\n",
       "    </tr>\n",
       "    <tr>\n",
       "      <th>2</th>\n",
       "      <td>8.0</td>\n",
       "      <td>Manx</td>\n",
       "      <td>2016-01-12 04:39:24</td>\n",
       "      <td>0.967718</td>\n",
       "      <td>18.540191</td>\n",
       "      <td>10</td>\n",
       "      <td>5.0</td>\n",
       "      <td>False</td>\n",
       "    </tr>\n",
       "    <tr>\n",
       "      <th>3</th>\n",
       "      <td>8.0</td>\n",
       "      <td>Maine Coon</td>\n",
       "      <td>2000-11-24 18:51:18</td>\n",
       "      <td>1.090641</td>\n",
       "      <td>16.564362</td>\n",
       "      <td>12</td>\n",
       "      <td>7.0</td>\n",
       "      <td>False</td>\n",
       "    </tr>\n",
       "    <tr>\n",
       "      <th>4</th>\n",
       "      <td>8.0</td>\n",
       "      <td>Maine Coon</td>\n",
       "      <td>2014-07-03 22:17:26</td>\n",
       "      <td>1.004712</td>\n",
       "      <td>22.535495</td>\n",
       "      <td>7</td>\n",
       "      <td>7.0</td>\n",
       "      <td>False</td>\n",
       "    </tr>\n",
       "  </tbody>\n",
       "</table>\n",
       "</div>"
      ],
      "text/plain": [
       "     age at death       breed date of last vet visit  hair length     height  \\\n",
       "seq                                                                            \n",
       "0             7.0     Siamese    2009-08-02 14:02:18     0.883886  21.611951   \n",
       "1             9.0     Siamese    2013-11-27 19:08:52     1.221535  26.451956   \n",
       "2             8.0        Manx    2016-01-12 04:39:24     0.967718  18.540191   \n",
       "3             8.0  Maine Coon    2000-11-24 18:51:18     1.090641  16.564362   \n",
       "4             8.0  Maine Coon    2014-07-03 22:17:26     1.004712  22.535495   \n",
       "\n",
       "     number of vet visits  weight  remove  \n",
       "seq                                        \n",
       "0                       5     4.0   False  \n",
       "1                      10     4.0   False  \n",
       "2                      10     5.0   False  \n",
       "3                      12     7.0   False  \n",
       "4                       7     7.0   False  "
      ]
     },
     "execution_count": 4,
     "metadata": {},
     "output_type": "execute_result"
    }
   ],
   "source": [
    "cats_df.head()"
   ]
  },
  {
   "cell_type": "markdown",
   "metadata": {},
   "source": [
    "### Preprocessing"
   ]
  },
  {
   "cell_type": "markdown",
   "metadata": {},
   "source": [
    "#### Converting datetime columns "
   ]
  },
  {
   "cell_type": "code",
   "execution_count": 5,
   "metadata": {},
   "outputs": [
    {
     "name": "stdout",
     "output_type": "stream",
     "text": [
      "     age at death breed date of last vet visit  hair length     height  \\\n",
      "seq                                                                      \n",
      "47            8.0   Rex    2009-22-12 02:43:43     1.037497  27.393672   \n",
      "\n",
      "     number of vet visits  weight  remove  \n",
      "seq                                        \n",
      "47                      6     6.0   False  \n"
     ]
    }
   ],
   "source": [
    "#Identifying wrong datetime format\n",
    "wrong_date_format = cats_df[cats_df['date of last vet visit'].apply(lambda c: pd.to_datetime(c, errors='coerce')).isnull()]\n",
    "print(wrong_date_format)\n",
    "cats_df['date of last vet visit'] = cats_df['date of last vet visit'].apply(lambda c: pd.to_datetime(c, errors='coerce'))\n",
    "cats_df['remove'].iloc[wrong_date_format.index] = True\n",
    "\n",
    "del wrong_date_format"
   ]
  },
  {
   "cell_type": "code",
   "execution_count": 6,
   "metadata": {},
   "outputs": [
    {
     "data": {
      "text/html": [
       "<div>\n",
       "<style scoped>\n",
       "    .dataframe tbody tr th:only-of-type {\n",
       "        vertical-align: middle;\n",
       "    }\n",
       "\n",
       "    .dataframe tbody tr th {\n",
       "        vertical-align: top;\n",
       "    }\n",
       "\n",
       "    .dataframe thead th {\n",
       "        text-align: right;\n",
       "    }\n",
       "</style>\n",
       "<table border=\"1\" class=\"dataframe\">\n",
       "  <thead>\n",
       "    <tr style=\"text-align: right;\">\n",
       "      <th></th>\n",
       "      <th>age at death</th>\n",
       "      <th>hair length</th>\n",
       "      <th>height</th>\n",
       "      <th>number of vet visits</th>\n",
       "      <th>weight</th>\n",
       "    </tr>\n",
       "  </thead>\n",
       "  <tbody>\n",
       "    <tr>\n",
       "      <th>count</th>\n",
       "      <td>299.000000</td>\n",
       "      <td>2.990000e+02</td>\n",
       "      <td>300.000000</td>\n",
       "      <td>300.000000</td>\n",
       "      <td>300.000000</td>\n",
       "    </tr>\n",
       "    <tr>\n",
       "      <th>mean</th>\n",
       "      <td>9.006689</td>\n",
       "      <td>3.027706e+09</td>\n",
       "      <td>20.498442</td>\n",
       "      <td>8.296667</td>\n",
       "      <td>3.957667</td>\n",
       "    </tr>\n",
       "    <tr>\n",
       "      <th>std</th>\n",
       "      <td>2.892937</td>\n",
       "      <td>5.235392e+10</td>\n",
       "      <td>5.107386</td>\n",
       "      <td>3.820643</td>\n",
       "      <td>2.033624</td>\n",
       "    </tr>\n",
       "    <tr>\n",
       "      <th>min</th>\n",
       "      <td>0.000000</td>\n",
       "      <td>6.904537e-01</td>\n",
       "      <td>5.077179</td>\n",
       "      <td>-1.000000</td>\n",
       "      <td>0.000000</td>\n",
       "    </tr>\n",
       "    <tr>\n",
       "      <th>25%</th>\n",
       "      <td>7.000000</td>\n",
       "      <td>9.377535e-01</td>\n",
       "      <td>16.958241</td>\n",
       "      <td>6.000000</td>\n",
       "      <td>2.000000</td>\n",
       "    </tr>\n",
       "    <tr>\n",
       "      <th>50%</th>\n",
       "      <td>9.000000</td>\n",
       "      <td>1.003253e+00</td>\n",
       "      <td>20.825805</td>\n",
       "      <td>8.000000</td>\n",
       "      <td>4.000000</td>\n",
       "    </tr>\n",
       "    <tr>\n",
       "      <th>75%</th>\n",
       "      <td>11.000000</td>\n",
       "      <td>1.067127e+00</td>\n",
       "      <td>24.043067</td>\n",
       "      <td>11.000000</td>\n",
       "      <td>5.250000</td>\n",
       "    </tr>\n",
       "    <tr>\n",
       "      <th>max</th>\n",
       "      <td>18.000000</td>\n",
       "      <td>9.052840e+11</td>\n",
       "      <td>33.043014</td>\n",
       "      <td>19.000000</td>\n",
       "      <td>10.000000</td>\n",
       "    </tr>\n",
       "  </tbody>\n",
       "</table>\n",
       "</div>"
      ],
      "text/plain": [
       "       age at death   hair length      height  number of vet visits  \\\n",
       "count    299.000000  2.990000e+02  300.000000            300.000000   \n",
       "mean       9.006689  3.027706e+09   20.498442              8.296667   \n",
       "std        2.892937  5.235392e+10    5.107386              3.820643   \n",
       "min        0.000000  6.904537e-01    5.077179             -1.000000   \n",
       "25%        7.000000  9.377535e-01   16.958241              6.000000   \n",
       "50%        9.000000  1.003253e+00   20.825805              8.000000   \n",
       "75%       11.000000  1.067127e+00   24.043067             11.000000   \n",
       "max       18.000000  9.052840e+11   33.043014             19.000000   \n",
       "\n",
       "           weight  \n",
       "count  300.000000  \n",
       "mean     3.957667  \n",
       "std      2.033624  \n",
       "min      0.000000  \n",
       "25%      2.000000  \n",
       "50%      4.000000  \n",
       "75%      5.250000  \n",
       "max     10.000000  "
      ]
     },
     "execution_count": 6,
     "metadata": {},
     "output_type": "execute_result"
    }
   ],
   "source": [
    "cats_df.describe()"
   ]
  },
  {
   "cell_type": "code",
   "execution_count": 7,
   "metadata": {},
   "outputs": [
    {
     "data": {
      "text/plain": [
       "Maine Coon    68\n",
       "Rex           64\n",
       "Manx          59\n",
       "Javanese      58\n",
       "Siamese       50\n",
       "Donald         1\n",
       "Name: breed, dtype: int64"
      ]
     },
     "execution_count": 7,
     "metadata": {},
     "output_type": "execute_result"
    }
   ],
   "source": [
    "cats_df['breed'].value_counts()"
   ]
  },
  {
   "cell_type": "markdown",
   "metadata": {},
   "source": [
    "### From the data above we can quickly see the following issues\n",
    "1 - There are two records with missing values in the (age at death) and (hair length variables).\n",
    "<br>\n",
    "2 - The variable (vet visits) has negative values, no enough information about why this value. \n",
    "<br>\n",
    "3 - Cats with 0.0 weight and 0 years of age.\n",
    "<br>\n",
    "4 - Hair length 9.05^11.\n",
    "<br>\n",
    "5 - Only one record for Donal cat.\n",
    "<br>\n",
    "6 - Zero weight cats.\n"
   ]
  },
  {
   "cell_type": "markdown",
   "metadata": {},
   "source": [
    "#### Identifying records with missing values"
   ]
  },
  {
   "cell_type": "code",
   "execution_count": 8,
   "metadata": {},
   "outputs": [],
   "source": [
    "nan_samples = cats_df[cats_df.isnull().any(axis=1)]\n",
    "cats_df['remove'].iloc[nan_samples.index] = True\n",
    "del nan_samples"
   ]
  },
  {
   "cell_type": "markdown",
   "metadata": {},
   "source": [
    "#### Identifying records with negative values for the number of visits variable"
   ]
  },
  {
   "cell_type": "code",
   "execution_count": 9,
   "metadata": {
    "collapsed": true
   },
   "outputs": [],
   "source": [
    "negative_visits = cats_df[cats_df['number of vet visits'] < 0]['number of vet visits']\n",
    "cats_df['remove'].iloc[negative_visits.index] = True \n",
    "del negative_visits"
   ]
  },
  {
   "cell_type": "markdown",
   "metadata": {},
   "source": [
    "#### Identifying records with 0 age at death"
   ]
  },
  {
   "cell_type": "code",
   "execution_count": 10,
   "metadata": {
    "collapsed": true
   },
   "outputs": [],
   "source": [
    "zero_age = cats_df[cats_df['age at death'] <= 0]['age at death']\n",
    "cats_df['remove'].iloc[zero_age.index] = True\n",
    "del zero_age"
   ]
  },
  {
   "cell_type": "markdown",
   "metadata": {
    "collapsed": true
   },
   "source": [
    "#### Detecting outliers for the length of hair variable\n",
    "The function below, will identify records that have values that are larger than 1.5 the IQR."
   ]
  },
  {
   "cell_type": "code",
   "execution_count": 11,
   "metadata": {
    "collapsed": true
   },
   "outputs": [],
   "source": [
    "#The function will return the index of the outliers\n",
    "def detect_outliers(df, col, th):\n",
    "    q1  = df[col].quantile(.25)\n",
    "    q2  = df[col].quantile(.75)\n",
    "    iqr = q1 + q2\n",
    "    mask = df[col].between(q1-th*iqr, q2+th*iqr, inclusive=True)\n",
    "    return df.loc[~mask,col].index"
   ]
  },
  {
   "cell_type": "code",
   "execution_count": 12,
   "metadata": {
    "collapsed": true
   },
   "outputs": [],
   "source": [
    "outlier_indices = detect_outliers(cats_df, 'hair length', 1.5)\n",
    "cats_df['remove'].iloc[outlier_indices] = True"
   ]
  },
  {
   "cell_type": "markdown",
   "metadata": {
    "collapsed": true
   },
   "source": [
    "#### Identify the breed of 'Donald'"
   ]
  },
  {
   "cell_type": "code",
   "execution_count": 13,
   "metadata": {
    "collapsed": true
   },
   "outputs": [],
   "source": [
    "donald_breed = cats_df[cats_df['breed'] == 'Donald']\n",
    "cats_df['remove'].iloc[donald_breed.index] = True\n",
    "del donald_breed"
   ]
  },
  {
   "cell_type": "markdown",
   "metadata": {},
   "source": [
    "#### Identify records with zero weight"
   ]
  },
  {
   "cell_type": "code",
   "execution_count": 14,
   "metadata": {
    "collapsed": true
   },
   "outputs": [],
   "source": [
    "zero_weight = cats_df[cats_df['weight'] == 0]['weight']\n",
    "cats_df['remove'].iloc[zero_weight.index] = True\n",
    "del zero_weight"
   ]
  },
  {
   "cell_type": "markdown",
   "metadata": {},
   "source": [
    "#### The below records which have the above issues will be excluded from the analysis."
   ]
  },
  {
   "cell_type": "code",
   "execution_count": 15,
   "metadata": {},
   "outputs": [
    {
     "data": {
      "text/html": [
       "<div>\n",
       "<style scoped>\n",
       "    .dataframe tbody tr th:only-of-type {\n",
       "        vertical-align: middle;\n",
       "    }\n",
       "\n",
       "    .dataframe tbody tr th {\n",
       "        vertical-align: top;\n",
       "    }\n",
       "\n",
       "    .dataframe thead th {\n",
       "        text-align: right;\n",
       "    }\n",
       "</style>\n",
       "<table border=\"1\" class=\"dataframe\">\n",
       "  <thead>\n",
       "    <tr style=\"text-align: right;\">\n",
       "      <th></th>\n",
       "      <th>age at death</th>\n",
       "      <th>breed</th>\n",
       "      <th>date of last vet visit</th>\n",
       "      <th>hair length</th>\n",
       "      <th>height</th>\n",
       "      <th>number of vet visits</th>\n",
       "      <th>weight</th>\n",
       "      <th>remove</th>\n",
       "    </tr>\n",
       "    <tr>\n",
       "      <th>seq</th>\n",
       "      <th></th>\n",
       "      <th></th>\n",
       "      <th></th>\n",
       "      <th></th>\n",
       "      <th></th>\n",
       "      <th></th>\n",
       "      <th></th>\n",
       "      <th></th>\n",
       "    </tr>\n",
       "  </thead>\n",
       "  <tbody>\n",
       "    <tr>\n",
       "      <th>28</th>\n",
       "      <td>14.0</td>\n",
       "      <td>Donald</td>\n",
       "      <td>2004-02-02 20:27:11</td>\n",
       "      <td>8.880396e-01</td>\n",
       "      <td>9.727390</td>\n",
       "      <td>5</td>\n",
       "      <td>5.0</td>\n",
       "      <td>True</td>\n",
       "    </tr>\n",
       "    <tr>\n",
       "      <th>33</th>\n",
       "      <td>6.0</td>\n",
       "      <td>Maine Coon</td>\n",
       "      <td>2007-07-04 02:53:25</td>\n",
       "      <td>8.356103e-01</td>\n",
       "      <td>16.848307</td>\n",
       "      <td>5</td>\n",
       "      <td>0.0</td>\n",
       "      <td>True</td>\n",
       "    </tr>\n",
       "    <tr>\n",
       "      <th>47</th>\n",
       "      <td>8.0</td>\n",
       "      <td>Rex</td>\n",
       "      <td>NaT</td>\n",
       "      <td>1.037497e+00</td>\n",
       "      <td>27.393672</td>\n",
       "      <td>6</td>\n",
       "      <td>6.0</td>\n",
       "      <td>True</td>\n",
       "    </tr>\n",
       "    <tr>\n",
       "      <th>57</th>\n",
       "      <td>11.0</td>\n",
       "      <td>Manx</td>\n",
       "      <td>2011-11-12 23:23:01</td>\n",
       "      <td>8.684509e-01</td>\n",
       "      <td>21.647929</td>\n",
       "      <td>-1</td>\n",
       "      <td>2.0</td>\n",
       "      <td>True</td>\n",
       "    </tr>\n",
       "    <tr>\n",
       "      <th>61</th>\n",
       "      <td>6.0</td>\n",
       "      <td>Maine Coon</td>\n",
       "      <td>2002-02-06 06:49:07</td>\n",
       "      <td>9.420371e-01</td>\n",
       "      <td>23.571271</td>\n",
       "      <td>16</td>\n",
       "      <td>0.0</td>\n",
       "      <td>True</td>\n",
       "    </tr>\n",
       "    <tr>\n",
       "      <th>92</th>\n",
       "      <td>7.0</td>\n",
       "      <td>Maine Coon</td>\n",
       "      <td>2007-08-02 16:59:33</td>\n",
       "      <td>9.679410e-01</td>\n",
       "      <td>8.624444</td>\n",
       "      <td>-1</td>\n",
       "      <td>3.0</td>\n",
       "      <td>True</td>\n",
       "    </tr>\n",
       "    <tr>\n",
       "      <th>102</th>\n",
       "      <td>17.0</td>\n",
       "      <td>Rex</td>\n",
       "      <td>2007-11-27 07:35:08</td>\n",
       "      <td>1.086447e+00</td>\n",
       "      <td>19.750088</td>\n",
       "      <td>9</td>\n",
       "      <td>0.0</td>\n",
       "      <td>True</td>\n",
       "    </tr>\n",
       "    <tr>\n",
       "      <th>108</th>\n",
       "      <td>10.0</td>\n",
       "      <td>Rex</td>\n",
       "      <td>2012-12-10 03:48:52</td>\n",
       "      <td>9.052840e+11</td>\n",
       "      <td>18.661543</td>\n",
       "      <td>9</td>\n",
       "      <td>2.0</td>\n",
       "      <td>True</td>\n",
       "    </tr>\n",
       "    <tr>\n",
       "      <th>114</th>\n",
       "      <td>11.0</td>\n",
       "      <td>Siamese</td>\n",
       "      <td>2014-08-14 22:01:44</td>\n",
       "      <td>1.190255e+00</td>\n",
       "      <td>17.747619</td>\n",
       "      <td>6</td>\n",
       "      <td>0.0</td>\n",
       "      <td>True</td>\n",
       "    </tr>\n",
       "    <tr>\n",
       "      <th>131</th>\n",
       "      <td>6.0</td>\n",
       "      <td>Rex</td>\n",
       "      <td>2009-07-08 08:12:26</td>\n",
       "      <td>9.331319e-01</td>\n",
       "      <td>20.619181</td>\n",
       "      <td>8</td>\n",
       "      <td>0.0</td>\n",
       "      <td>True</td>\n",
       "    </tr>\n",
       "    <tr>\n",
       "      <th>163</th>\n",
       "      <td>14.0</td>\n",
       "      <td>Maine Coon</td>\n",
       "      <td>2000-04-28 10:14:54</td>\n",
       "      <td>1.096407e+00</td>\n",
       "      <td>22.907829</td>\n",
       "      <td>7</td>\n",
       "      <td>0.0</td>\n",
       "      <td>True</td>\n",
       "    </tr>\n",
       "    <tr>\n",
       "      <th>164</th>\n",
       "      <td>0.0</td>\n",
       "      <td>Rex</td>\n",
       "      <td>2007-07-20 22:28:24</td>\n",
       "      <td>9.368674e-01</td>\n",
       "      <td>14.317804</td>\n",
       "      <td>9</td>\n",
       "      <td>1.0</td>\n",
       "      <td>True</td>\n",
       "    </tr>\n",
       "    <tr>\n",
       "      <th>174</th>\n",
       "      <td>11.0</td>\n",
       "      <td>Maine Coon</td>\n",
       "      <td>2016-08-24 01:54:56</td>\n",
       "      <td>8.424473e-01</td>\n",
       "      <td>15.286063</td>\n",
       "      <td>14</td>\n",
       "      <td>0.0</td>\n",
       "      <td>True</td>\n",
       "    </tr>\n",
       "    <tr>\n",
       "      <th>179</th>\n",
       "      <td>10.0</td>\n",
       "      <td>Manx</td>\n",
       "      <td>2005-08-20 12:28:46</td>\n",
       "      <td>9.098111e-01</td>\n",
       "      <td>24.554019</td>\n",
       "      <td>5</td>\n",
       "      <td>0.0</td>\n",
       "      <td>True</td>\n",
       "    </tr>\n",
       "    <tr>\n",
       "      <th>214</th>\n",
       "      <td>6.0</td>\n",
       "      <td>Manx</td>\n",
       "      <td>2010-08-08 21:45:37</td>\n",
       "      <td>9.371482e-01</td>\n",
       "      <td>12.019150</td>\n",
       "      <td>9</td>\n",
       "      <td>0.0</td>\n",
       "      <td>True</td>\n",
       "    </tr>\n",
       "    <tr>\n",
       "      <th>258</th>\n",
       "      <td>NaN</td>\n",
       "      <td>Maine Coon</td>\n",
       "      <td>2010-09-16 08:07:38</td>\n",
       "      <td>9.795561e-01</td>\n",
       "      <td>26.055971</td>\n",
       "      <td>1</td>\n",
       "      <td>8.0</td>\n",
       "      <td>True</td>\n",
       "    </tr>\n",
       "    <tr>\n",
       "      <th>271</th>\n",
       "      <td>6.0</td>\n",
       "      <td>Manx</td>\n",
       "      <td>2001-02-13 02:04:31</td>\n",
       "      <td>NaN</td>\n",
       "      <td>21.520845</td>\n",
       "      <td>7</td>\n",
       "      <td>7.0</td>\n",
       "      <td>True</td>\n",
       "    </tr>\n",
       "    <tr>\n",
       "      <th>288</th>\n",
       "      <td>0.0</td>\n",
       "      <td>Javanese</td>\n",
       "      <td>2003-04-07 10:02:49</td>\n",
       "      <td>9.500697e-01</td>\n",
       "      <td>24.419723</td>\n",
       "      <td>10</td>\n",
       "      <td>3.0</td>\n",
       "      <td>True</td>\n",
       "    </tr>\n",
       "    <tr>\n",
       "      <th>290</th>\n",
       "      <td>8.0</td>\n",
       "      <td>Javanese</td>\n",
       "      <td>2005-05-16 16:33:16</td>\n",
       "      <td>1.019894e+00</td>\n",
       "      <td>17.027594</td>\n",
       "      <td>0</td>\n",
       "      <td>0.0</td>\n",
       "      <td>True</td>\n",
       "    </tr>\n",
       "    <tr>\n",
       "      <th>294</th>\n",
       "      <td>13.0</td>\n",
       "      <td>Javanese</td>\n",
       "      <td>2015-01-27 23:23:42</td>\n",
       "      <td>1.085022e+00</td>\n",
       "      <td>24.610927</td>\n",
       "      <td>-1</td>\n",
       "      <td>4.0</td>\n",
       "      <td>True</td>\n",
       "    </tr>\n",
       "  </tbody>\n",
       "</table>\n",
       "</div>"
      ],
      "text/plain": [
       "     age at death       breed date of last vet visit   hair length     height  \\\n",
       "seq                                                                             \n",
       "28           14.0      Donald    2004-02-02 20:27:11  8.880396e-01   9.727390   \n",
       "33            6.0  Maine Coon    2007-07-04 02:53:25  8.356103e-01  16.848307   \n",
       "47            8.0         Rex                    NaT  1.037497e+00  27.393672   \n",
       "57           11.0        Manx    2011-11-12 23:23:01  8.684509e-01  21.647929   \n",
       "61            6.0  Maine Coon    2002-02-06 06:49:07  9.420371e-01  23.571271   \n",
       "92            7.0  Maine Coon    2007-08-02 16:59:33  9.679410e-01   8.624444   \n",
       "102          17.0         Rex    2007-11-27 07:35:08  1.086447e+00  19.750088   \n",
       "108          10.0         Rex    2012-12-10 03:48:52  9.052840e+11  18.661543   \n",
       "114          11.0     Siamese    2014-08-14 22:01:44  1.190255e+00  17.747619   \n",
       "131           6.0         Rex    2009-07-08 08:12:26  9.331319e-01  20.619181   \n",
       "163          14.0  Maine Coon    2000-04-28 10:14:54  1.096407e+00  22.907829   \n",
       "164           0.0         Rex    2007-07-20 22:28:24  9.368674e-01  14.317804   \n",
       "174          11.0  Maine Coon    2016-08-24 01:54:56  8.424473e-01  15.286063   \n",
       "179          10.0        Manx    2005-08-20 12:28:46  9.098111e-01  24.554019   \n",
       "214           6.0        Manx    2010-08-08 21:45:37  9.371482e-01  12.019150   \n",
       "258           NaN  Maine Coon    2010-09-16 08:07:38  9.795561e-01  26.055971   \n",
       "271           6.0        Manx    2001-02-13 02:04:31           NaN  21.520845   \n",
       "288           0.0    Javanese    2003-04-07 10:02:49  9.500697e-01  24.419723   \n",
       "290           8.0    Javanese    2005-05-16 16:33:16  1.019894e+00  17.027594   \n",
       "294          13.0    Javanese    2015-01-27 23:23:42  1.085022e+00  24.610927   \n",
       "\n",
       "     number of vet visits  weight  remove  \n",
       "seq                                        \n",
       "28                      5     5.0    True  \n",
       "33                      5     0.0    True  \n",
       "47                      6     6.0    True  \n",
       "57                     -1     2.0    True  \n",
       "61                     16     0.0    True  \n",
       "92                     -1     3.0    True  \n",
       "102                     9     0.0    True  \n",
       "108                     9     2.0    True  \n",
       "114                     6     0.0    True  \n",
       "131                     8     0.0    True  \n",
       "163                     7     0.0    True  \n",
       "164                     9     1.0    True  \n",
       "174                    14     0.0    True  \n",
       "179                     5     0.0    True  \n",
       "214                     9     0.0    True  \n",
       "258                     1     8.0    True  \n",
       "271                     7     7.0    True  \n",
       "288                    10     3.0    True  \n",
       "290                     0     0.0    True  \n",
       "294                    -1     4.0    True  "
      ]
     },
     "execution_count": 15,
     "metadata": {},
     "output_type": "execute_result"
    }
   ],
   "source": [
    "cats_df[cats_df['remove']==True]"
   ]
  },
  {
   "cell_type": "markdown",
   "metadata": {},
   "source": [
    "#### Dropping the column remove"
   ]
  },
  {
   "cell_type": "code",
   "execution_count": 16,
   "metadata": {},
   "outputs": [],
   "source": [
    "cats_df = cats_df[cats_df['remove']==False]\n",
    "cats_df = cats_df.drop('remove', axis=1)"
   ]
  },
  {
   "cell_type": "markdown",
   "metadata": {},
   "source": [
    "### Univariate Analysis\n",
    "The purpose of this analysis is to study the distribution of the variables separately to identify any issue. From the figures, we can see there are a number of outliers, however, these outliers are not extreme so I will leave them."
   ]
  },
  {
   "cell_type": "code",
   "execution_count": 17,
   "metadata": {},
   "outputs": [
    {
     "data": {
      "text/plain": [
       "<matplotlib.axes._subplots.AxesSubplot at 0x10a25f898>"
      ]
     },
     "execution_count": 17,
     "metadata": {},
     "output_type": "execute_result"
    },
    {
     "data": {
      "image/png": "[encoded data removed]",
      "text/plain": [
       "<matplotlib.figure.Figure at 0x108b683c8>"
      ]
     },
     "metadata": {},
     "output_type": "display_data"
    }
   ],
   "source": [
    "fig,axes = plt.subplots(nrows=2, ncols=3, figsize=(15,15))\n",
    "fig.subplots_adjust(hspace=0.6, wspace=0.6)\n",
    "sb.boxplot(cats_df['age at death'], orient='v', ax=axes[0,0])\n",
    "sb.boxplot(cats_df['hair length'],  orient='v', ax=axes[0,1])\n",
    "sb.boxplot(cats_df['number of vet visits'], orient='v', ax=axes[0,2])\n",
    "sb.boxplot(cats_df['height'], orient='v', ax=axes[1,0])\n",
    "sb.boxplot(cats_df['weight'], orient='v', ax=axes[1,1])\n",
    "sb.countplot(x=cats_df['breed'],  orient='v', ax=axes[1,2])"
   ]
  },
  {
   "cell_type": "markdown",
   "metadata": {
    "collapsed": true
   },
   "source": [
    "### Bivariate Analysis\n",
    "This analysis is to get a feeling of the relationship between the features and the response variable (age at death)."
   ]
  },
  {
   "cell_type": "markdown",
   "metadata": {},
   "source": [
    "### Analysing the correlation between the features and the respnse variable\n",
    "\n",
    "From the figures, we can see a weak correlation between the numerical features and the response variable which is not a good sign."
   ]
  },
  {
   "cell_type": "code",
   "execution_count": 19,
   "metadata": {},
   "outputs": [
    {
     "name": "stdout",
     "output_type": "stream",
     "text": [
      "Correlation between age at death and hair length:\n",
      "0.03653987062751793\n"
     ]
    },
    {
     "data": {
      "image/png": "[encoded data removed]",
      "text/plain": [
       "<matplotlib.figure.Figure at 0x1c15c0f898>"
      ]
     },
     "metadata": {},
     "output_type": "display_data"
    },
    {
     "name": "stdout",
     "output_type": "stream",
     "text": [
      "Correlation between age at death and height:\n",
      "-0.04631251324563596\n"
     ]
    },
    {
     "data": {
      "image/png": "[encoded data removed]",
      "text/plain": [
       "<matplotlib.figure.Figure at 0x10a407be0>"
      ]
     },
     "metadata": {},
     "output_type": "display_data"
    },
    {
     "name": "stdout",
     "output_type": "stream",
     "text": [
      "Correlation between age at death and number of vet visits:\n",
      "-0.03460949093946466\n"
     ]
    },
    {
     "data": {
      "image/png": "[encoded data removed]",
      "text/plain": [
       "<matplotlib.figure.Figure at 0x1c15a79cf8>"
      ]
     },
     "metadata": {},
     "output_type": "display_data"
    },
    {
     "name": "stdout",
     "output_type": "stream",
     "text": [
      "Correlation between age at death and weight:\n",
      "-0.037994492014238705\n"
     ]
    },
    {
     "data": {
      "image/png": "[encoded data removed]",
      "text/plain": [
       "<matplotlib.figure.Figure at 0x1c15a4b908>"
      ]
     },
     "metadata": {},
     "output_type": "display_data"
    }
   ],
   "source": [
    "def analyse_correlation(df, dep_variable, indep_variable):\n",
    "    for v in indep_variable:\n",
    "         print('Correlation between {} and {}:'.format(dep_variable, v))\n",
    "         print(np.corrcoef(df[dep_variable].values, df[v].values)[0,1])\n",
    "         sb.regplot(x=v, y=dep_variable, data=df)\n",
    "         plt.show()\n",
    "        \n",
    "analyse_correlation(cats_df.dropna(), 'age at death', ['hair length', 'height', 'number of vet visits', 'weight'])"
   ]
  },
  {
   "cell_type": "markdown",
   "metadata": {},
   "source": [
    "The response variable is a normal distribution approximatly around age of 8."
   ]
  },
  {
   "cell_type": "code",
   "execution_count": 90,
   "metadata": {},
   "outputs": [
    {
     "data": {
      "image/png": "[encoded data removed]",
      "text/plain": [
       "<matplotlib.figure.Figure at 0x1c1addaa90>"
      ]
     },
     "metadata": {},
     "output_type": "display_data"
    }
   ],
   "source": [
    "sb.distplot(cats_df['age at death'].dropna())\n",
    "plt.show()"
   ]
  },
  {
   "cell_type": "markdown",
   "metadata": {},
   "source": [
    "## Predicting Cat Life Expectancy Using Regression "
   ]
  },
  {
   "cell_type": "markdown",
   "metadata": {},
   "source": [
    "We can use two approaches to predict the cat life expectancy. One approach is to consider the problem as a classification one, where the response variable (age at death) is splitted into categories, for example low, medium and high and then we create a classification model.  \n",
    "\n",
    "Because the response variable (age at death) is continuous, I will use regression for prediction.\n",
    "Ridge algorithm will be used. Ridge is a linear regression model with norm two penalty on the weights.\n",
    "Ridge algorithm has few parameters to be tuned. The most important one is (alpha) the penalty factor on the weights. To find the best parameters, a grid search will be performed. To make the process modular and easy to be used in \n",
    "production, a pipeline will be constructed."
   ]
  },
  {
   "cell_type": "markdown",
   "metadata": {},
   "source": [
    "Using sklearn pipeline, I will create a processing pipeline that takes as input the training data and produces the model. The pipeline consists of the following steps:\n",
    "\n",
    "#### Feature preprocessing\n",
    "In this step, the date feature will be splitted into (year, month, day of week, hour) and the categorial features are converted into binary representation using one hot encoding using LabelBinarizer.\n",
    "\n",
    "#### Tunning the paramters of the Ridge Algorithm.\n",
    "Using GridSearchCV module, the three parameters (alpha, fit_intercept, normalize) will be searched to find the best combination. GridSearhCV splits the training data using crossover validation. Then, it exhaustively searches all the possible combinations of the parameters to maximise(minimise) a performance metric. \n",
    "The performance metric I will use here is the root mean sequare error. \n",
    "\n",
    "#### Training the model\n",
    "Data is splitted into 80% training data and 20% testing."
   ]
  },
  {
   "cell_type": "code",
   "execution_count": 37,
   "metadata": {},
   "outputs": [
    {
     "data": {
      "text/html": [
       "<div>\n",
       "<style scoped>\n",
       "    .dataframe tbody tr th:only-of-type {\n",
       "        vertical-align: middle;\n",
       "    }\n",
       "\n",
       "    .dataframe tbody tr th {\n",
       "        vertical-align: top;\n",
       "    }\n",
       "\n",
       "    .dataframe thead th {\n",
       "        text-align: right;\n",
       "    }\n",
       "</style>\n",
       "<table border=\"1\" class=\"dataframe\">\n",
       "  <thead>\n",
       "    <tr style=\"text-align: right;\">\n",
       "      <th></th>\n",
       "      <th>breed</th>\n",
       "      <th>date of last vet visit</th>\n",
       "      <th>hair length</th>\n",
       "      <th>height</th>\n",
       "      <th>number of vet visits</th>\n",
       "      <th>weight</th>\n",
       "    </tr>\n",
       "    <tr>\n",
       "      <th>seq</th>\n",
       "      <th></th>\n",
       "      <th></th>\n",
       "      <th></th>\n",
       "      <th></th>\n",
       "      <th></th>\n",
       "      <th></th>\n",
       "    </tr>\n",
       "  </thead>\n",
       "  <tbody>\n",
       "    <tr>\n",
       "      <th>282</th>\n",
       "      <td>Maine Coon</td>\n",
       "      <td>2013-03-19 19:18:18</td>\n",
       "      <td>0.986487</td>\n",
       "      <td>26.111540</td>\n",
       "      <td>7</td>\n",
       "      <td>5.0</td>\n",
       "    </tr>\n",
       "    <tr>\n",
       "      <th>12</th>\n",
       "      <td>Rex</td>\n",
       "      <td>2006-01-25 09:53:27</td>\n",
       "      <td>0.972126</td>\n",
       "      <td>25.700163</td>\n",
       "      <td>12</td>\n",
       "      <td>5.0</td>\n",
       "    </tr>\n",
       "    <tr>\n",
       "      <th>119</th>\n",
       "      <td>Maine Coon</td>\n",
       "      <td>2017-04-01 19:40:44</td>\n",
       "      <td>1.178993</td>\n",
       "      <td>21.826497</td>\n",
       "      <td>5</td>\n",
       "      <td>8.0</td>\n",
       "    </tr>\n",
       "    <tr>\n",
       "      <th>86</th>\n",
       "      <td>Maine Coon</td>\n",
       "      <td>2011-10-31 16:25:58</td>\n",
       "      <td>0.838882</td>\n",
       "      <td>17.971523</td>\n",
       "      <td>7</td>\n",
       "      <td>3.0</td>\n",
       "    </tr>\n",
       "    <tr>\n",
       "      <th>266</th>\n",
       "      <td>Siamese</td>\n",
       "      <td>2007-09-14 10:11:30</td>\n",
       "      <td>1.016724</td>\n",
       "      <td>21.740494</td>\n",
       "      <td>4</td>\n",
       "      <td>6.0</td>\n",
       "    </tr>\n",
       "  </tbody>\n",
       "</table>\n",
       "</div>"
      ],
      "text/plain": [
       "          breed date of last vet visit  hair length     height  \\\n",
       "seq                                                              \n",
       "282  Maine Coon    2013-03-19 19:18:18     0.986487  26.111540   \n",
       "12          Rex    2006-01-25 09:53:27     0.972126  25.700163   \n",
       "119  Maine Coon    2017-04-01 19:40:44     1.178993  21.826497   \n",
       "86   Maine Coon    2011-10-31 16:25:58     0.838882  17.971523   \n",
       "266     Siamese    2007-09-14 10:11:30     1.016724  21.740494   \n",
       "\n",
       "     number of vet visits  weight  \n",
       "seq                                \n",
       "282                     7     5.0  \n",
       "12                     12     5.0  \n",
       "119                     5     8.0  \n",
       "86                      7     3.0  \n",
       "266                     4     6.0  "
      ]
     },
     "execution_count": 37,
     "metadata": {},
     "output_type": "execute_result"
    }
   ],
   "source": [
    "X_test.head()"
   ]
  },
  {
   "cell_type": "code",
   "execution_count": 58,
   "metadata": {},
   "outputs": [
    {
     "name": "stdout",
     "output_type": "stream",
     "text": [
      "Fitting 3 folds for each of 40 candidates, totalling 120 fits\n",
      "[CV] classifier__alpha=0.0, classifier__fit_intercept=True, classifier__normalize=True \n",
      "RMSE: 2.913254174216436\n",
      "RMSE: 2.6567084305215136\n",
      "[CV]  classifier__alpha=0.0, classifier__fit_intercept=True, classifier__normalize=True, score=-2.913254174216436, total=   0.0s\n",
      "[CV] classifier__alpha=0.0, classifier__fit_intercept=True, classifier__normalize=True \n",
      "RMSE: 2.835107157717185\n",
      "RMSE: 2.7167414748116396\n",
      "[CV]  classifier__alpha=0.0, classifier__fit_intercept=True, classifier__normalize=True, score=-2.835107157717185, total=   0.0s\n",
      "[CV] classifier__alpha=0.0, classifier__fit_intercept=True, classifier__normalize=True \n",
      "RMSE: 3.170714500875049\n",
      "RMSE: 2.5426454780589274\n",
      "[CV]  classifier__alpha=0.0, classifier__fit_intercept=True, classifier__normalize=True, score=-3.170714500875049, total=   0.0s\n",
      "[CV] classifier__alpha=0.0, classifier__fit_intercept=True, classifier__normalize=False \n",
      "RMSE: 2.8033732386451\n",
      "RMSE: 2.816930271385175\n",
      "[CV]  classifier__alpha=0.0, classifier__fit_intercept=True, classifier__normalize=False, score=-2.8033732386451, total=   0.0s\n",
      "[CV] classifier__alpha=0.0, classifier__fit_intercept=True, classifier__normalize=False \n",
      "RMSE: 2.8351071577171876\n",
      "RMSE: 2.7167414748116396\n",
      "[CV]  classifier__alpha=0.0, classifier__fit_intercept=True, classifier__normalize=False, score=-2.8351071577171876, total=   0.0s\n",
      "[CV] classifier__alpha=0.0, classifier__fit_intercept=True, classifier__normalize=False \n",
      "RMSE: 3.1707145008750475\n",
      "RMSE: 2.542645478058927\n",
      "[CV]  classifier__alpha=0.0, classifier__fit_intercept=True, classifier__normalize=False, score=-3.1707145008750475, total=   0.0s\n",
      "[CV] classifier__alpha=0.0, classifier__fit_intercept=False, classifier__normalize=True \n",
      "RMSE: 2.9132541742159592\n",
      "RMSE: 2.6567084305215136\n",
      "[CV]  classifier__alpha=0.0, classifier__fit_intercept=False, classifier__normalize=True, score=-2.9132541742159592, total=   0.0s\n",
      "[CV] classifier__alpha=0.0, classifier__fit_intercept=False, classifier__normalize=True \n",
      "RMSE: 2.835107157717552\n",
      "RMSE: 2.7167414748116396\n",
      "[CV]  classifier__alpha=0.0, classifier__fit_intercept=False, classifier__normalize=True, score=-2.835107157717552, total=   0.0s\n",
      "[CV] classifier__alpha=0.0, classifier__fit_intercept=False, classifier__normalize=True \n",
      "RMSE: 3.170714500875636\n",
      "RMSE: 2.5426454780589265\n",
      "[CV]  classifier__alpha=0.0, classifier__fit_intercept=False, classifier__normalize=True, score=-3.170714500875636, total=   0.0s\n",
      "[CV] classifier__alpha=0.0, classifier__fit_intercept=False, classifier__normalize=False \n",
      "RMSE: 2.9132541742159592\n",
      "RMSE: 2.6567084305215136\n",
      "[CV]  classifier__alpha=0.0, classifier__fit_intercept=False, classifier__normalize=False, score=-2.9132541742159592, total=   0.0s\n",
      "[CV] classifier__alpha=0.0, classifier__fit_intercept=False, classifier__normalize=False \n",
      "RMSE: 2.835107157717552\n",
      "RMSE: 2.7167414748116396\n",
      "[CV]  classifier__alpha=0.0, classifier__fit_intercept=False, classifier__normalize=False, score=-2.835107157717552, total=   0.0s\n",
      "[CV] classifier__alpha=0.0, classifier__fit_intercept=False, classifier__normalize=False \n",
      "RMSE: 3.170714500875636\n",
      "RMSE: 2.5426454780589265\n",
      "[CV]  classifier__alpha=0.0, classifier__fit_intercept=False, classifier__normalize=False, score=-3.170714500875636, total=   0.0s\n",
      "[CV] classifier__alpha=0.1111111111111111, classifier__fit_intercept=True, classifier__normalize=True \n",
      "RMSE: 2.8939366524761168\n",
      "RMSE: 2.65722759760127\n",
      "[CV]  classifier__alpha=0.1111111111111111, classifier__fit_intercept=True, classifier__normalize=True, score=-2.8939366524761168, total=   0.0s\n",
      "[CV] classifier__alpha=0.1111111111111111, classifier__fit_intercept=True, classifier__normalize=True \n",
      "RMSE: 2.7956215151590103\n",
      "RMSE: 2.7177068062733554\n",
      "[CV]  classifier__alpha=0.1111111111111111, classifier__fit_intercept=True, classifier__normalize=True, score=-2.7956215151590103, total=   0.0s\n",
      "[CV] classifier__alpha=0.1111111111111111, classifier__fit_intercept=True, classifier__normalize=True \n"
     ]
    },
    {
     "name": "stderr",
     "output_type": "stream",
     "text": [
      "[Parallel(n_jobs=1)]: Done   1 out of   1 | elapsed:    0.0s remaining:    0.0s\n",
      "[Parallel(n_jobs=1)]: Done   2 out of   2 | elapsed:    0.0s remaining:    0.0s\n"
     ]
    },
    {
     "name": "stdout",
     "output_type": "stream",
     "text": [
      "RMSE: 3.124894423749972\n",
      "RMSE: 2.544276438150177\n",
      "[CV]  classifier__alpha=0.1111111111111111, classifier__fit_intercept=True, classifier__normalize=True, score=-3.124894423749972, total=   0.0s\n",
      "[CV] classifier__alpha=0.1111111111111111, classifier__fit_intercept=True, classifier__normalize=False \n",
      "RMSE: 2.9125353508238776\n",
      "RMSE: 2.6567132652253465\n",
      "[CV]  classifier__alpha=0.1111111111111111, classifier__fit_intercept=True, classifier__normalize=False, score=-2.9125353508238776, total=   0.0s\n",
      "[CV] classifier__alpha=0.1111111111111111, classifier__fit_intercept=True, classifier__normalize=False \n",
      "RMSE: 2.8329689375735363\n",
      "RMSE: 2.716746851303626\n",
      "[CV]  classifier__alpha=0.1111111111111111, classifier__fit_intercept=True, classifier__normalize=False, score=-2.8329689375735363, total=   0.0s\n",
      "[CV] classifier__alpha=0.1111111111111111, classifier__fit_intercept=True, classifier__normalize=False \n",
      "RMSE: 3.1700864455880993\n",
      "RMSE: 2.5426475381024165\n",
      "[CV]  classifier__alpha=0.1111111111111111, classifier__fit_intercept=True, classifier__normalize=False, score=-3.1700864455880993, total=   0.0s\n",
      "[CV] classifier__alpha=0.1111111111111111, classifier__fit_intercept=False, classifier__normalize=True \n",
      "RMSE: 2.9024681513592547\n",
      "RMSE: 2.657595420446141\n",
      "[CV]  classifier__alpha=0.1111111111111111, classifier__fit_intercept=False, classifier__normalize=True, score=-2.9024681513592547, total=   0.0s\n",
      "[CV] classifier__alpha=0.1111111111111111, classifier__fit_intercept=False, classifier__normalize=True \n",
      "RMSE: 2.7996176066297815\n",
      "RMSE: 2.7216234400983335\n",
      "[CV]  classifier__alpha=0.1111111111111111, classifier__fit_intercept=False, classifier__normalize=True, score=-2.7996176066297815, total=   0.0s\n",
      "[CV] classifier__alpha=0.1111111111111111, classifier__fit_intercept=False, classifier__normalize=True \n",
      "RMSE: 3.1134195867286674\n",
      "RMSE: 2.5606187896002393\n",
      "[CV]  classifier__alpha=0.1111111111111111, classifier__fit_intercept=False, classifier__normalize=True, score=-3.1134195867286674, total=   0.0s\n",
      "[CV] classifier__alpha=0.1111111111111111, classifier__fit_intercept=False, classifier__normalize=False \n",
      "RMSE: 2.9024681513592547\n",
      "RMSE: 2.657595420446141\n",
      "[CV]  classifier__alpha=0.1111111111111111, classifier__fit_intercept=False, classifier__normalize=False, score=-2.9024681513592547, total=   0.0s\n",
      "[CV] classifier__alpha=0.1111111111111111, classifier__fit_intercept=False, classifier__normalize=False \n",
      "RMSE: 2.7996176066297815\n",
      "RMSE: 2.7216234400983335\n",
      "[CV]  classifier__alpha=0.1111111111111111, classifier__fit_intercept=False, classifier__normalize=False, score=-2.7996176066297815, total=   0.0s\n",
      "[CV] classifier__alpha=0.1111111111111111, classifier__fit_intercept=False, classifier__normalize=False \n",
      "RMSE: 3.1134195867286674\n",
      "RMSE: 2.5606187896002393\n",
      "[CV]  classifier__alpha=0.1111111111111111, classifier__fit_intercept=False, classifier__normalize=False, score=-3.1134195867286674, total=   0.0s\n",
      "[CV] classifier__alpha=0.2222222222222222, classifier__fit_intercept=True, classifier__normalize=True \n",
      "RMSE: 2.8796441474861316\n",
      "RMSE: 2.658372634311134\n",
      "[CV]  classifier__alpha=0.2222222222222222, classifier__fit_intercept=True, classifier__normalize=True, score=-2.8796441474861316, total=   0.0s\n",
      "[CV] classifier__alpha=0.2222222222222222, classifier__fit_intercept=True, classifier__normalize=True \n",
      "RMSE: 2.76562984731759\n",
      "RMSE: 2.7198918661242892\n",
      "[CV]  classifier__alpha=0.2222222222222222, classifier__fit_intercept=True, classifier__normalize=True, score=-2.76562984731759, total=   0.0s\n",
      "[CV] classifier__alpha=0.2222222222222222, classifier__fit_intercept=True, classifier__normalize=True \n",
      "RMSE: 3.0897341071420064\n",
      "RMSE: 2.5479307818631156\n",
      "[CV]  classifier__alpha=0.2222222222222222, classifier__fit_intercept=True, classifier__normalize=True, score=-3.0897341071420064, total=   0.0s\n",
      "[CV] classifier__alpha=0.2222222222222222, classifier__fit_intercept=True, classifier__normalize=False \n",
      "RMSE: 2.911831038722529\n",
      "RMSE: 2.6567251628307673\n",
      "[CV]  classifier__alpha=0.2222222222222222, classifier__fit_intercept=True, classifier__normalize=False, score=-2.911831038722529, total=   0.0s\n",
      "[CV] classifier__alpha=0.2222222222222222, classifier__fit_intercept=True, classifier__normalize=False \n",
      "RMSE: 2.830942918543526\n",
      "RMSE: 2.7167606180181707\n",
      "[CV]  classifier__alpha=0.2222222222222222, classifier__fit_intercept=True, classifier__normalize=False, score=-2.830942918543526, total=   0.0s\n",
      "[CV] classifier__alpha=0.2222222222222222, classifier__fit_intercept=True, classifier__normalize=False \n",
      "RMSE: 3.169491072688718\n",
      "RMSE: 2.542652768120462\n",
      "[CV]  classifier__alpha=0.2222222222222222, classifier__fit_intercept=True, classifier__normalize=False, score=-3.169491072688718, total=   0.0s\n",
      "[CV] classifier__alpha=0.2222222222222222, classifier__fit_intercept=False, classifier__normalize=True \n",
      "RMSE: 2.901630500785759\n",
      "RMSE: 2.6576123571799646\n",
      "[CV]  classifier__alpha=0.2222222222222222, classifier__fit_intercept=False, classifier__normalize=True, score=-2.901630500785759, total=   0.0s\n",
      "[CV] classifier__alpha=0.2222222222222222, classifier__fit_intercept=False, classifier__normalize=True \n",
      "RMSE: 2.7975993236007235\n",
      "RMSE: 2.721649833874271\n",
      "[CV]  classifier__alpha=0.2222222222222222, classifier__fit_intercept=False, classifier__normalize=True, score=-2.7975993236007235, total=   0.0s\n",
      "[CV] classifier__alpha=0.2222222222222222, classifier__fit_intercept=False, classifier__normalize=True \n",
      "RMSE: 3.1128402146355314\n",
      "RMSE: 2.560655890290818\n",
      "[CV]  classifier__alpha=0.2222222222222222, classifier__fit_intercept=False, classifier__normalize=True, score=-3.1128402146355314, total=   0.0s\n",
      "[CV] classifier__alpha=0.2222222222222222, classifier__fit_intercept=False, classifier__normalize=False \n",
      "RMSE: 2.901630500785759\n",
      "RMSE: 2.6576123571799646\n",
      "[CV]  classifier__alpha=0.2222222222222222, classifier__fit_intercept=False, classifier__normalize=False, score=-2.901630500785759, total=   0.0s\n",
      "[CV] classifier__alpha=0.2222222222222222, classifier__fit_intercept=False, classifier__normalize=False \n",
      "RMSE: 2.7975993236007235\n",
      "RMSE: 2.721649833874271\n",
      "[CV]  classifier__alpha=0.2222222222222222, classifier__fit_intercept=False, classifier__normalize=False, score=-2.7975993236007235, total=   0.0s\n",
      "[CV] classifier__alpha=0.2222222222222222, classifier__fit_intercept=False, classifier__normalize=False \n",
      "RMSE: 3.1128402146355314\n",
      "RMSE: 2.560655890290818\n",
      "[CV]  classifier__alpha=0.2222222222222222, classifier__fit_intercept=False, classifier__normalize=False, score=-3.1128402146355314, total=   0.0s\n",
      "[CV] classifier__alpha=0.3333333333333333, classifier__fit_intercept=True, classifier__normalize=True \n",
      "RMSE: 2.868603865953744\n",
      "RMSE: 2.6597886443755487\n",
      "[CV]  classifier__alpha=0.3333333333333333, classifier__fit_intercept=True, classifier__normalize=True, score=-2.868603865953744, total=   0.0s\n",
      "[CV] classifier__alpha=0.3333333333333333, classifier__fit_intercept=True, classifier__normalize=True \n",
      "RMSE: 2.7421912370277917\n",
      "RMSE: 2.7226381931167203\n",
      "[CV]  classifier__alpha=0.3333333333333333, classifier__fit_intercept=True, classifier__normalize=True, score=-2.7421912370277917, total=   0.0s\n",
      "[CV] classifier__alpha=0.3333333333333333, classifier__fit_intercept=True, classifier__normalize=True \n",
      "RMSE: 3.061957089423993\n",
      "RMSE: 2.552477815567939\n",
      "[CV]  classifier__alpha=0.3333333333333333, classifier__fit_intercept=True, classifier__normalize=True, score=-3.061957089423993, total=   0.0s\n",
      "[CV] classifier__alpha=0.3333333333333333, classifier__fit_intercept=True, classifier__normalize=False \n",
      "RMSE: 2.9111378403314054\n",
      "RMSE: 2.6567414932997133\n",
      "[CV]  classifier__alpha=0.3333333333333333, classifier__fit_intercept=True, classifier__normalize=False, score=-2.9111378403314054, total=   0.0s\n",
      "[CV] classifier__alpha=0.3333333333333333, classifier__fit_intercept=True, classifier__normalize=False \n",
      "RMSE: 2.8290067463425768\n",
      "RMSE: 2.716780344923693\n",
      "[CV]  classifier__alpha=0.3333333333333333, classifier__fit_intercept=True, classifier__normalize=False, score=-2.8290067463425768, total=   0.0s\n",
      "[CV] classifier__alpha=0.3333333333333333, classifier__fit_intercept=True, classifier__normalize=False \n",
      "RMSE: 3.1689217542632004\n",
      "RMSE: 2.542660183506738\n",
      "[CV]  classifier__alpha=0.3333333333333333, classifier__fit_intercept=True, classifier__normalize=False, score=-3.1689217542632004, total=   0.0s\n",
      "[CV] classifier__alpha=0.3333333333333333, classifier__fit_intercept=False, classifier__normalize=True \n",
      "RMSE: 2.9008304102814924\n",
      "RMSE: 2.65763383732603\n",
      "[CV]  classifier__alpha=0.3333333333333333, classifier__fit_intercept=False, classifier__normalize=True, score=-2.9008304102814924, total=   0.0s\n",
      "[CV] classifier__alpha=0.3333333333333333, classifier__fit_intercept=False, classifier__normalize=True \n",
      "RMSE: 2.7957093335132273\n",
      "RMSE: 2.7216765920280888\n",
      "[CV]  classifier__alpha=0.3333333333333333, classifier__fit_intercept=False, classifier__normalize=True, score=-2.7957093335132273, total=   0.0s\n",
      "[CV] classifier__alpha=0.3333333333333333, classifier__fit_intercept=False, classifier__normalize=True \n",
      "RMSE: 3.112295990836393\n",
      "RMSE: 2.560670765267704\n",
      "[CV]  classifier__alpha=0.3333333333333333, classifier__fit_intercept=False, classifier__normalize=True, score=-3.112295990836393, total=   0.0s\n",
      "[CV] classifier__alpha=0.3333333333333333, classifier__fit_intercept=False, classifier__normalize=False \n",
      "RMSE: 2.9008304102814924\n",
      "RMSE: 2.65763383732603\n",
      "[CV]  classifier__alpha=0.3333333333333333, classifier__fit_intercept=False, classifier__normalize=False, score=-2.9008304102814924, total=   0.0s\n",
      "[CV] classifier__alpha=0.3333333333333333, classifier__fit_intercept=False, classifier__normalize=False \n",
      "RMSE: 2.7957093335132273\n",
      "RMSE: 2.7216765920280888\n",
      "[CV]  classifier__alpha=0.3333333333333333, classifier__fit_intercept=False, classifier__normalize=False, score=-2.7957093335132273, total=   0.0s\n",
      "[CV] classifier__alpha=0.3333333333333333, classifier__fit_intercept=False, classifier__normalize=False \n",
      "RMSE: 3.112295990836393\n",
      "RMSE: 2.560670765267704\n",
      "[CV]  classifier__alpha=0.3333333333333333, classifier__fit_intercept=False, classifier__normalize=False, score=-3.112295990836393, total=   0.0s\n",
      "[CV] classifier__alpha=0.4444444444444444, classifier__fit_intercept=True, classifier__normalize=True \n",
      "RMSE: 2.8598008998311903\n",
      "RMSE: 2.661304681717669\n",
      "[CV]  classifier__alpha=0.4444444444444444, classifier__fit_intercept=True, classifier__normalize=True, score=-2.8598008998311903, total=   0.0s\n",
      "[CV] classifier__alpha=0.4444444444444444, classifier__fit_intercept=True, classifier__normalize=True \n",
      "RMSE: 2.723443557822872\n",
      "RMSE: 2.725602584972379\n",
      "[CV]  classifier__alpha=0.4444444444444444, classifier__fit_intercept=True, classifier__normalize=True, score=-2.723443557822872, total=   0.0s\n",
      "[CV] classifier__alpha=0.4444444444444444, classifier__fit_intercept=True, classifier__normalize=True \n",
      "RMSE: 3.0394945110840488\n",
      "RMSE: 2.5573414446128835\n",
      "[CV]  classifier__alpha=0.4444444444444444, classifier__fit_intercept=True, classifier__normalize=True, score=-3.0394945110840488, total=   0.0s\n",
      "[CV] classifier__alpha=0.4444444444444444, classifier__fit_intercept=True, classifier__normalize=False \n",
      "RMSE: 2.9104537435019067\n",
      "RMSE: 2.6567607106256395\n",
      "[CV]  classifier__alpha=0.4444444444444444, classifier__fit_intercept=True, classifier__normalize=False, score=-2.9104537435019067, total=   0.0s\n",
      "[CV] classifier__alpha=0.4444444444444444, classifier__fit_intercept=True, classifier__normalize=False \n",
      "RMSE: 2.8271445580234653\n",
      "RMSE: 2.7168045581921367\n",
      "[CV]  classifier__alpha=0.4444444444444444, classifier__fit_intercept=True, classifier__normalize=False, score=-2.8271445580234653, total=   0.0s\n",
      "[CV] classifier__alpha=0.4444444444444444, classifier__fit_intercept=True, classifier__normalize=False \n",
      "RMSE: 3.168373755040995\n",
      "RMSE: 2.5426691827607555\n",
      "[CV]  classifier__alpha=0.4444444444444444, classifier__fit_intercept=True, classifier__normalize=False, score=-3.168373755040995, total=   0.0s\n",
      "[CV] classifier__alpha=0.4444444444444444, classifier__fit_intercept=False, classifier__normalize=True \n",
      "RMSE: 2.900057316785658\n",
      "RMSE: 2.657658529328689\n",
      "[CV]  classifier__alpha=0.4444444444444444, classifier__fit_intercept=False, classifier__normalize=True, score=-2.900057316785658, total=   0.0s\n",
      "[CV] classifier__alpha=0.4444444444444444, classifier__fit_intercept=False, classifier__normalize=True \n"
     ]
    },
    {
     "name": "stdout",
     "output_type": "stream",
     "text": [
      "RMSE: 2.793912984359501\n",
      "RMSE: 2.7217065192137087\n",
      "[CV]  classifier__alpha=0.4444444444444444, classifier__fit_intercept=False, classifier__normalize=True, score=-2.793912984359501, total=   0.0s\n",
      "[CV] classifier__alpha=0.4444444444444444, classifier__fit_intercept=False, classifier__normalize=True \n",
      "RMSE: 3.111766073661899\n",
      "RMSE: 2.56068089036321\n",
      "[CV]  classifier__alpha=0.4444444444444444, classifier__fit_intercept=False, classifier__normalize=True, score=-3.111766073661899, total=   0.0s\n",
      "[CV] classifier__alpha=0.4444444444444444, classifier__fit_intercept=False, classifier__normalize=False \n",
      "RMSE: 2.900057316785658\n",
      "RMSE: 2.657658529328689\n",
      "[CV]  classifier__alpha=0.4444444444444444, classifier__fit_intercept=False, classifier__normalize=False, score=-2.900057316785658, total=   0.0s\n",
      "[CV] classifier__alpha=0.4444444444444444, classifier__fit_intercept=False, classifier__normalize=False \n",
      "RMSE: 2.793912984359501\n",
      "RMSE: 2.7217065192137087\n",
      "[CV]  classifier__alpha=0.4444444444444444, classifier__fit_intercept=False, classifier__normalize=False, score=-2.793912984359501, total=   0.0s\n",
      "[CV] classifier__alpha=0.4444444444444444, classifier__fit_intercept=False, classifier__normalize=False \n",
      "RMSE: 3.111766073661899\n",
      "RMSE: 2.56068089036321\n",
      "[CV]  classifier__alpha=0.4444444444444444, classifier__fit_intercept=False, classifier__normalize=False, score=-3.111766073661899, total=   0.0s\n",
      "[CV] classifier__alpha=0.5555555555555556, classifier__fit_intercept=True, classifier__normalize=True \n",
      "RMSE: 2.8526086166335083\n",
      "RMSE: 2.6628340530118866\n",
      "[CV]  classifier__alpha=0.5555555555555556, classifier__fit_intercept=True, classifier__normalize=True, score=-2.8526086166335083, total=   0.0s\n",
      "[CV] classifier__alpha=0.5555555555555556, classifier__fit_intercept=True, classifier__normalize=True \n",
      "RMSE: 2.7081556910814695\n",
      "RMSE: 2.7286023813581646\n",
      "[CV]  classifier__alpha=0.5555555555555556, classifier__fit_intercept=True, classifier__normalize=True, score=-2.7081556910814695, total=   0.0s\n",
      "[CV] classifier__alpha=0.5555555555555556, classifier__fit_intercept=True, classifier__normalize=True \n",
      "RMSE: 3.020977766421342\n",
      "RMSE: 2.5622229646509247\n",
      "[CV]  classifier__alpha=0.5555555555555556, classifier__fit_intercept=True, classifier__normalize=True, score=-3.020977766421342, total=   0.0s\n",
      "[CV] classifier__alpha=0.5555555555555556, classifier__fit_intercept=True, classifier__normalize=False \n",
      "RMSE: 2.9097775231625764\n",
      "RMSE: 2.6567818862085053\n",
      "[CV]  classifier__alpha=0.5555555555555556, classifier__fit_intercept=True, classifier__normalize=False, score=-2.9097775231625764, total=   0.0s\n",
      "[CV] classifier__alpha=0.5555555555555556, classifier__fit_intercept=True, classifier__normalize=False \n",
      "RMSE: 2.825344762942598\n",
      "RMSE: 2.7168323378885573\n",
      "[CV]  classifier__alpha=0.5555555555555556, classifier__fit_intercept=True, classifier__normalize=False, score=-2.825344762942598, total=   0.0s\n",
      "[CV] classifier__alpha=0.5555555555555556, classifier__fit_intercept=True, classifier__normalize=False \n",
      "RMSE: 3.167843598581864\n",
      "RMSE: 2.5426793898767626\n",
      "[CV]  classifier__alpha=0.5555555555555556, classifier__fit_intercept=True, classifier__normalize=False, score=-3.167843598581864, total=   0.0s\n",
      "[CV] classifier__alpha=0.5555555555555556, classifier__fit_intercept=False, classifier__normalize=True \n",
      "RMSE: 2.8993057553050305\n",
      "RMSE: 2.657685322935425\n",
      "[CV]  classifier__alpha=0.5555555555555556, classifier__fit_intercept=False, classifier__normalize=True, score=-2.8993057553050305, total=   0.0s\n",
      "[CV] classifier__alpha=0.5555555555555556, classifier__fit_intercept=False, classifier__normalize=True \n",
      "RMSE: 2.7921923730914053\n",
      "RMSE: 2.721739344465723\n",
      "[CV]  classifier__alpha=0.5555555555555556, classifier__fit_intercept=False, classifier__normalize=True, score=-2.7921923730914053, total=   0.0s\n",
      "[CV] classifier__alpha=0.5555555555555556, classifier__fit_intercept=False, classifier__normalize=True \n",
      "RMSE: 3.1112458794345934\n",
      "RMSE: 2.5606897315141746\n",
      "[CV]  classifier__alpha=0.5555555555555556, classifier__fit_intercept=False, classifier__normalize=True, score=-3.1112458794345934, total=   0.0s\n",
      "[CV] classifier__alpha=0.5555555555555556, classifier__fit_intercept=False, classifier__normalize=False \n",
      "RMSE: 2.8993057553050305\n",
      "RMSE: 2.657685322935425\n",
      "[CV]  classifier__alpha=0.5555555555555556, classifier__fit_intercept=False, classifier__normalize=False, score=-2.8993057553050305, total=   0.0s\n",
      "[CV] classifier__alpha=0.5555555555555556, classifier__fit_intercept=False, classifier__normalize=False \n",
      "RMSE: 2.7921923730914053\n",
      "RMSE: 2.721739344465723\n",
      "[CV]  classifier__alpha=0.5555555555555556, classifier__fit_intercept=False, classifier__normalize=False, score=-2.7921923730914053, total=   0.0s\n",
      "[CV] classifier__alpha=0.5555555555555556, classifier__fit_intercept=False, classifier__normalize=False \n",
      "RMSE: 3.1112458794345934\n",
      "RMSE: 2.5606897315141746\n",
      "[CV]  classifier__alpha=0.5555555555555556, classifier__fit_intercept=False, classifier__normalize=False, score=-3.1112458794345934, total=   0.0s\n",
      "[CV] classifier__alpha=0.6666666666666666, classifier__fit_intercept=True, classifier__normalize=True \n",
      "RMSE: 2.846617370243275\n",
      "RMSE: 2.6643319226853426\n",
      "[CV]  classifier__alpha=0.6666666666666666, classifier__fit_intercept=True, classifier__normalize=True, score=-2.846617370243275, total=   0.0s\n",
      "[CV] classifier__alpha=0.6666666666666666, classifier__fit_intercept=True, classifier__normalize=True \n",
      "RMSE: 2.695484190952509\n",
      "RMSE: 2.731540361510938\n",
      "[CV]  classifier__alpha=0.6666666666666666, classifier__fit_intercept=True, classifier__normalize=True, score=-2.695484190952509, total=   0.0s\n",
      "[CV] classifier__alpha=0.6666666666666666, classifier__fit_intercept=True, classifier__normalize=True \n",
      "RMSE: 3.0054667700945426\n",
      "RMSE: 2.5669685887371414\n",
      "[CV]  classifier__alpha=0.6666666666666666, classifier__fit_intercept=True, classifier__normalize=True, score=-3.0054667700945426, total=   0.0s\n",
      "[CV] classifier__alpha=0.6666666666666666, classifier__fit_intercept=True, classifier__normalize=False \n",
      "RMSE: 2.909108415090363\n",
      "RMSE: 2.6568044539505333\n",
      "[CV]  classifier__alpha=0.6666666666666666, classifier__fit_intercept=True, classifier__normalize=False, score=-2.909108415090363, total=   0.0s\n",
      "[CV] classifier__alpha=0.6666666666666666, classifier__fit_intercept=True, classifier__normalize=False \n",
      "RMSE: 2.823598674567103\n",
      "RMSE: 2.7168630946403014\n",
      "[CV]  classifier__alpha=0.6666666666666666, classifier__fit_intercept=True, classifier__normalize=False, score=-2.823598674567103, total=   0.0s\n",
      "[CV] classifier__alpha=0.6666666666666666, classifier__fit_intercept=True, classifier__normalize=False \n",
      "RMSE: 3.1673286716737548\n",
      "RMSE: 2.5426905653134044\n",
      "[CV]  classifier__alpha=0.6666666666666666, classifier__fit_intercept=True, classifier__normalize=False, score=-3.1673286716737548, total=   0.0s\n",
      "[CV] classifier__alpha=0.6666666666666666, classifier__fit_intercept=False, classifier__normalize=True \n",
      "RMSE: 2.8985721240452835\n",
      "RMSE: 2.6577134980150525\n",
      "[CV]  classifier__alpha=0.6666666666666666, classifier__fit_intercept=False, classifier__normalize=True, score=-2.8985721240452835, total=   0.0s\n",
      "[CV] classifier__alpha=0.6666666666666666, classifier__fit_intercept=False, classifier__normalize=True \n",
      "RMSE: 2.790535279853166\n",
      "RMSE: 2.7217746122697157\n",
      "[CV]  classifier__alpha=0.6666666666666666, classifier__fit_intercept=False, classifier__normalize=True, score=-2.790535279853166, total=   0.0s\n",
      "[CV] classifier__alpha=0.6666666666666666, classifier__fit_intercept=False, classifier__normalize=True \n",
      "RMSE: 3.1107336275714985\n",
      "RMSE: 2.560698421284801\n",
      "[CV]  classifier__alpha=0.6666666666666666, classifier__fit_intercept=False, classifier__normalize=True, score=-3.1107336275714985, total=   0.0s\n",
      "[CV] classifier__alpha=0.6666666666666666, classifier__fit_intercept=False, classifier__normalize=False \n",
      "RMSE: 2.8985721240452835\n",
      "RMSE: 2.6577134980150525\n",
      "[CV]  classifier__alpha=0.6666666666666666, classifier__fit_intercept=False, classifier__normalize=False, score=-2.8985721240452835, total=   0.0s\n",
      "[CV] classifier__alpha=0.6666666666666666, classifier__fit_intercept=False, classifier__normalize=False \n",
      "RMSE: 2.790535279853166\n",
      "RMSE: 2.7217746122697157\n",
      "[CV]  classifier__alpha=0.6666666666666666, classifier__fit_intercept=False, classifier__normalize=False, score=-2.790535279853166, total=   0.0s\n",
      "[CV] classifier__alpha=0.6666666666666666, classifier__fit_intercept=False, classifier__normalize=False \n",
      "RMSE: 3.1107336275714985\n",
      "RMSE: 2.560698421284801\n",
      "[CV]  classifier__alpha=0.6666666666666666, classifier__fit_intercept=False, classifier__normalize=False, score=-3.1107336275714985, total=   0.0s\n",
      "[CV] classifier__alpha=0.7777777777777777, classifier__fit_intercept=True, classifier__normalize=True \n",
      "RMSE: 2.841547137780172\n",
      "RMSE: 2.665775462170842\n",
      "[CV]  classifier__alpha=0.7777777777777777, classifier__fit_intercept=True, classifier__normalize=True, score=-2.841547137780172, total=   0.0s\n"
     ]
    },
    {
     "name": "stdout",
     "output_type": "stream",
     "text": [
      "[CV] classifier__alpha=0.7777777777777777, classifier__fit_intercept=True, classifier__normalize=True \n",
      "RMSE: 2.6848336663180152\n",
      "RMSE: 2.734366251962586\n",
      "[CV]  classifier__alpha=0.7777777777777777, classifier__fit_intercept=True, classifier__normalize=True, score=-2.6848336663180152, total=   0.0s\n",
      "[CV] classifier__alpha=0.7777777777777777, classifier__fit_intercept=True, classifier__normalize=True \n",
      "RMSE: 2.9922953321651615\n",
      "RMSE: 2.571502578658692\n",
      "[CV]  classifier__alpha=0.7777777777777777, classifier__fit_intercept=True, classifier__normalize=True, score=-2.9922953321651615, total=   0.0s\n",
      "[CV] classifier__alpha=0.7777777777777777, classifier__fit_intercept=True, classifier__normalize=False \n",
      "RMSE: 2.908445931427937\n",
      "RMSE: 2.656828065792109\n",
      "[CV]  classifier__alpha=0.7777777777777777, classifier__fit_intercept=True, classifier__normalize=False, score=-2.908445931427937, total=   0.0s\n",
      "[CV] classifier__alpha=0.7777777777777777, classifier__fit_intercept=True, classifier__normalize=False \n",
      "RMSE: 2.821899636047818\n",
      "RMSE: 2.7168964412273238\n",
      "[CV]  classifier__alpha=0.7777777777777777, classifier__fit_intercept=True, classifier__normalize=False, score=-2.821899636047818, total=   0.0s\n",
      "[CV] classifier__alpha=0.7777777777777777, classifier__fit_intercept=True, classifier__normalize=False \n",
      "RMSE: 3.1668269688568547\n",
      "RMSE: 2.542702554003801\n",
      "[CV]  classifier__alpha=0.7777777777777777, classifier__fit_intercept=True, classifier__normalize=False, score=-3.1668269688568547, total=   0.0s\n",
      "[CV] classifier__alpha=0.7777777777777777, classifier__fit_intercept=False, classifier__normalize=True \n",
      "RMSE: 2.89785387130875\n",
      "RMSE: 2.657742603289269\n",
      "[CV]  classifier__alpha=0.7777777777777777, classifier__fit_intercept=False, classifier__normalize=True, score=-2.89785387130875, total=   0.0s\n",
      "[CV] classifier__alpha=0.7777777777777777, classifier__fit_intercept=False, classifier__normalize=True \n",
      "RMSE: 2.7889326884000725\n",
      "RMSE: 2.721811963067605\n",
      "[CV]  classifier__alpha=0.7777777777777777, classifier__fit_intercept=False, classifier__normalize=True, score=-2.7889326884000725, total=   0.0s\n",
      "[CV] classifier__alpha=0.7777777777777777, classifier__fit_intercept=False, classifier__normalize=True \n",
      "RMSE: 3.110228389941229\n",
      "RMSE: 2.5607074284258537\n",
      "[CV]  classifier__alpha=0.7777777777777777, classifier__fit_intercept=False, classifier__normalize=True, score=-3.110228389941229, total=   0.0s\n",
      "[CV] classifier__alpha=0.7777777777777777, classifier__fit_intercept=False, classifier__normalize=False \n",
      "RMSE: 2.89785387130875\n",
      "RMSE: 2.657742603289269\n",
      "[CV]  classifier__alpha=0.7777777777777777, classifier__fit_intercept=False, classifier__normalize=False, score=-2.89785387130875, total=   0.0s\n",
      "[CV] classifier__alpha=0.7777777777777777, classifier__fit_intercept=False, classifier__normalize=False \n",
      "RMSE: 2.7889326884000725\n",
      "RMSE: 2.721811963067605\n",
      "[CV]  classifier__alpha=0.7777777777777777, classifier__fit_intercept=False, classifier__normalize=False, score=-2.7889326884000725, total=   0.0s\n",
      "[CV] classifier__alpha=0.7777777777777777, classifier__fit_intercept=False, classifier__normalize=False \n",
      "RMSE: 3.110228389941229\n",
      "RMSE: 2.5607074284258537\n",
      "[CV]  classifier__alpha=0.7777777777777777, classifier__fit_intercept=False, classifier__normalize=False, score=-3.110228389941229, total=   0.0s\n",
      "[CV] classifier__alpha=0.8888888888888888, classifier__fit_intercept=True, classifier__normalize=True \n",
      "RMSE: 2.837199520504492\n",
      "RMSE: 2.6671538640160852\n",
      "[CV]  classifier__alpha=0.8888888888888888, classifier__fit_intercept=True, classifier__normalize=True, score=-2.837199520504492, total=   0.0s\n",
      "[CV] classifier__alpha=0.8888888888888888, classifier__fit_intercept=True, classifier__normalize=True \n",
      "RMSE: 2.675772975620754\n",
      "RMSE: 2.737056129715998\n",
      "[CV]  classifier__alpha=0.8888888888888888, classifier__fit_intercept=True, classifier__normalize=True, score=-2.675772975620754, total=   0.0s\n",
      "[CV] classifier__alpha=0.8888888888888888, classifier__fit_intercept=True, classifier__normalize=True \n",
      "RMSE: 2.980978763812409\n",
      "RMSE: 2.575792019851409\n",
      "[CV]  classifier__alpha=0.8888888888888888, classifier__fit_intercept=True, classifier__normalize=True, score=-2.980978763812409, total=   0.0s\n",
      "[CV] classifier__alpha=0.8888888888888888, classifier__fit_intercept=True, classifier__normalize=False \n",
      "RMSE: 2.90778975313538\n",
      "RMSE: 2.65685250728504\n",
      "[CV]  classifier__alpha=0.8888888888888888, classifier__fit_intercept=True, classifier__normalize=False, score=-2.90778975313538, total=   0.0s\n",
      "[CV] classifier__alpha=0.8888888888888888, classifier__fit_intercept=True, classifier__normalize=False \n",
      "RMSE: 2.820242443799293\n",
      "RMSE: 2.716932116534943\n",
      "[CV]  classifier__alpha=0.8888888888888888, classifier__fit_intercept=True, classifier__normalize=False, score=-2.820242443799293, total=   0.0s\n",
      "[CV] classifier__alpha=0.8888888888888888, classifier__fit_intercept=True, classifier__normalize=False \n",
      "RMSE: 3.1663369225045717\n",
      "RMSE: 2.5427152541309845\n",
      "[CV]  classifier__alpha=0.8888888888888888, classifier__fit_intercept=True, classifier__normalize=False, score=-3.1663369225045717, total=   0.0s\n",
      "[CV] classifier__alpha=0.8888888888888888, classifier__fit_intercept=False, classifier__normalize=True \n",
      "RMSE: 2.8971491186294127\n",
      "RMSE: 2.6577723603238077\n",
      "[CV]  classifier__alpha=0.8888888888888888, classifier__fit_intercept=False, classifier__normalize=True, score=-2.8971491186294127, total=   0.0s\n",
      "[CV] classifier__alpha=0.8888888888888888, classifier__fit_intercept=False, classifier__normalize=True \n",
      "RMSE: 2.7873776936684482\n",
      "RMSE: 2.721851142556846\n",
      "[CV]  classifier__alpha=0.8888888888888888, classifier__fit_intercept=False, classifier__normalize=True, score=-2.7873776936684482, total=   0.0s\n",
      "[CV] classifier__alpha=0.8888888888888888, classifier__fit_intercept=False, classifier__normalize=True \n",
      "RMSE: 3.1097295885961382\n",
      "RMSE: 2.5607169744566094\n",
      "[CV]  classifier__alpha=0.8888888888888888, classifier__fit_intercept=False, classifier__normalize=True, score=-3.1097295885961382, total=   0.0s\n",
      "[CV] classifier__alpha=0.8888888888888888, classifier__fit_intercept=False, classifier__normalize=False \n",
      "RMSE: 2.8971491186294127\n",
      "RMSE: 2.6577723603238077\n",
      "[CV]  classifier__alpha=0.8888888888888888, classifier__fit_intercept=False, classifier__normalize=False, score=-2.8971491186294127, total=   0.0s\n",
      "[CV] classifier__alpha=0.8888888888888888, classifier__fit_intercept=False, classifier__normalize=False \n",
      "RMSE: 2.7873776936684482\n",
      "RMSE: 2.721851142556846\n",
      "[CV]  classifier__alpha=0.8888888888888888, classifier__fit_intercept=False, classifier__normalize=False, score=-2.7873776936684482, total=   0.0s\n",
      "[CV] classifier__alpha=0.8888888888888888, classifier__fit_intercept=False, classifier__normalize=False \n",
      "RMSE: 3.1097295885961382\n",
      "RMSE: 2.5607169744566094\n",
      "[CV]  classifier__alpha=0.8888888888888888, classifier__fit_intercept=False, classifier__normalize=False, score=-3.1097295885961382, total=   0.0s\n",
      "[CV] classifier__alpha=1.0, classifier__fit_intercept=True, classifier__normalize=True \n",
      "RMSE: 2.8334297584498795\n",
      "RMSE: 2.6684630385159798\n",
      "[CV]  classifier__alpha=1.0, classifier__fit_intercept=True, classifier__normalize=True, score=-2.8334297584498795, total=   0.0s\n",
      "[CV] classifier__alpha=1.0, classifier__fit_intercept=True, classifier__normalize=True \n",
      "RMSE: 2.6679829680019678\n",
      "RMSE: 2.7396010185142563\n",
      "[CV]  classifier__alpha=1.0, classifier__fit_intercept=True, classifier__normalize=True, score=-2.6679829680019678, total=   0.0s\n",
      "[CV] classifier__alpha=1.0, classifier__fit_intercept=True, classifier__normalize=True \n",
      "RMSE: 2.9711563820025506\n",
      "RMSE: 2.579827638398336\n",
      "[CV]  classifier__alpha=1.0, classifier__fit_intercept=True, classifier__normalize=True, score=-2.9711563820025506, total=   0.0s\n",
      "[CV] classifier__alpha=1.0, classifier__fit_intercept=True, classifier__normalize=False \n",
      "RMSE: 2.907139665684522\n",
      "RMSE: 2.656877646969941\n",
      "[CV]  classifier__alpha=1.0, classifier__fit_intercept=True, classifier__normalize=False, score=-2.907139665684522, total=   0.0s\n",
      "[CV] classifier__alpha=1.0, classifier__fit_intercept=True, classifier__normalize=False \n",
      "RMSE: 2.818622957142876\n",
      "RMSE: 2.7169699393802245\n",
      "[CV]  classifier__alpha=1.0, classifier__fit_intercept=True, classifier__normalize=False, score=-2.818622957142876, total=   0.0s\n",
      "[CV] classifier__alpha=1.0, classifier__fit_intercept=True, classifier__normalize=False \n",
      "RMSE: 3.1658572868599326\n",
      "RMSE: 2.54272859792347\n",
      "[CV]  classifier__alpha=1.0, classifier__fit_intercept=True, classifier__normalize=False, score=-3.1658572868599326, total=   0.0s\n",
      "[CV] classifier__alpha=1.0, classifier__fit_intercept=False, classifier__normalize=True \n",
      "RMSE: 2.896456444627541\n",
      "RMSE: 2.65780260066349\n",
      "[CV]  classifier__alpha=1.0, classifier__fit_intercept=False, classifier__normalize=True, score=-2.896456444627541, total=   0.0s\n",
      "[CV] classifier__alpha=1.0, classifier__fit_intercept=False, classifier__normalize=True \n",
      "RMSE: 2.7858648761359284\n",
      "RMSE: 2.7218919758951476\n",
      "[CV]  classifier__alpha=1.0, classifier__fit_intercept=False, classifier__normalize=True, score=-2.7858648761359284, total=   0.0s\n",
      "[CV] classifier__alpha=1.0, classifier__fit_intercept=False, classifier__normalize=True \n",
      "RMSE: 3.109236820129096\n",
      "RMSE: 2.5607271719981948\n",
      "[CV]  classifier__alpha=1.0, classifier__fit_intercept=False, classifier__normalize=True, score=-3.109236820129096, total=   0.0s\n",
      "[CV] classifier__alpha=1.0, classifier__fit_intercept=False, classifier__normalize=False \n",
      "RMSE: 2.896456444627541\n",
      "RMSE: 2.65780260066349\n",
      "[CV]  classifier__alpha=1.0, classifier__fit_intercept=False, classifier__normalize=False, score=-2.896456444627541, total=   0.0s\n",
      "[CV] classifier__alpha=1.0, classifier__fit_intercept=False, classifier__normalize=False \n",
      "RMSE: 2.7858648761359284\n",
      "RMSE: 2.7218919758951476\n",
      "[CV]  classifier__alpha=1.0, classifier__fit_intercept=False, classifier__normalize=False, score=-2.7858648761359284, total=   0.0s\n",
      "[CV] classifier__alpha=1.0, classifier__fit_intercept=False, classifier__normalize=False \n",
      "RMSE: 3.109236820129096\n",
      "RMSE: 2.5607271719981948\n",
      "[CV]  classifier__alpha=1.0, classifier__fit_intercept=False, classifier__normalize=False, score=-3.109236820129096, total=   0.0s\n"
     ]
    },
    {
     "name": "stderr",
     "output_type": "stream",
     "text": [
      "[Parallel(n_jobs=1)]: Done 120 out of 120 | elapsed:    1.8s finished\n"
     ]
    },
    {
     "data": {
      "text/plain": [
       "GridSearchCV(cv=3, error_score='raise',\n",
       "       estimator=Pipeline(memory=None,\n",
       "     steps=[('mapper', DataFrameMapper(default=None, df_out=True,\n",
       "        features=[('date of last vet visit', <__main__.DateEncoder object at 0x1c18f76978>), ('breed', LabelBinarizer(neg_label=0, pos_label=1, sparse_output=False))],\n",
       "        input_df=True, sparse=False)), ('classifier', Ridge(alpha=1.0, copy_X=True, fit_intercept=True, max_iter=None,\n",
       "   normalize=False, random_state=None, solver='auto', tol=0.001))]),\n",
       "       fit_params=None, iid=True, n_jobs=1,\n",
       "       param_grid=[{'classifier__alpha': array([0.     , 0.11111, 0.22222, 0.33333, 0.44444, 0.55556, 0.66667,\n",
       "       0.77778, 0.88889, 1.     ]), 'classifier__fit_intercept': [True, False], 'classifier__normalize': [True, False]}],\n",
       "       pre_dispatch='2*n_jobs', refit=True, return_train_score=True,\n",
       "       scoring=make_scorer(RMSE, greater_is_better=False), verbose=3)"
      ]
     },
     "execution_count": 58,
     "metadata": {},
     "output_type": "execute_result"
    }
   ],
   "source": [
    "categaries = cats_df['breed'].unique()\n",
    "features = cats_df.columns.difference(['age at death'])\n",
    "label = 'age at death'\n",
    "\n",
    "X_ = cats_df[features]\n",
    "y_ = cats_df[label]\n",
    "\n",
    "#Splitting the data into 80% train and 20% test\n",
    "X_train, X_test, y_train, y_test = train_test_split(cats_df[features], cats_df[label], test_size=0.3, random_state=0)\n",
    "\n",
    "def RMSE(y_true, y_pred):\n",
    "    rmse = sqrt( mean_squared_error(y_true, y_pred) )\n",
    "    print('RMSE: {}'.format(rmse))\n",
    "    return rmse\n",
    "\n",
    "def rmse():\n",
    "    return make_scorer(RMSE, greater_is_better=False)\n",
    "\n",
    "class DateEncoder(TransformerMixin):\n",
    "    def fit(self, X, y=None):\n",
    "        return self\n",
    "\n",
    "    def transform(self, X):\n",
    "        dt = X.dt\n",
    "        return pd.concat([dt.year, dt.month, dt.dayofweek, dt.hour], axis=1)\n",
    "\n",
    "\n",
    "feature_mapper = DataFrameMapper([\n",
    "     ('date of last vet visit', DateEncoder()),\n",
    "     ('breed', LabelBinarizer())\n",
    "     ],\n",
    "     input_df=True, df_out=True, default=None)\n",
    "\n",
    "\n",
    "ridge_pipeline = Pipeline([\n",
    "    ('mapper', feature_mapper),\n",
    "    ('classifier', Ridge()) ])\n",
    "\n",
    "lasso_pipeline = Pipeline([\n",
    "    ('mapper', feature_mapper),\n",
    "    ('classifier', Lasso()) ])\n",
    "\n",
    "\n",
    "params_grid = [{'classifier__alpha': np.linspace(0, 1, 10), 'classifier__fit_intercept':[True,False], 'classifier__normalize':[True, False]}]\n",
    "\n",
    "gs = GridSearchCV(ridge_pipeline, params_grid, cv=3, verbose=3, scoring=rmse(),n_jobs=1)\n",
    "\n",
    "#gs = GridSearchCV(lasso_pipeline, params_grid, cv=3, verbose=3, scoring=rmse(),n_jobs=1) #Lasso regression\n",
    "\n",
    "\n",
    "gs.fit(X_train, y_train)"
   ]
  },
  {
   "cell_type": "code",
   "execution_count": 57,
   "metadata": {},
   "outputs": [
    {
     "data": {
      "text/html": [
       "<div>\n",
       "<style scoped>\n",
       "    .dataframe tbody tr th:only-of-type {\n",
       "        vertical-align: middle;\n",
       "    }\n",
       "\n",
       "    .dataframe tbody tr th {\n",
       "        vertical-align: top;\n",
       "    }\n",
       "\n",
       "    .dataframe thead th {\n",
       "        text-align: right;\n",
       "    }\n",
       "</style>\n",
       "<table border=\"1\" class=\"dataframe\">\n",
       "  <thead>\n",
       "    <tr style=\"text-align: right;\">\n",
       "      <th></th>\n",
       "      <th>date of last vet visit_0</th>\n",
       "      <th>date of last vet visit_1</th>\n",
       "      <th>date of last vet visit_2</th>\n",
       "      <th>date of last vet visit_3</th>\n",
       "      <th>breed_Maine Coon</th>\n",
       "      <th>breed_Rex</th>\n",
       "      <th>breed_Siamese</th>\n",
       "      <th>hair length</th>\n",
       "      <th>height</th>\n",
       "      <th>number of vet visits</th>\n",
       "      <th>weight</th>\n",
       "    </tr>\n",
       "    <tr>\n",
       "      <th>seq</th>\n",
       "      <th></th>\n",
       "      <th></th>\n",
       "      <th></th>\n",
       "      <th></th>\n",
       "      <th></th>\n",
       "      <th></th>\n",
       "      <th></th>\n",
       "      <th></th>\n",
       "      <th></th>\n",
       "      <th></th>\n",
       "      <th></th>\n",
       "    </tr>\n",
       "  </thead>\n",
       "  <tbody>\n",
       "    <tr>\n",
       "      <th>282</th>\n",
       "      <td>2013.0</td>\n",
       "      <td>3.0</td>\n",
       "      <td>1.0</td>\n",
       "      <td>19.0</td>\n",
       "      <td>1.0</td>\n",
       "      <td>0.0</td>\n",
       "      <td>0.0</td>\n",
       "      <td>0.986487</td>\n",
       "      <td>26.111540</td>\n",
       "      <td>7.0</td>\n",
       "      <td>5.0</td>\n",
       "    </tr>\n",
       "    <tr>\n",
       "      <th>12</th>\n",
       "      <td>2006.0</td>\n",
       "      <td>1.0</td>\n",
       "      <td>2.0</td>\n",
       "      <td>9.0</td>\n",
       "      <td>0.0</td>\n",
       "      <td>1.0</td>\n",
       "      <td>0.0</td>\n",
       "      <td>0.972126</td>\n",
       "      <td>25.700163</td>\n",
       "      <td>12.0</td>\n",
       "      <td>5.0</td>\n",
       "    </tr>\n",
       "    <tr>\n",
       "      <th>119</th>\n",
       "      <td>2017.0</td>\n",
       "      <td>4.0</td>\n",
       "      <td>5.0</td>\n",
       "      <td>19.0</td>\n",
       "      <td>1.0</td>\n",
       "      <td>0.0</td>\n",
       "      <td>0.0</td>\n",
       "      <td>1.178993</td>\n",
       "      <td>21.826497</td>\n",
       "      <td>5.0</td>\n",
       "      <td>8.0</td>\n",
       "    </tr>\n",
       "    <tr>\n",
       "      <th>86</th>\n",
       "      <td>2011.0</td>\n",
       "      <td>10.0</td>\n",
       "      <td>0.0</td>\n",
       "      <td>16.0</td>\n",
       "      <td>1.0</td>\n",
       "      <td>0.0</td>\n",
       "      <td>0.0</td>\n",
       "      <td>0.838882</td>\n",
       "      <td>17.971523</td>\n",
       "      <td>7.0</td>\n",
       "      <td>3.0</td>\n",
       "    </tr>\n",
       "    <tr>\n",
       "      <th>266</th>\n",
       "      <td>2007.0</td>\n",
       "      <td>9.0</td>\n",
       "      <td>4.0</td>\n",
       "      <td>10.0</td>\n",
       "      <td>0.0</td>\n",
       "      <td>0.0</td>\n",
       "      <td>1.0</td>\n",
       "      <td>1.016724</td>\n",
       "      <td>21.740494</td>\n",
       "      <td>4.0</td>\n",
       "      <td>6.0</td>\n",
       "    </tr>\n",
       "  </tbody>\n",
       "</table>\n",
       "</div>"
      ],
      "text/plain": [
       "     date of last vet visit_0  date of last vet visit_1  \\\n",
       "seq                                                       \n",
       "282                    2013.0                       3.0   \n",
       "12                     2006.0                       1.0   \n",
       "119                    2017.0                       4.0   \n",
       "86                     2011.0                      10.0   \n",
       "266                    2007.0                       9.0   \n",
       "\n",
       "     date of last vet visit_2  date of last vet visit_3  breed_Maine Coon  \\\n",
       "seq                                                                         \n",
       "282                       1.0                      19.0               1.0   \n",
       "12                        2.0                       9.0               0.0   \n",
       "119                       5.0                      19.0               1.0   \n",
       "86                        0.0                      16.0               1.0   \n",
       "266                       4.0                      10.0               0.0   \n",
       "\n",
       "     breed_Rex  breed_Siamese  hair length     height  number of vet visits  \\\n",
       "seq                                                                           \n",
       "282        0.0            0.0     0.986487  26.111540                   7.0   \n",
       "12         1.0            0.0     0.972126  25.700163                  12.0   \n",
       "119        0.0            0.0     1.178993  21.826497                   5.0   \n",
       "86         0.0            0.0     0.838882  17.971523                   7.0   \n",
       "266        0.0            1.0     1.016724  21.740494                   4.0   \n",
       "\n",
       "     weight  \n",
       "seq          \n",
       "282     5.0  \n",
       "12      5.0  \n",
       "119     8.0  \n",
       "86      3.0  \n",
       "266     6.0  "
      ]
     },
     "execution_count": 57,
     "metadata": {},
     "output_type": "execute_result"
    }
   ],
   "source": [
    "#Testing the feature mapper\n",
    "feature_mapper.fit_transform(X_test[0:5])"
   ]
  },
  {
   "cell_type": "code",
   "execution_count": 59,
   "metadata": {},
   "outputs": [
    {
     "name": "stdout",
     "output_type": "stream",
     "text": [
      "Best RMSE score...\n",
      "2.824236845959111\n",
      "\n",
      "Best parameters set found on X_train\n",
      "\n",
      "{'classifier__alpha': 1.0, 'classifier__fit_intercept': True, 'classifier__normalize': True}\n",
      "\n",
      "Coefficients of the best model:\n",
      "date of last vet visit_0 : -0.0008636892944138499\n",
      "date of last vet visit_1 : 0.02161094917913603\n",
      "date of last vet visit_2 : 0.05090389896747081\n",
      "date of last vet visit_3 : -0.011812681285601707\n",
      "breed_Javanese : -0.011583013859772921\n",
      "breed_Maine Coon : -0.0948173796116327\n",
      "breed_Manx : 0.11327989582580442\n",
      "breed_Rex : 0.18845250002170144\n",
      "breed_Siamese : -0.21619432700624666\n",
      "hair length : 0.13605121509145415\n",
      "height : -0.010166244206702292\n",
      "number of vet visits : 0.018302784198755234\n",
      "weight : -0.001223478376621441\n",
      "\n",
      "Intercept of the best model:\n",
      "10.711567872372099\n",
      "\n",
      "Sequared R for the best model:\n",
      "-151.9198431600173\n",
      "Root Mean Square Error on the training data:\n",
      "2.7045577644580403\n"
     ]
    }
   ],
   "source": [
    "print(\"Best RMSE score...\")\n",
    "print(-1*gs.best_score_)\n",
    "print()\n",
    "print(\"Best parameters set found on X_train\")\n",
    "print()\n",
    "print(gs.best_params_)\n",
    "print()\n",
    "print('Coefficients of the best model:')\n",
    "for f, c in zip(gs.best_estimator_.named_steps['mapper'].transformed_names_,\n",
    "           gs.best_estimator_.named_steps['classifier'].coef_):\n",
    "    print(f,':',c)\n",
    "\n",
    "print()\n",
    "print('Intercept of the best model:')\n",
    "print(gs.best_estimator_.named_steps['classifier'].intercept_)\n",
    "print()\n",
    "\n",
    "#Calculating R^2\n",
    "y_pred = gs.predict(X_train)\n",
    "print('Sequared R for the best model:')\n",
    "print(r2_score(y_pred, y_train))\n",
    "\n",
    "#Calculating the RMSE\n",
    "print(\"Root Mean Square Error on the training data:\")\n",
    "print(sqrt( mean_squared_error(y_pred, y_train)))"
   ]
  },
  {
   "cell_type": "markdown",
   "metadata": {},
   "source": [
    "The best estimator has an error of 2.7 years, alpha value of 1.0 with intercept and normalization. Unfortunately, R^2 is too low. It turns out that date of last vet visit_0(year) and weight have the lowest coefficient values, while surprisingly hair length has high value compared with other features."
   ]
  },
  {
   "cell_type": "markdown",
   "metadata": {},
   "source": [
    "## The residual plot"
   ]
  },
  {
   "cell_type": "markdown",
   "metadata": {},
   "source": [
    "It is important to validate the model to make sure the assumptions of the linear regression are not violated. This is done using the residual plot. We need to make sure that the error does not follow a certain pattern, i.e. it is random, and should be normal distributed arount"
   ]
  },
  {
   "cell_type": "code",
   "execution_count": 49,
   "metadata": {},
   "outputs": [],
   "source": [
    "errors = y_pred - y_train"
   ]
  },
  {
   "cell_type": "code",
   "execution_count": 54,
   "metadata": {},
   "outputs": [
    {
     "name": "stdout",
     "output_type": "stream",
     "text": [
      "Scatter plot distribution of the error\n"
     ]
    },
    {
     "data": {
      "text/plain": [
       "<matplotlib.text.Text at 0x1c190a89b0>"
      ]
     },
     "execution_count": 54,
     "metadata": {},
     "output_type": "execute_result"
    },
    {
     "data": {
      "image/png": "[encoded data removed]",
      "text/plain": [
       "<matplotlib.figure.Figure at 0x1c15a7a0f0>"
      ]
     },
     "metadata": {},
     "output_type": "display_data"
    }
   ],
   "source": [
    "print('Scatter plot distribution of the error')\n",
    "sb.regplot(y_pred, errors, fit_reg=False)\n",
    "plt.xlabel('y_pred')\n",
    "plt.ylabel('errors')"
   ]
  },
  {
   "cell_type": "code",
   "execution_count": 55,
   "metadata": {},
   "outputs": [
    {
     "name": "stdout",
     "output_type": "stream",
     "text": [
      "Density distribution of the error\n"
     ]
    },
    {
     "data": {
      "text/plain": [
       "<matplotlib.text.Text at 0x1c190bca58>"
      ]
     },
     "execution_count": 55,
     "metadata": {},
     "output_type": "execute_result"
    },
    {
     "data": {
      "image/png": "[encoded data removed]",
      "text/plain": [
       "<matplotlib.figure.Figure at 0x1c1902e0b8>"
      ]
     },
     "metadata": {},
     "output_type": "display_data"
    }
   ],
   "source": [
    "print('Density distribution of the error')\n",
    "sb.distplot(errors)\n",
    "plt.xlabel('error')"
   ]
  },
  {
   "cell_type": "code",
   "execution_count": 51,
   "metadata": {},
   "outputs": [
    {
     "data": {
      "text/plain": [
       "<matplotlib.text.Text at 0x10a551da0>"
      ]
     },
     "execution_count": 51,
     "metadata": {},
     "output_type": "execute_result"
    },
    {
     "data": {
      "image/png": "[encoded data removed]",
      "text/plain": [
       "<matplotlib.figure.Figure at 0x10a4db2e8>"
      ]
     },
     "metadata": {},
     "output_type": "display_data"
    }
   ],
   "source": [
    "sb.regplot(y_train, y_pred, fit_reg=False)\n",
    "plt.xlabel('y_train')\n",
    "plt.ylabel('y_pred')"
   ]
  },
  {
   "cell_type": "markdown",
   "metadata": {},
   "source": [
    "## Testing the model on Unseen Data"
   ]
  },
  {
   "cell_type": "code",
   "execution_count": 170,
   "metadata": {},
   "outputs": [
    {
     "name": "stdout",
     "output_type": "stream",
     "text": [
      "Root Mean Sequare Error on the Test Data:\n",
      "2.746423185583662\n"
     ]
    }
   ],
   "source": [
    "y_test_pred = model.predict(X_test)\n",
    "print('Root Mean Sequare Error on the Test Data:')\n",
    "print(np.sqrt(mean_squared_error(y_test_pred, y_test)))"
   ]
  },
  {
   "cell_type": "markdown",
   "metadata": {},
   "source": [
    "## Discussing the results"
   ]
  },
  {
   "cell_type": "markdown",
   "metadata": {},
   "source": [
    "One major issue of the model generated is the very low value of R^2 which is -222. \n",
    "This value indicates that the Ridge linear model is not fitting the data well. I would think the reason is \n",
    "due to the features, the features have weak relationship with the response variable. In fact, I have tried few other \n",
    "models including polynomial regression and no better results obtained. Therefore, we need to get better features."
   ]
  },
  {
   "cell_type": "markdown",
   "metadata": {},
   "source": [
    "## Productionize the Model"
   ]
  },
  {
   "cell_type": "markdown",
   "metadata": {},
   "source": [
    "The whole model will be saved as a pickle file that easily can be called through REST API"
   ]
  },
  {
   "cell_type": "code",
   "execution_count": 61,
   "metadata": {},
   "outputs": [],
   "source": [
    "import dill\n",
    "\n",
    "with open('./server/model.pk', 'wb') as f:\n",
    "    dill.dump(gs, f)"
   ]
  },
  {
   "cell_type": "markdown",
   "metadata": {},
   "source": [
    "### Accessing the trained model through Flask"
   ]
  },
  {
   "cell_type": "code",
   "execution_count": null,
   "metadata": {
    "collapsed": true
   },
   "outputs": [],
   "source": [
    "In the attached folder which is called (server), there is a file called (run_model.py), execute this file \n",
    "using (python -m run_model) in one terminal window. The file will create a server that listens on port 5000. The\n",
    "server will load the regression model waiting for requests to predict the life expectancy.\n",
    "\n",
    "From another terminal execute the following command\n",
    "\n",
    "curl -H \"Content-Type: application/json\" -X POST --data @post.json http://localhost:5000/\n",
    "\n"
   ]
  }
 ],
 "metadata": {
  "kernelspec": {
   "display_name": "python3.6",
   "language": "python",
   "name": "python3.6"
  },
  "language_info": {
   "codemirror_mode": {
    "name": "ipython",
    "version": 3
   },
   "file_extension": ".py",
   "mimetype": "text/x-python",
   "name": "python",
   "nbconvert_exporter": "python",
   "pygments_lexer": "ipython3",
   "version": "3.6.2"
  }
 },
 "nbformat": 4,
 "nbformat_minor": 2
}
